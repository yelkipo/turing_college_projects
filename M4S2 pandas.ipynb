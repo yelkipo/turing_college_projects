{
 "cells": [
  {
   "cell_type": "code",
   "execution_count": 127,
   "metadata": {},
   "outputs": [
    {
     "name": "stdout",
     "output_type": "stream",
     "text": [
      "Requirement already satisfied: pandas in c:\\users\\dell\\anaconda3\\lib\\site-packages (2.2.2)\n",
      "Requirement already satisfied: numpy>=1.26.0 in c:\\users\\dell\\anaconda3\\lib\\site-packages (from pandas) (1.26.4)\n",
      "Requirement already satisfied: python-dateutil>=2.8.2 in c:\\users\\dell\\anaconda3\\lib\\site-packages (from pandas) (2.9.0.post0)\n",
      "Requirement already satisfied: pytz>=2020.1 in c:\\users\\dell\\anaconda3\\lib\\site-packages (from pandas) (2024.1)\n",
      "Requirement already satisfied: tzdata>=2022.7 in c:\\users\\dell\\anaconda3\\lib\\site-packages (from pandas) (2023.3)\n",
      "Requirement already satisfied: six>=1.5 in c:\\users\\dell\\anaconda3\\lib\\site-packages (from python-dateutil>=2.8.2->pandas) (1.16.0)\n",
      "Note: you may need to restart the kernel to use updated packages.\n"
     ]
    }
   ],
   "source": [
    "pip install pandas\n"
   ]
  },
  {
   "cell_type": "code",
   "execution_count": 128,
   "metadata": {},
   "outputs": [
    {
     "name": "stdout",
     "output_type": "stream",
     "text": [
      "Requirement already satisfied: black in c:\\users\\dell\\anaconda3\\lib\\site-packages (24.8.0)\n",
      "Requirement already satisfied: click>=8.0.0 in c:\\users\\dell\\anaconda3\\lib\\site-packages (from black) (8.1.7)\n",
      "Requirement already satisfied: mypy-extensions>=0.4.3 in c:\\users\\dell\\anaconda3\\lib\\site-packages (from black) (1.0.0)\n",
      "Requirement already satisfied: packaging>=22.0 in c:\\users\\dell\\anaconda3\\lib\\site-packages (from black) (24.1)\n",
      "Requirement already satisfied: pathspec>=0.9.0 in c:\\users\\dell\\anaconda3\\lib\\site-packages (from black) (0.10.3)\n",
      "Requirement already satisfied: platformdirs>=2 in c:\\users\\dell\\anaconda3\\lib\\site-packages (from black) (3.10.0)\n",
      "Requirement already satisfied: colorama in c:\\users\\dell\\anaconda3\\lib\\site-packages (from click>=8.0.0->black) (0.4.6)\n",
      "Note: you may need to restart the kernel to use updated packages.\n"
     ]
    }
   ],
   "source": [
    "pip install black"
   ]
  },
  {
   "cell_type": "code",
   "execution_count": 2,
   "metadata": {},
   "outputs": [],
   "source": [
    "import pandas as pd"
   ]
  },
  {
   "cell_type": "code",
   "execution_count": 3,
   "metadata": {},
   "outputs": [],
   "source": [
    "spotify_data = pd.read_csv(\"C:\\\\Users\\\\Dell\\\\Desktop\\\\spotifytoptracks.csv\")"
   ]
  },
  {
   "cell_type": "code",
   "execution_count": null,
   "metadata": {},
   "outputs": [
    {
     "name": "stdout",
     "output_type": "stream",
     "text": [
      "   Unnamed: 0       artist                                  album  \\\n",
      "0           0   The Weeknd                            After Hours   \n",
      "1           1  Tones And I                           Dance Monkey   \n",
      "2           2  Roddy Ricch  Please Excuse Me For Being Antisocial   \n",
      "3           3    SAINt JHN                  Roses (Imanbek Remix)   \n",
      "4           4     Dua Lipa                       Future Nostalgia   \n",
      "\n",
      "              track_name                track_id  energy  danceability  key  \\\n",
      "0        Blinding Lights  0VjIjW4GlUZAMYd2vXMi3b   0.730         0.514    1   \n",
      "1           Dance Monkey  1rgnBhdG2JDFTbYkYRZAku   0.593         0.825    6   \n",
      "2                The Box  0nbXyq5TXYPCO7pr3N8S4I   0.586         0.896   10   \n",
      "3  Roses - Imanbek Remix  2Wo6QQD1KMDWeFkkjLqwx5   0.721         0.785    8   \n",
      "4        Don't Start Now  3PfIrDoz19wz7qK7tYeu62   0.793         0.793   11   \n",
      "\n",
      "   loudness  acousticness  speechiness  instrumentalness  liveness  valence  \\\n",
      "0    -5.934       0.00146       0.0598          0.000095    0.0897    0.334   \n",
      "1    -6.401       0.68800       0.0988          0.000161    0.1700    0.540   \n",
      "2    -6.687       0.10400       0.0559          0.000000    0.7900    0.642   \n",
      "3    -5.457       0.01490       0.0506          0.004320    0.2850    0.894   \n",
      "4    -4.521       0.01230       0.0830          0.000000    0.0951    0.679   \n",
      "\n",
      "     tempo  duration_ms              genre  \n",
      "0  171.005       200040           R&B/Soul  \n",
      "1   98.078       209755  Alternative/Indie  \n",
      "2  116.971       196653        Hip-Hop/Rap  \n",
      "3  121.962       176219   Dance/Electronic  \n",
      "4  123.950       183290           Nu-disco  \n"
     ]
    }
   ],
   "source": [
    "# exploring the data\n",
    "print(spotify_data.head())"
   ]
  },
  {
   "cell_type": "code",
   "execution_count": null,
   "metadata": {},
   "outputs": [
    {
     "name": "stdout",
     "output_type": "stream",
     "text": [
      "artist              0\n",
      "album               0\n",
      "track_name          0\n",
      "track_id            0\n",
      "energy              0\n",
      "danceability        0\n",
      "key                 0\n",
      "loudness            0\n",
      "acousticness        0\n",
      "speechiness         0\n",
      "instrumentalness    0\n",
      "liveness            0\n",
      "valence             0\n",
      "tempo               0\n",
      "duration_ms         0\n",
      "genre               0\n",
      "dtype: int64\n"
     ]
    }
   ],
   "source": [
    "df = pd.DataFrame(spotify_data)\n",
    "# dropping the 'unnanmed' column\n",
    "df = df.drop(columns=[\"Unnamed: 0\"])\n",
    "# checking if there are any null values\n",
    "missing_values = df.isnull().sum()\n",
    "print(missing_values)\n",
    "\n",
    "# there are no null values"
   ]
  },
  {
   "cell_type": "code",
   "execution_count": null,
   "metadata": {},
   "outputs": [
    {
     "name": "stdout",
     "output_type": "stream",
     "text": [
      "0\n"
     ]
    }
   ],
   "source": [
    "# checking for duplicate values\n",
    "print(df.duplicated().sum())"
   ]
  },
  {
   "cell_type": "code",
   "execution_count": null,
   "metadata": {},
   "outputs": [
    {
     "name": "stdout",
     "output_type": "stream",
     "text": [
      "          energy  danceability        key   loudness  acousticness  \\\n",
      "count  50.000000     50.000000  50.000000  50.000000     50.000000   \n",
      "mean    0.609300      0.716720   5.720000  -6.225900      0.256206   \n",
      "std     0.154348      0.124975   3.709007   2.349744      0.265250   \n",
      "min     0.225000      0.351000   0.000000 -14.454000      0.001460   \n",
      "25%     0.494000      0.672500   2.000000  -7.552500      0.052800   \n",
      "50%     0.597000      0.746000   6.500000  -5.991500      0.188500   \n",
      "75%     0.729750      0.794500   8.750000  -4.285500      0.298750   \n",
      "max     0.855000      0.935000  11.000000  -3.280000      0.934000   \n",
      "\n",
      "       speechiness  instrumentalness   liveness    valence       tempo  \\\n",
      "count    50.000000         50.000000  50.000000  50.000000   50.000000   \n",
      "mean      0.124158          0.015962   0.196552   0.555710  119.690460   \n",
      "std       0.116836          0.094312   0.176610   0.216386   25.414778   \n",
      "min       0.029000          0.000000   0.057400   0.060500   75.801000   \n",
      "25%       0.048325          0.000000   0.093950   0.434000   99.557250   \n",
      "50%       0.070050          0.000000   0.111000   0.560000  116.969000   \n",
      "75%       0.155500          0.000020   0.271250   0.726250  132.317000   \n",
      "max       0.487000          0.657000   0.792000   0.925000  180.067000   \n",
      "\n",
      "         duration_ms  \n",
      "count      50.000000  \n",
      "mean   199955.360000  \n",
      "std     33996.122488  \n",
      "min    140526.000000  \n",
      "25%    175845.500000  \n",
      "50%    197853.500000  \n",
      "75%    215064.000000  \n",
      "max    312820.000000  \n"
     ]
    }
   ],
   "source": [
    "# checking basic descriptive statistics for numerical columns\n",
    "print(df.describe())"
   ]
  },
  {
   "cell_type": "code",
   "execution_count": null,
   "metadata": {},
   "outputs": [
    {
     "name": "stdout",
     "output_type": "stream",
     "text": [
      "Outliers by Energy:\n",
      " No outliers identified \n",
      "\n",
      "Outliers by Danceability:\n",
      " 16    0.459\n",
      "44    0.351\n",
      "47    0.464\n",
      "Name: danceability, dtype: float64 \n",
      "\n",
      "Outliers by Loudness:\n",
      " 24   -14.454\n",
      "Name: loudness, dtype: float64 \n",
      "\n",
      "Outliers by Acousticness:\n",
      " 1     0.688\n",
      "7     0.731\n",
      "9     0.751\n",
      "18    0.837\n",
      "24    0.902\n",
      "44    0.934\n",
      "47    0.866\n",
      "Name: acousticness, dtype: float64 \n",
      "\n",
      "Outliers by Speechiness:\n",
      " 19    0.487\n",
      "26    0.375\n",
      "27    0.375\n",
      "29    0.342\n",
      "38    0.389\n",
      "43    0.379\n",
      "Name: speechiness, dtype: float64 \n",
      "\n",
      "Outliers by Instrumentalness:\n",
      " 0     0.000095\n",
      "1     0.000161\n",
      "3     0.004320\n",
      "10    0.000134\n",
      "12    0.002440\n",
      "24    0.657000\n",
      "26    0.130000\n",
      "33    0.000209\n",
      "34    0.001880\n",
      "39    0.000064\n",
      "41    0.001090\n",
      "48    0.000658\n",
      "Name: instrumentalness, dtype: float64 \n",
      "\n",
      "Outliers by Liveness:\n",
      " 2     0.790\n",
      "7     0.696\n",
      "41    0.792\n",
      "Name: liveness, dtype: float64 \n",
      "\n",
      "Outliers by Valence:\n",
      " No outliers identified \n",
      "\n",
      "Outliers by Tempo:\n",
      " No outliers identified \n",
      "\n",
      "Outliers by Duration_ms:\n",
      " 43    295177\n",
      "49    312820\n",
      "Name: duration_ms, dtype: int64 \n",
      "\n"
     ]
    }
   ],
   "source": [
    "# creating function to identify outliers\n",
    "def find_outliers_IQR(df):\n",
    "\n",
    "    q1 = df.quantile(0.25)\n",
    "\n",
    "    q3 = df.quantile(0.75)\n",
    "\n",
    "    IQR = q3 - q1\n",
    "\n",
    "    outliers = df[((df < (q1 - 1.5 * IQR)) | (df > (q3 + 1.5 * IQR)))]\n",
    "\n",
    "    return outliers if not outliers.empty else \"No outliers identified\"\n",
    "\n",
    "\n",
    "outlier_features = [\n",
    "    \"energy\",\n",
    "    \"danceability\",\n",
    "    \"loudness\",\n",
    "    \"acousticness\",\n",
    "    \"speechiness\",\n",
    "    \"instrumentalness\",\n",
    "    \"liveness\",\n",
    "    \"valence\",\n",
    "    \"tempo\",\n",
    "    \"duration_ms\",\n",
    "]\n",
    "\n",
    "outliers_dict = {}  # Store outliers for each feature\n",
    "\n",
    "for feature in outlier_features:\n",
    "    outliers_dict[feature] = find_outliers_IQR(df[feature])\n",
    "    print(f\"Outliers by {feature.capitalize()}:\\n\", outliers_dict[feature], \"\\n\")"
   ]
  },
  {
   "cell_type": "code",
   "execution_count": null,
   "metadata": {},
   "outputs": [
    {
     "name": "stdout",
     "output_type": "stream",
     "text": [
      "50\n"
     ]
    }
   ],
   "source": [
    "# counted the observations/rows\n",
    "num_observations = len(df)\n",
    "print(num_observations)"
   ]
  },
  {
   "cell_type": "code",
   "execution_count": null,
   "metadata": {},
   "outputs": [
    {
     "name": "stdout",
     "output_type": "stream",
     "text": [
      "16\n"
     ]
    }
   ],
   "source": [
    "# counted the features/columns\n",
    "num_features = len(df.columns)\n",
    "print(num_features)"
   ]
  },
  {
   "cell_type": "code",
   "execution_count": null,
   "metadata": {},
   "outputs": [
    {
     "name": "stdout",
     "output_type": "stream",
     "text": [
      "artist               object\n",
      "album                object\n",
      "track_name           object\n",
      "track_id             object\n",
      "energy              float64\n",
      "danceability        float64\n",
      "key                   int64\n",
      "loudness            float64\n",
      "acousticness        float64\n",
      "speechiness         float64\n",
      "instrumentalness    float64\n",
      "liveness            float64\n",
      "valence             float64\n",
      "tempo               float64\n",
      "duration_ms           int64\n",
      "genre                object\n",
      "dtype: object\n"
     ]
    }
   ],
   "source": [
    "# checked the data types: 5 features are categorical, 11 features are numeric\n",
    "print(df.dtypes)"
   ]
  },
  {
   "cell_type": "code",
   "execution_count": null,
   "metadata": {},
   "outputs": [
    {
     "name": "stdout",
     "output_type": "stream",
     "text": [
      "artist\n",
      "Billie Eilish    3\n",
      "Dua Lipa         3\n",
      "Harry Styles     2\n",
      "Justin Bieber    2\n",
      "Lewis Capaldi    2\n",
      "Post Malone      2\n",
      "Travis Scott     3\n",
      "Name: track_name, dtype: int64\n",
      "There are 7 artists with more than 1 popular track\n"
     ]
    }
   ],
   "source": [
    "# artists that have more than 1 popular track\n",
    "track_counts = df.groupby(\"artist\")[\"track_name\"].count()\n",
    "artists_with_multiple_tracks = track_counts[track_counts > 1]\n",
    "artists_count = artists_with_multiple_tracks.count()\n",
    "print(artists_with_multiple_tracks)\n",
    "print(f\"There are {artists_count} artists with more than 1 popular track\")"
   ]
  },
  {
   "cell_type": "code",
   "execution_count": null,
   "metadata": {},
   "outputs": [
    {
     "name": "stdout",
     "output_type": "stream",
     "text": [
      "Most popular artists are:\n",
      "artist\n",
      "Billie Eilish    3\n",
      "Dua Lipa         3\n",
      "Travis Scott     3\n",
      "Name: track_name, dtype: int64\n"
     ]
    }
   ],
   "source": [
    "# the most popular artist\n",
    "max_tracks = track_counts.max()\n",
    "most_popular_artists = track_counts[track_counts == max_tracks]\n",
    "print(f\"Most popular artists are:\\n{most_popular_artists}\")"
   ]
  },
  {
   "cell_type": "code",
   "execution_count": null,
   "metadata": {},
   "outputs": [
    {
     "name": "stdout",
     "output_type": "stream",
     "text": [
      "There are 40 artists in the top 50\n"
     ]
    }
   ],
   "source": [
    "# How many artists in total have their songs in the top 50\n",
    "unique_artists = df[\"artist\"].nunique()\n",
    "print(f\"There are {unique_artists} artists in the top 50\")"
   ]
  },
  {
   "cell_type": "code",
   "execution_count": null,
   "metadata": {},
   "outputs": [
    {
     "name": "stdout",
     "output_type": "stream",
     "text": [
      "artist         album               \n",
      "Dua Lipa       Future Nostalgia        3\n",
      "Harry Styles   Fine Line               2\n",
      "Justin Bieber  Changes                 2\n",
      "Post Malone    Hollywood's Bleeding    2\n",
      "Name: track_name, dtype: int64\n"
     ]
    }
   ],
   "source": [
    "# albums that have more than 1 popular track\n",
    "track_counts = df.groupby([\"artist\", \"album\"])[\"track_name\"].count()\n",
    "albums_with_multiple_popular_tracks = track_counts[track_counts > 1]\n",
    "print(albums_with_multiple_popular_tracks)"
   ]
  },
  {
   "cell_type": "code",
   "execution_count": null,
   "metadata": {},
   "outputs": [
    {
     "name": "stdout",
     "output_type": "stream",
     "text": [
      "There are 45 unique albums in the top 50\n"
     ]
    }
   ],
   "source": [
    "# How many albums in total have their songs in the top 50\n",
    "unique_albums_count = df[\"album\"].nunique()\n",
    "print(f\"There are {unique_albums_count} unique albums in the top 50\")"
   ]
  },
  {
   "cell_type": "code",
   "execution_count": null,
   "metadata": {},
   "outputs": [
    {
     "data": {
      "text/html": [
       "<div>\n",
       "<style scoped>\n",
       "    .dataframe tbody tr th:only-of-type {\n",
       "        vertical-align: middle;\n",
       "    }\n",
       "\n",
       "    .dataframe tbody tr th {\n",
       "        vertical-align: top;\n",
       "    }\n",
       "\n",
       "    .dataframe thead th {\n",
       "        text-align: right;\n",
       "    }\n",
       "</style>\n",
       "<table border=\"1\" class=\"dataframe\">\n",
       "  <thead>\n",
       "    <tr style=\"text-align: right;\">\n",
       "      <th></th>\n",
       "      <th>artist</th>\n",
       "      <th>album</th>\n",
       "      <th>track_name</th>\n",
       "      <th>track_id</th>\n",
       "      <th>energy</th>\n",
       "      <th>danceability</th>\n",
       "      <th>key</th>\n",
       "      <th>loudness</th>\n",
       "      <th>acousticness</th>\n",
       "      <th>speechiness</th>\n",
       "      <th>instrumentalness</th>\n",
       "      <th>liveness</th>\n",
       "      <th>valence</th>\n",
       "      <th>tempo</th>\n",
       "      <th>duration_ms</th>\n",
       "      <th>genre</th>\n",
       "    </tr>\n",
       "  </thead>\n",
       "  <tbody>\n",
       "    <tr>\n",
       "      <th>27</th>\n",
       "      <td>Cardi B</td>\n",
       "      <td>WAP (feat. Megan Thee Stallion)</td>\n",
       "      <td>WAP (feat. Megan Thee Stallion)</td>\n",
       "      <td>4Oun2ylbjFKMPTiaSbbCih</td>\n",
       "      <td>0.454</td>\n",
       "      <td>0.935</td>\n",
       "      <td>1</td>\n",
       "      <td>-7.509</td>\n",
       "      <td>0.0194</td>\n",
       "      <td>0.3750</td>\n",
       "      <td>0.000000</td>\n",
       "      <td>0.0824</td>\n",
       "      <td>0.357</td>\n",
       "      <td>133.073</td>\n",
       "      <td>187541</td>\n",
       "      <td>Hip-Hop/Trap</td>\n",
       "    </tr>\n",
       "    <tr>\n",
       "      <th>2</th>\n",
       "      <td>Roddy Ricch</td>\n",
       "      <td>Please Excuse Me For Being Antisocial</td>\n",
       "      <td>The Box</td>\n",
       "      <td>0nbXyq5TXYPCO7pr3N8S4I</td>\n",
       "      <td>0.586</td>\n",
       "      <td>0.896</td>\n",
       "      <td>10</td>\n",
       "      <td>-6.687</td>\n",
       "      <td>0.1040</td>\n",
       "      <td>0.0559</td>\n",
       "      <td>0.000000</td>\n",
       "      <td>0.7900</td>\n",
       "      <td>0.642</td>\n",
       "      <td>116.971</td>\n",
       "      <td>196653</td>\n",
       "      <td>Hip-Hop/Rap</td>\n",
       "    </tr>\n",
       "    <tr>\n",
       "      <th>39</th>\n",
       "      <td>Regard</td>\n",
       "      <td>Ride It</td>\n",
       "      <td>Ride It</td>\n",
       "      <td>2tnVG71enUj33Ic2nFN6kZ</td>\n",
       "      <td>0.751</td>\n",
       "      <td>0.880</td>\n",
       "      <td>7</td>\n",
       "      <td>-4.258</td>\n",
       "      <td>0.1770</td>\n",
       "      <td>0.0874</td>\n",
       "      <td>0.000064</td>\n",
       "      <td>0.1060</td>\n",
       "      <td>0.884</td>\n",
       "      <td>117.948</td>\n",
       "      <td>157606</td>\n",
       "      <td>Dance/Electronic</td>\n",
       "    </tr>\n",
       "    <tr>\n",
       "      <th>28</th>\n",
       "      <td>Surfaces</td>\n",
       "      <td>Where the Light Is</td>\n",
       "      <td>Sunday Best</td>\n",
       "      <td>1Cv1YLb4q0RzL6pybtaMLo</td>\n",
       "      <td>0.525</td>\n",
       "      <td>0.878</td>\n",
       "      <td>5</td>\n",
       "      <td>-6.832</td>\n",
       "      <td>0.1830</td>\n",
       "      <td>0.0578</td>\n",
       "      <td>0.000000</td>\n",
       "      <td>0.0714</td>\n",
       "      <td>0.694</td>\n",
       "      <td>112.022</td>\n",
       "      <td>158571</td>\n",
       "      <td>Electro-pop</td>\n",
       "    </tr>\n",
       "    <tr>\n",
       "      <th>33</th>\n",
       "      <td>BENEE</td>\n",
       "      <td>Hey u x</td>\n",
       "      <td>Supalonely (feat. Gus Dapperton)</td>\n",
       "      <td>3GZoWLVbmxcBys6g0DLFLf</td>\n",
       "      <td>0.631</td>\n",
       "      <td>0.862</td>\n",
       "      <td>7</td>\n",
       "      <td>-4.746</td>\n",
       "      <td>0.2910</td>\n",
       "      <td>0.0515</td>\n",
       "      <td>0.000209</td>\n",
       "      <td>0.1230</td>\n",
       "      <td>0.841</td>\n",
       "      <td>128.978</td>\n",
       "      <td>223488</td>\n",
       "      <td>Alternative/Indie</td>\n",
       "    </tr>\n",
       "  </tbody>\n",
       "</table>\n",
       "</div>"
      ],
      "text/plain": [
       "         artist                                  album  \\\n",
       "27      Cardi B        WAP (feat. Megan Thee Stallion)   \n",
       "2   Roddy Ricch  Please Excuse Me For Being Antisocial   \n",
       "39       Regard                                Ride It   \n",
       "28     Surfaces                     Where the Light Is   \n",
       "33        BENEE                                Hey u x   \n",
       "\n",
       "                          track_name                track_id  energy  \\\n",
       "27   WAP (feat. Megan Thee Stallion)  4Oun2ylbjFKMPTiaSbbCih   0.454   \n",
       "2                            The Box  0nbXyq5TXYPCO7pr3N8S4I   0.586   \n",
       "39                           Ride It  2tnVG71enUj33Ic2nFN6kZ   0.751   \n",
       "28                       Sunday Best  1Cv1YLb4q0RzL6pybtaMLo   0.525   \n",
       "33  Supalonely (feat. Gus Dapperton)  3GZoWLVbmxcBys6g0DLFLf   0.631   \n",
       "\n",
       "    danceability  key  loudness  acousticness  speechiness  instrumentalness  \\\n",
       "27         0.935    1    -7.509        0.0194       0.3750          0.000000   \n",
       "2          0.896   10    -6.687        0.1040       0.0559          0.000000   \n",
       "39         0.880    7    -4.258        0.1770       0.0874          0.000064   \n",
       "28         0.878    5    -6.832        0.1830       0.0578          0.000000   \n",
       "33         0.862    7    -4.746        0.2910       0.0515          0.000209   \n",
       "\n",
       "    liveness  valence    tempo  duration_ms              genre  \n",
       "27    0.0824    0.357  133.073       187541       Hip-Hop/Trap  \n",
       "2     0.7900    0.642  116.971       196653        Hip-Hop/Rap  \n",
       "39    0.1060    0.884  117.948       157606   Dance/Electronic  \n",
       "28    0.0714    0.694  112.022       158571        Electro-pop  \n",
       "33    0.1230    0.841  128.978       223488  Alternative/Indie  "
      ]
     },
     "execution_count": 119,
     "metadata": {},
     "output_type": "execute_result"
    }
   ],
   "source": [
    "# tracks with a danceability score above 0.7\n",
    "high_danceability_tracks = df[df[\"danceability\"] > 0.7].sort_values(\n",
    "    by=\"danceability\", ascending=False\n",
    ")\n",
    "high_danceability_tracks.head()"
   ]
  },
  {
   "cell_type": "code",
   "execution_count": null,
   "metadata": {},
   "outputs": [
    {
     "data": {
      "text/html": [
       "<div>\n",
       "<style scoped>\n",
       "    .dataframe tbody tr th:only-of-type {\n",
       "        vertical-align: middle;\n",
       "    }\n",
       "\n",
       "    .dataframe tbody tr th {\n",
       "        vertical-align: top;\n",
       "    }\n",
       "\n",
       "    .dataframe thead th {\n",
       "        text-align: right;\n",
       "    }\n",
       "</style>\n",
       "<table border=\"1\" class=\"dataframe\">\n",
       "  <thead>\n",
       "    <tr style=\"text-align: right;\">\n",
       "      <th></th>\n",
       "      <th>artist</th>\n",
       "      <th>album</th>\n",
       "      <th>track_name</th>\n",
       "      <th>track_id</th>\n",
       "      <th>energy</th>\n",
       "      <th>danceability</th>\n",
       "      <th>key</th>\n",
       "      <th>loudness</th>\n",
       "      <th>acousticness</th>\n",
       "      <th>speechiness</th>\n",
       "      <th>instrumentalness</th>\n",
       "      <th>liveness</th>\n",
       "      <th>valence</th>\n",
       "      <th>tempo</th>\n",
       "      <th>duration_ms</th>\n",
       "      <th>genre</th>\n",
       "    </tr>\n",
       "  </thead>\n",
       "  <tbody>\n",
       "    <tr>\n",
       "      <th>44</th>\n",
       "      <td>Billie Eilish</td>\n",
       "      <td>lovely (with Khalid)</td>\n",
       "      <td>lovely (with Khalid)</td>\n",
       "      <td>0u2P5u6lvoDfwTYjAADbn4</td>\n",
       "      <td>0.296</td>\n",
       "      <td>0.351</td>\n",
       "      <td>4</td>\n",
       "      <td>-10.109</td>\n",
       "      <td>0.934</td>\n",
       "      <td>0.0333</td>\n",
       "      <td>0.0</td>\n",
       "      <td>0.095</td>\n",
       "      <td>0.12</td>\n",
       "      <td>115.284</td>\n",
       "      <td>200186</td>\n",
       "      <td>Chamber pop</td>\n",
       "    </tr>\n",
       "  </tbody>\n",
       "</table>\n",
       "</div>"
      ],
      "text/plain": [
       "           artist                 album            track_name  \\\n",
       "44  Billie Eilish  lovely (with Khalid)  lovely (with Khalid)   \n",
       "\n",
       "                  track_id  energy  danceability  key  loudness  acousticness  \\\n",
       "44  0u2P5u6lvoDfwTYjAADbn4   0.296         0.351    4   -10.109         0.934   \n",
       "\n",
       "    speechiness  instrumentalness  liveness  valence    tempo  duration_ms  \\\n",
       "44       0.0333               0.0     0.095     0.12  115.284       200186   \n",
       "\n",
       "          genre  \n",
       "44  Chamber pop  "
      ]
     },
     "execution_count": 66,
     "metadata": {},
     "output_type": "execute_result"
    }
   ],
   "source": [
    "# tracks with a danceability score below 0.4\n",
    "low_danceability_tracks = df[df[\"danceability\"] < 0.4]\n",
    "low_danceability_tracks.head()"
   ]
  },
  {
   "cell_type": "code",
   "execution_count": null,
   "metadata": {},
   "outputs": [
    {
     "data": {
      "text/html": [
       "<div>\n",
       "<style scoped>\n",
       "    .dataframe tbody tr th:only-of-type {\n",
       "        vertical-align: middle;\n",
       "    }\n",
       "\n",
       "    .dataframe tbody tr th {\n",
       "        vertical-align: top;\n",
       "    }\n",
       "\n",
       "    .dataframe thead th {\n",
       "        text-align: right;\n",
       "    }\n",
       "</style>\n",
       "<table border=\"1\" class=\"dataframe\">\n",
       "  <thead>\n",
       "    <tr style=\"text-align: right;\">\n",
       "      <th></th>\n",
       "      <th>artist</th>\n",
       "      <th>album</th>\n",
       "      <th>track_name</th>\n",
       "      <th>track_id</th>\n",
       "      <th>energy</th>\n",
       "      <th>danceability</th>\n",
       "      <th>key</th>\n",
       "      <th>loudness</th>\n",
       "      <th>acousticness</th>\n",
       "      <th>speechiness</th>\n",
       "      <th>instrumentalness</th>\n",
       "      <th>liveness</th>\n",
       "      <th>valence</th>\n",
       "      <th>tempo</th>\n",
       "      <th>duration_ms</th>\n",
       "      <th>genre</th>\n",
       "    </tr>\n",
       "  </thead>\n",
       "  <tbody>\n",
       "    <tr>\n",
       "      <th>10</th>\n",
       "      <td>KAROL G</td>\n",
       "      <td>Tusa</td>\n",
       "      <td>Tusa</td>\n",
       "      <td>7k4t7uLgtOxPwTpFmtJNTY</td>\n",
       "      <td>0.715</td>\n",
       "      <td>0.803</td>\n",
       "      <td>2</td>\n",
       "      <td>-3.280</td>\n",
       "      <td>0.2950</td>\n",
       "      <td>0.2980</td>\n",
       "      <td>0.000134</td>\n",
       "      <td>0.0574</td>\n",
       "      <td>0.574</td>\n",
       "      <td>101.085</td>\n",
       "      <td>200960</td>\n",
       "      <td>Pop</td>\n",
       "    </tr>\n",
       "    <tr>\n",
       "      <th>40</th>\n",
       "      <td>Travis Scott</td>\n",
       "      <td>Birds In The Trap Sing McKnight</td>\n",
       "      <td>goosebumps</td>\n",
       "      <td>6gBFPUFcJLzWGx4lenP6h2</td>\n",
       "      <td>0.728</td>\n",
       "      <td>0.841</td>\n",
       "      <td>7</td>\n",
       "      <td>-3.370</td>\n",
       "      <td>0.0847</td>\n",
       "      <td>0.0484</td>\n",
       "      <td>0.000000</td>\n",
       "      <td>0.1490</td>\n",
       "      <td>0.430</td>\n",
       "      <td>130.049</td>\n",
       "      <td>243837</td>\n",
       "      <td>Hip-Hop/Rap</td>\n",
       "    </tr>\n",
       "    <tr>\n",
       "      <th>31</th>\n",
       "      <td>Dua Lipa</td>\n",
       "      <td>Future Nostalgia</td>\n",
       "      <td>Break My Heart</td>\n",
       "      <td>017PF4Q3l4DBUiWoXk4OWT</td>\n",
       "      <td>0.729</td>\n",
       "      <td>0.730</td>\n",
       "      <td>4</td>\n",
       "      <td>-3.434</td>\n",
       "      <td>0.1670</td>\n",
       "      <td>0.0883</td>\n",
       "      <td>0.000001</td>\n",
       "      <td>0.3490</td>\n",
       "      <td>0.467</td>\n",
       "      <td>113.013</td>\n",
       "      <td>221820</td>\n",
       "      <td>Dance-pop/Disco</td>\n",
       "    </tr>\n",
       "    <tr>\n",
       "      <th>38</th>\n",
       "      <td>Maluma</td>\n",
       "      <td>PAPI JUANCHO</td>\n",
       "      <td>Hawái</td>\n",
       "      <td>1yoMvmasuxZfqHEipJhRbp</td>\n",
       "      <td>0.727</td>\n",
       "      <td>0.783</td>\n",
       "      <td>6</td>\n",
       "      <td>-3.454</td>\n",
       "      <td>0.1850</td>\n",
       "      <td>0.3890</td>\n",
       "      <td>0.000025</td>\n",
       "      <td>0.0626</td>\n",
       "      <td>0.558</td>\n",
       "      <td>180.067</td>\n",
       "      <td>199112</td>\n",
       "      <td>Pop</td>\n",
       "    </tr>\n",
       "    <tr>\n",
       "      <th>12</th>\n",
       "      <td>Post Malone</td>\n",
       "      <td>Hollywood's Bleeding</td>\n",
       "      <td>Circles</td>\n",
       "      <td>21jGcNKet2qwijlDFuPiPb</td>\n",
       "      <td>0.762</td>\n",
       "      <td>0.695</td>\n",
       "      <td>0</td>\n",
       "      <td>-3.497</td>\n",
       "      <td>0.1920</td>\n",
       "      <td>0.0395</td>\n",
       "      <td>0.002440</td>\n",
       "      <td>0.0863</td>\n",
       "      <td>0.553</td>\n",
       "      <td>120.042</td>\n",
       "      <td>215280</td>\n",
       "      <td>Pop/Soft Rock</td>\n",
       "    </tr>\n",
       "  </tbody>\n",
       "</table>\n",
       "</div>"
      ],
      "text/plain": [
       "          artist                            album      track_name  \\\n",
       "10       KAROL G                             Tusa            Tusa   \n",
       "40  Travis Scott  Birds In The Trap Sing McKnight      goosebumps   \n",
       "31      Dua Lipa                 Future Nostalgia  Break My Heart   \n",
       "38        Maluma                     PAPI JUANCHO           Hawái   \n",
       "12   Post Malone             Hollywood's Bleeding         Circles   \n",
       "\n",
       "                  track_id  energy  danceability  key  loudness  acousticness  \\\n",
       "10  7k4t7uLgtOxPwTpFmtJNTY   0.715         0.803    2    -3.280        0.2950   \n",
       "40  6gBFPUFcJLzWGx4lenP6h2   0.728         0.841    7    -3.370        0.0847   \n",
       "31  017PF4Q3l4DBUiWoXk4OWT   0.729         0.730    4    -3.434        0.1670   \n",
       "38  1yoMvmasuxZfqHEipJhRbp   0.727         0.783    6    -3.454        0.1850   \n",
       "12  21jGcNKet2qwijlDFuPiPb   0.762         0.695    0    -3.497        0.1920   \n",
       "\n",
       "    speechiness  instrumentalness  liveness  valence    tempo  duration_ms  \\\n",
       "10       0.2980          0.000134    0.0574    0.574  101.085       200960   \n",
       "40       0.0484          0.000000    0.1490    0.430  130.049       243837   \n",
       "31       0.0883          0.000001    0.3490    0.467  113.013       221820   \n",
       "38       0.3890          0.000025    0.0626    0.558  180.067       199112   \n",
       "12       0.0395          0.002440    0.0863    0.553  120.042       215280   \n",
       "\n",
       "              genre  \n",
       "10              Pop  \n",
       "40      Hip-Hop/Rap  \n",
       "31  Dance-pop/Disco  \n",
       "38              Pop  \n",
       "12    Pop/Soft Rock  "
      ]
     },
     "execution_count": 120,
     "metadata": {},
     "output_type": "execute_result"
    }
   ],
   "source": [
    "# tracks with the loudness above -5\n",
    "loud_tracks = df[df[\"loudness\"] > -5].sort_values(by=\"loudness\", ascending=False)\n",
    "loud_tracks.head()"
   ]
  },
  {
   "cell_type": "code",
   "execution_count": null,
   "metadata": {},
   "outputs": [
    {
     "data": {
      "text/html": [
       "<div>\n",
       "<style scoped>\n",
       "    .dataframe tbody tr th:only-of-type {\n",
       "        vertical-align: middle;\n",
       "    }\n",
       "\n",
       "    .dataframe tbody tr th {\n",
       "        vertical-align: top;\n",
       "    }\n",
       "\n",
       "    .dataframe thead th {\n",
       "        text-align: right;\n",
       "    }\n",
       "</style>\n",
       "<table border=\"1\" class=\"dataframe\">\n",
       "  <thead>\n",
       "    <tr style=\"text-align: right;\">\n",
       "      <th></th>\n",
       "      <th>artist</th>\n",
       "      <th>album</th>\n",
       "      <th>track_name</th>\n",
       "      <th>track_id</th>\n",
       "      <th>energy</th>\n",
       "      <th>danceability</th>\n",
       "      <th>key</th>\n",
       "      <th>loudness</th>\n",
       "      <th>acousticness</th>\n",
       "      <th>speechiness</th>\n",
       "      <th>instrumentalness</th>\n",
       "      <th>liveness</th>\n",
       "      <th>valence</th>\n",
       "      <th>tempo</th>\n",
       "      <th>duration_ms</th>\n",
       "      <th>genre</th>\n",
       "    </tr>\n",
       "  </thead>\n",
       "  <tbody>\n",
       "    <tr>\n",
       "      <th>24</th>\n",
       "      <td>Billie Eilish</td>\n",
       "      <td>everything i wanted</td>\n",
       "      <td>everything i wanted</td>\n",
       "      <td>3ZCTVFBt2Brf31RLEnCkWJ</td>\n",
       "      <td>0.225</td>\n",
       "      <td>0.704</td>\n",
       "      <td>6</td>\n",
       "      <td>-14.454</td>\n",
       "      <td>0.902</td>\n",
       "      <td>0.0994</td>\n",
       "      <td>0.657000</td>\n",
       "      <td>0.106</td>\n",
       "      <td>0.243</td>\n",
       "      <td>120.006</td>\n",
       "      <td>245426</td>\n",
       "      <td>Pop</td>\n",
       "    </tr>\n",
       "    <tr>\n",
       "      <th>26</th>\n",
       "      <td>Billie Eilish</td>\n",
       "      <td>WHEN WE ALL FALL ASLEEP, WHERE DO WE GO?</td>\n",
       "      <td>bad guy</td>\n",
       "      <td>2Fxmhks0bxGSBdJ92vM42m</td>\n",
       "      <td>0.425</td>\n",
       "      <td>0.701</td>\n",
       "      <td>7</td>\n",
       "      <td>-10.965</td>\n",
       "      <td>0.328</td>\n",
       "      <td>0.3750</td>\n",
       "      <td>0.130000</td>\n",
       "      <td>0.100</td>\n",
       "      <td>0.562</td>\n",
       "      <td>135.128</td>\n",
       "      <td>194088</td>\n",
       "      <td>Electro-pop</td>\n",
       "    </tr>\n",
       "    <tr>\n",
       "      <th>44</th>\n",
       "      <td>Billie Eilish</td>\n",
       "      <td>lovely (with Khalid)</td>\n",
       "      <td>lovely (with Khalid)</td>\n",
       "      <td>0u2P5u6lvoDfwTYjAADbn4</td>\n",
       "      <td>0.296</td>\n",
       "      <td>0.351</td>\n",
       "      <td>4</td>\n",
       "      <td>-10.109</td>\n",
       "      <td>0.934</td>\n",
       "      <td>0.0333</td>\n",
       "      <td>0.000000</td>\n",
       "      <td>0.095</td>\n",
       "      <td>0.120</td>\n",
       "      <td>115.284</td>\n",
       "      <td>200186</td>\n",
       "      <td>Chamber pop</td>\n",
       "    </tr>\n",
       "    <tr>\n",
       "      <th>47</th>\n",
       "      <td>JP Saxe</td>\n",
       "      <td>If the World Was Ending (feat. Julia Michaels)</td>\n",
       "      <td>If the World Was Ending - feat. Julia Michaels</td>\n",
       "      <td>2kJwzbxV2ppxnQoYw4GLBZ</td>\n",
       "      <td>0.473</td>\n",
       "      <td>0.464</td>\n",
       "      <td>1</td>\n",
       "      <td>-10.086</td>\n",
       "      <td>0.866</td>\n",
       "      <td>0.1290</td>\n",
       "      <td>0.000000</td>\n",
       "      <td>0.109</td>\n",
       "      <td>0.604</td>\n",
       "      <td>75.801</td>\n",
       "      <td>208687</td>\n",
       "      <td>Pop</td>\n",
       "    </tr>\n",
       "    <tr>\n",
       "      <th>15</th>\n",
       "      <td>Drake</td>\n",
       "      <td>Dark Lane Demo Tapes</td>\n",
       "      <td>Toosie Slide</td>\n",
       "      <td>466cKvZn1j45IpxDdYZqdA</td>\n",
       "      <td>0.490</td>\n",
       "      <td>0.830</td>\n",
       "      <td>1</td>\n",
       "      <td>-8.820</td>\n",
       "      <td>0.289</td>\n",
       "      <td>0.2090</td>\n",
       "      <td>0.000003</td>\n",
       "      <td>0.113</td>\n",
       "      <td>0.845</td>\n",
       "      <td>81.604</td>\n",
       "      <td>247059</td>\n",
       "      <td>Hip-Hop/Rap</td>\n",
       "    </tr>\n",
       "  </tbody>\n",
       "</table>\n",
       "</div>"
      ],
      "text/plain": [
       "           artist                                           album  \\\n",
       "24  Billie Eilish                             everything i wanted   \n",
       "26  Billie Eilish        WHEN WE ALL FALL ASLEEP, WHERE DO WE GO?   \n",
       "44  Billie Eilish                            lovely (with Khalid)   \n",
       "47        JP Saxe  If the World Was Ending (feat. Julia Michaels)   \n",
       "15          Drake                            Dark Lane Demo Tapes   \n",
       "\n",
       "                                        track_name                track_id  \\\n",
       "24                             everything i wanted  3ZCTVFBt2Brf31RLEnCkWJ   \n",
       "26                                         bad guy  2Fxmhks0bxGSBdJ92vM42m   \n",
       "44                            lovely (with Khalid)  0u2P5u6lvoDfwTYjAADbn4   \n",
       "47  If the World Was Ending - feat. Julia Michaels  2kJwzbxV2ppxnQoYw4GLBZ   \n",
       "15                                    Toosie Slide  466cKvZn1j45IpxDdYZqdA   \n",
       "\n",
       "    energy  danceability  key  loudness  acousticness  speechiness  \\\n",
       "24   0.225         0.704    6   -14.454         0.902       0.0994   \n",
       "26   0.425         0.701    7   -10.965         0.328       0.3750   \n",
       "44   0.296         0.351    4   -10.109         0.934       0.0333   \n",
       "47   0.473         0.464    1   -10.086         0.866       0.1290   \n",
       "15   0.490         0.830    1    -8.820         0.289       0.2090   \n",
       "\n",
       "    instrumentalness  liveness  valence    tempo  duration_ms         genre  \n",
       "24          0.657000     0.106    0.243  120.006       245426           Pop  \n",
       "26          0.130000     0.100    0.562  135.128       194088   Electro-pop  \n",
       "44          0.000000     0.095    0.120  115.284       200186   Chamber pop  \n",
       "47          0.000000     0.109    0.604   75.801       208687           Pop  \n",
       "15          0.000003     0.113    0.845   81.604       247059   Hip-Hop/Rap  "
      ]
     },
     "execution_count": 122,
     "metadata": {},
     "output_type": "execute_result"
    }
   ],
   "source": [
    "# tracks with the loudness below -8\n",
    "low_volume_tracks = df[df[\"loudness\"] < -8].sort_values(by=\"loudness\")\n",
    "low_volume_tracks.head()"
   ]
  },
  {
   "cell_type": "code",
   "execution_count": null,
   "metadata": {},
   "outputs": [
    {
     "name": "stdout",
     "output_type": "stream",
     "text": [
      "Longest track: SICKO MODE\n",
      "Shortest track: Mood (feat. iann dior)\n"
     ]
    }
   ],
   "source": [
    "# the longest & the shortest track\n",
    "longest_track = df.loc[df[\"duration_ms\"].idxmax()]\n",
    "shortest_track = df.loc[df[\"duration_ms\"].idxmin()]\n",
    "print(\"Longest track:\", longest_track[\"track_name\"])\n",
    "print(\"Shortest track:\", shortest_track[\"track_name\"])"
   ]
  },
  {
   "cell_type": "code",
   "execution_count": null,
   "metadata": {},
   "outputs": [
    {
     "name": "stdout",
     "output_type": "stream",
     "text": [
      "Most popular genre: Pop\n"
     ]
    }
   ],
   "source": [
    "# the most popular genre\n",
    "genre_counts = df[\"genre\"].value_counts()\n",
    "most_popular_genre = genre_counts.idxmax()\n",
    "print(f\"Most popular genre:\", most_popular_genre)"
   ]
  },
  {
   "cell_type": "code",
   "execution_count": 80,
   "metadata": {},
   "outputs": [
    {
     "name": "stdout",
     "output_type": "stream",
     "text": [
      "Genres with only one song in the top 50:\n",
      "genre\n",
      "Nu-disco                              1\n",
      "R&B/Hip-Hop alternative               1\n",
      "Pop/Soft Rock                         1\n",
      "Pop rap                               1\n",
      "Hip-Hop/Trap                          1\n",
      "Dance-pop/Disco                       1\n",
      "Disco-pop                             1\n",
      "Dreampop/Hip-Hop/R&B                  1\n",
      "Alternative/reggaeton/experimental    1\n",
      "Chamber pop                           1\n",
      "Name: count, dtype: int64\n"
     ]
    }
   ],
   "source": [
    "# Genres with only one song\n",
    "unique_genre_songs = genre_counts[genre_counts == 1]\n",
    "print(\"Genres with only one song in the top 50:\")\n",
    "print(unique_genre_songs)"
   ]
  },
  {
   "cell_type": "code",
   "execution_count": null,
   "metadata": {},
   "outputs": [
    {
     "name": "stdout",
     "output_type": "stream",
     "text": [
      "Total number of unique genres: 16\n"
     ]
    }
   ],
   "source": [
    "# How many genres in total are represented in the top 50\n",
    "unique_genres = df[\"genre\"].nunique()\n",
    "print(\"Total number of unique genres:\", unique_genres)"
   ]
  },
  {
   "cell_type": "code",
   "execution_count": 129,
   "metadata": {},
   "outputs": [
    {
     "name": "stdout",
     "output_type": "stream",
     "text": [
      "Strong positive correlations (cleaned):\n",
      "            energy  loudness\n",
      "energy         NaN  0.752383\n",
      "loudness  0.752383       NaN\n"
     ]
    }
   ],
   "source": [
    "## Feature correlation analysis\n",
    "# Select only numeric columns\n",
    "numeric_df = df.select_dtypes(include=[\"number\"])\n",
    "\n",
    "# Compute correlation matrix\n",
    "correlation_matrix = numeric_df.corr(method='spearman')\n",
    "\n",
    "# finding strongly positively correlated features\n",
    "strong_positive_correlations = correlation_matrix[\n",
    "    (correlation_matrix > 0.7) & (correlation_matrix < 1)\n",
    "]\n",
    "strong_positive_correlations_cleaned = strong_positive_correlations.dropna(\n",
    "    axis=0, how=\"all\"\n",
    ").dropna(axis=1, how=\"all\")\n",
    "\n",
    "print(\"Strong positive correlations (cleaned):\")\n",
    "print(strong_positive_correlations_cleaned)"
   ]
  },
  {
   "cell_type": "code",
   "execution_count": 130,
   "metadata": {},
   "outputs": [
    {
     "name": "stdout",
     "output_type": "stream",
     "text": [
      "Strong negative correlations (cleaned):\n",
      "                energy  acousticness\n",
      "energy             NaN     -0.655446\n",
      "acousticness -0.655446           NaN\n"
     ]
    }
   ],
   "source": [
    "# finding strongly negatively correlated features\n",
    "strong_negative_correlations = correlation_matrix[\n",
    "    (correlation_matrix < -0.6) & (correlation_matrix > -1)\n",
    "]\n",
    "strong_negative_correlations_cleaned = strong_negative_correlations.dropna(\n",
    "    axis=0, how=\"all\"\n",
    ").dropna(axis=1, how=\"all\")\n",
    "\n",
    "print(\"Strong negative correlations (cleaned):\")\n",
    "print(strong_negative_correlations_cleaned)"
   ]
  },
  {
   "cell_type": "code",
   "execution_count": 131,
   "metadata": {},
   "outputs": [
    {
     "name": "stdout",
     "output_type": "stream",
     "text": [
      "Features with weak or no correlation (from -0.1 to 0.1):\n",
      "                    energy  danceability       key  loudness  acousticness  \\\n",
      "energy                 NaN      0.052969  0.067692       NaN           NaN   \n",
      "danceability      0.052969           NaN       NaN       NaN           NaN   \n",
      "key               0.067692           NaN       NaN -0.034895     -0.091704   \n",
      "loudness               NaN           NaN -0.034895       NaN           NaN   \n",
      "acousticness           NaN           NaN -0.091704       NaN           NaN   \n",
      "speechiness       0.084088           NaN  0.016483 -0.040290      0.029390   \n",
      "instrumentalness       NaN      0.024121 -0.028765  0.081553     -0.051258   \n",
      "liveness               NaN           NaN       NaN       NaN           NaN   \n",
      "valence                NaN           NaN       NaN       NaN           NaN   \n",
      "tempo             0.071886           NaN  0.091751  0.090228           NaN   \n",
      "duration_ms       0.079762      0.001921  0.014286       NaN      0.044659   \n",
      "\n",
      "                  speechiness  instrumentalness  liveness   valence     tempo  \\\n",
      "energy               0.084088               NaN       NaN       NaN  0.071886   \n",
      "danceability              NaN          0.024121       NaN       NaN       NaN   \n",
      "key                  0.016483         -0.028765       NaN       NaN  0.091751   \n",
      "loudness            -0.040290          0.081553       NaN       NaN  0.090228   \n",
      "acousticness         0.029390         -0.051258       NaN       NaN       NaN   \n",
      "speechiness               NaN          0.052461 -0.050189  0.079721       NaN   \n",
      "instrumentalness     0.052461               NaN -0.051766  0.094416  0.015707   \n",
      "liveness            -0.050189         -0.051766       NaN       NaN  0.018634   \n",
      "valence              0.079721          0.094416       NaN       NaN -0.013254   \n",
      "tempo                     NaN          0.015707  0.018634 -0.013254       NaN   \n",
      "duration_ms               NaN               NaN  0.019354 -0.065791       NaN   \n",
      "\n",
      "                  duration_ms  \n",
      "energy               0.079762  \n",
      "danceability         0.001921  \n",
      "key                  0.014286  \n",
      "loudness                  NaN  \n",
      "acousticness         0.044659  \n",
      "speechiness               NaN  \n",
      "instrumentalness          NaN  \n",
      "liveness             0.019354  \n",
      "valence             -0.065791  \n",
      "tempo                     NaN  \n",
      "duration_ms               NaN  \n"
     ]
    }
   ],
   "source": [
    "# finding not correlated features (no or weak correlation)\n",
    "weak_correlation = correlation_matrix[\n",
    "    (correlation_matrix > -0.1) & (correlation_matrix < 0.1)\n",
    "]\n",
    "\n",
    "print(\"Features with weak or no correlation (from -0.1 to 0.1):\")\n",
    "print(weak_correlation)"
   ]
  },
  {
   "cell_type": "code",
   "execution_count": null,
   "metadata": {},
   "outputs": [
    {
     "name": "stdout",
     "output_type": "stream",
     "text": [
      "Comparison of Danceability, Loudness, and Acousticness for each genre:\n",
      "                  danceability             loudness              acousticness  \\\n",
      "                          mean   min   max     mean    min   max         mean   \n",
      "genre                                                                           \n",
      "Alternative/Indie         0.66  0.46  0.86    -5.42  -6.40 -4.75         0.58   \n",
      "Dance/Electronic          0.76  0.65  0.88    -5.34  -7.57 -3.76         0.10   \n",
      "Hip-Hop/Rap               0.77  0.60  0.90    -6.92  -8.82 -3.37         0.19   \n",
      "Pop                       0.68  0.46  0.81    -6.46 -14.45 -3.28         0.32   \n",
      "\n",
      "                               \n",
      "                    min   max  \n",
      "genre                          \n",
      "Alternative/Indie  0.29  0.75  \n",
      "Dance/Electronic   0.01  0.22  \n",
      "Hip-Hop/Rap        0.01  0.73  \n",
      "Pop                0.02  0.90  \n"
     ]
    }
   ],
   "source": [
    "genres_of_interest = [\"Pop\", \"Hip-Hop/Rap\", \"Dance/Electronic\", \"Alternative/Indie\"]\n",
    "df_filtered = df[df[\"genre\"].isin(genres_of_interest)]\n",
    "\n",
    "# Group by 'genre' and calculate the mean for the relevant features\n",
    "summary = df_filtered.groupby(\"genre\")[\n",
    "    [\"danceability\", \"loudness\", \"acousticness\"]\n",
    "].agg([\"mean\", \"min\", \"max\"])\n",
    "summary = summary.round(2)\n",
    "\n",
    "print(\"Comparison of Danceability, Loudness, and Acousticness for each genre:\")\n",
    "print(summary)"
   ]
  }
 ],
 "metadata": {
  "kernelspec": {
   "display_name": "base",
   "language": "python",
   "name": "python3"
  },
  "language_info": {
   "codemirror_mode": {
    "name": "ipython",
    "version": 3
   },
   "file_extension": ".py",
   "mimetype": "text/x-python",
   "name": "python",
   "nbconvert_exporter": "python",
   "pygments_lexer": "ipython3",
   "version": "3.12.7"
  }
 },
 "nbformat": 4,
 "nbformat_minor": 2
}
