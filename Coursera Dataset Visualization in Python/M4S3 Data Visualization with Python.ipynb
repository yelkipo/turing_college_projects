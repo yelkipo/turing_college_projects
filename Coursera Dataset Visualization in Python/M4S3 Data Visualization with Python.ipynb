{
 "cells": [
  {
   "cell_type": "code",
   "execution_count": 2,
   "metadata": {},
   "outputs": [
    {
     "name": "stdout",
     "output_type": "stream",
     "text": [
      "Requirement already satisfied: pandas in c:\\users\\dell\\anaconda3\\lib\\site-packages (2.2.2)Note: you may need to restart the kernel to use updated packages.\n",
      "\n",
      "Requirement already satisfied: numpy>=1.26.0 in c:\\users\\dell\\anaconda3\\lib\\site-packages (from pandas) (1.26.4)\n",
      "Requirement already satisfied: python-dateutil>=2.8.2 in c:\\users\\dell\\anaconda3\\lib\\site-packages (from pandas) (2.9.0.post0)\n",
      "Requirement already satisfied: pytz>=2020.1 in c:\\users\\dell\\anaconda3\\lib\\site-packages (from pandas) (2024.1)\n",
      "Requirement already satisfied: tzdata>=2022.7 in c:\\users\\dell\\anaconda3\\lib\\site-packages (from pandas) (2023.3)\n",
      "Requirement already satisfied: six>=1.5 in c:\\users\\dell\\anaconda3\\lib\\site-packages (from python-dateutil>=2.8.2->pandas) (1.16.0)\n"
     ]
    }
   ],
   "source": [
    "pip install pandas"
   ]
  },
  {
   "cell_type": "code",
   "execution_count": 3,
   "metadata": {},
   "outputs": [
    {
     "name": "stdout",
     "output_type": "stream",
     "text": [
      "Requirement already satisfied: black in c:\\users\\dell\\anaconda3\\lib\\site-packages (24.8.0)\n",
      "Requirement already satisfied: click>=8.0.0 in c:\\users\\dell\\anaconda3\\lib\\site-packages (from black) (8.1.7)\n",
      "Requirement already satisfied: mypy-extensions>=0.4.3 in c:\\users\\dell\\anaconda3\\lib\\site-packages (from black) (1.0.0)\n",
      "Requirement already satisfied: packaging>=22.0 in c:\\users\\dell\\anaconda3\\lib\\site-packages (from black) (24.1)\n",
      "Requirement already satisfied: pathspec>=0.9.0 in c:\\users\\dell\\anaconda3\\lib\\site-packages (from black) (0.10.3)\n",
      "Requirement already satisfied: platformdirs>=2 in c:\\users\\dell\\anaconda3\\lib\\site-packages (from black) (3.10.0)\n",
      "Requirement already satisfied: colorama in c:\\users\\dell\\anaconda3\\lib\\site-packages (from click>=8.0.0->black) (0.4.6)\n",
      "Note: you may need to restart the kernel to use updated packages.\n"
     ]
    }
   ],
   "source": [
    "pip install black"
   ]
  },
  {
   "cell_type": "code",
   "execution_count": 4,
   "metadata": {},
   "outputs": [],
   "source": [
    "import pandas as pd\n",
    "import numpy as np\n",
    "import seaborn as sns\n",
    "import matplotlib.pyplot as plt\n",
    "%matplotlib inline\n",
    "import plotly\n",
    "import plotly.express as px"
   ]
  },
  {
   "cell_type": "code",
   "execution_count": 5,
   "metadata": {},
   "outputs": [],
   "source": [
    "coursera_data = pd.read_csv(\"C:\\\\Users\\\\Dell\\\\Desktop\\\\coursera_data.csv\")"
   ]
  },
  {
   "cell_type": "code",
   "execution_count": 6,
   "metadata": {},
   "outputs": [
    {
     "name": "stdout",
     "output_type": "stream",
     "text": [
      "<class 'pandas.core.frame.DataFrame'>\n",
      "RangeIndex: 891 entries, 0 to 890\n",
      "Data columns (total 7 columns):\n",
      " #   Column                    Non-Null Count  Dtype  \n",
      "---  ------                    --------------  -----  \n",
      " 0   Unnamed: 0                891 non-null    int64  \n",
      " 1   course_title              891 non-null    object \n",
      " 2   course_organization       891 non-null    object \n",
      " 3   course_Certificate_type   891 non-null    object \n",
      " 4   course_rating             891 non-null    float64\n",
      " 5   course_difficulty         891 non-null    object \n",
      " 6   course_students_enrolled  891 non-null    object \n",
      "dtypes: float64(1), int64(1), object(5)\n",
      "memory usage: 48.9+ KB\n"
     ]
    }
   ],
   "source": [
    "coursera_data.info()"
   ]
  },
  {
   "cell_type": "code",
   "execution_count": null,
   "metadata": {},
   "outputs": [
    {
     "data": {
      "text/html": [
       "<div>\n",
       "<style scoped>\n",
       "    .dataframe tbody tr th:only-of-type {\n",
       "        vertical-align: middle;\n",
       "    }\n",
       "\n",
       "    .dataframe tbody tr th {\n",
       "        vertical-align: top;\n",
       "    }\n",
       "\n",
       "    .dataframe thead th {\n",
       "        text-align: right;\n",
       "    }\n",
       "</style>\n",
       "<table border=\"1\" class=\"dataframe\">\n",
       "  <thead>\n",
       "    <tr style=\"text-align: right;\">\n",
       "      <th></th>\n",
       "      <th>Unnamed: 0</th>\n",
       "      <th>course_title</th>\n",
       "      <th>course_organization</th>\n",
       "      <th>course_Certificate_type</th>\n",
       "      <th>course_rating</th>\n",
       "      <th>course_difficulty</th>\n",
       "      <th>course_students_enrolled</th>\n",
       "    </tr>\n",
       "  </thead>\n",
       "  <tbody>\n",
       "    <tr>\n",
       "      <th>0</th>\n",
       "      <td>134</td>\n",
       "      <td>(ISC)² Systems Security Certified Practitioner...</td>\n",
       "      <td>(ISC)²</td>\n",
       "      <td>SPECIALIZATION</td>\n",
       "      <td>4.7</td>\n",
       "      <td>Beginner</td>\n",
       "      <td>5.3k</td>\n",
       "    </tr>\n",
       "    <tr>\n",
       "      <th>1</th>\n",
       "      <td>743</td>\n",
       "      <td>A Crash Course in Causality:  Inferring Causal...</td>\n",
       "      <td>University of Pennsylvania</td>\n",
       "      <td>COURSE</td>\n",
       "      <td>4.7</td>\n",
       "      <td>Intermediate</td>\n",
       "      <td>17k</td>\n",
       "    </tr>\n",
       "    <tr>\n",
       "      <th>2</th>\n",
       "      <td>874</td>\n",
       "      <td>A Crash Course in Data Science</td>\n",
       "      <td>Johns Hopkins University</td>\n",
       "      <td>COURSE</td>\n",
       "      <td>4.5</td>\n",
       "      <td>Mixed</td>\n",
       "      <td>130k</td>\n",
       "    </tr>\n",
       "    <tr>\n",
       "      <th>3</th>\n",
       "      <td>413</td>\n",
       "      <td>A Law Student's Toolkit</td>\n",
       "      <td>Yale University</td>\n",
       "      <td>COURSE</td>\n",
       "      <td>4.7</td>\n",
       "      <td>Mixed</td>\n",
       "      <td>91k</td>\n",
       "    </tr>\n",
       "    <tr>\n",
       "      <th>4</th>\n",
       "      <td>635</td>\n",
       "      <td>A Life of Happiness and Fulfillment</td>\n",
       "      <td>Indian School of Business</td>\n",
       "      <td>COURSE</td>\n",
       "      <td>4.8</td>\n",
       "      <td>Mixed</td>\n",
       "      <td>320k</td>\n",
       "    </tr>\n",
       "  </tbody>\n",
       "</table>\n",
       "</div>"
      ],
      "text/plain": [
       "   Unnamed: 0                                       course_title  \\\n",
       "0         134  (ISC)² Systems Security Certified Practitioner...   \n",
       "1         743  A Crash Course in Causality:  Inferring Causal...   \n",
       "2         874                     A Crash Course in Data Science   \n",
       "3         413                            A Law Student's Toolkit   \n",
       "4         635                A Life of Happiness and Fulfillment   \n",
       "\n",
       "          course_organization course_Certificate_type  course_rating  \\\n",
       "0                      (ISC)²          SPECIALIZATION            4.7   \n",
       "1  University of Pennsylvania                  COURSE            4.7   \n",
       "2    Johns Hopkins University                  COURSE            4.5   \n",
       "3             Yale University                  COURSE            4.7   \n",
       "4   Indian School of Business                  COURSE            4.8   \n",
       "\n",
       "  course_difficulty course_students_enrolled  \n",
       "0          Beginner                     5.3k  \n",
       "1      Intermediate                      17k  \n",
       "2             Mixed                     130k  \n",
       "3             Mixed                      91k  \n",
       "4             Mixed                     320k  "
      ]
     },
     "execution_count": 7,
     "metadata": {},
     "output_type": "execute_result"
    }
   ],
   "source": [
    "coursera_data.head()"
   ]
  },
  {
   "cell_type": "markdown",
   "metadata": {},
   "source": [
    "This dataset contains mainly 6 columns and 890 course data:\n",
    "\n",
    "course_title : Contains the course title.\n",
    "course_organization : It tells which organization is conducting the courses.\n",
    "course_Certificate_type : It has details about what are the different certifications available in courses.\n",
    "course_rating : It has the ratings associated with each course.\n",
    "course_difficulty : It tells about how difficult or what is the level of the course.\n",
    "course_students_enrolled : It has the number of students that are enrolled in the course."
   ]
  },
  {
   "cell_type": "code",
   "execution_count": null,
   "metadata": {},
   "outputs": [
    {
     "name": "stdout",
     "output_type": "stream",
     "text": [
      "course_title                0\n",
      "course_organization         0\n",
      "course_Certificate_type     0\n",
      "course_rating               0\n",
      "course_difficulty           0\n",
      "course_students_enrolled    0\n",
      "dtype: int64\n"
     ]
    }
   ],
   "source": [
    "df = pd.DataFrame(coursera_data)\n",
    "\n",
    "# dropping the 'unnanmed' column\n",
    "df = df.drop(columns=[\"Unnamed: 0\"])\n",
    "\n",
    "# checking if there are any null values\n",
    "missing_values = df.isnull().sum()\n",
    "print(missing_values)"
   ]
  },
  {
   "cell_type": "code",
   "execution_count": 9,
   "metadata": {},
   "outputs": [
    {
     "name": "stdout",
     "output_type": "stream",
     "text": [
      "0\n"
     ]
    }
   ],
   "source": [
    "# checking for duplicate values\n",
    "print(df.duplicated().sum())"
   ]
  },
  {
   "cell_type": "markdown",
   "metadata": {},
   "source": [
    "there are no missing values and no duplicates. Good for us!"
   ]
  },
  {
   "cell_type": "code",
   "execution_count": null,
   "metadata": {},
   "outputs": [
    {
     "name": "stdout",
     "output_type": "stream",
     "text": [
      "['k' 'm']\n"
     ]
    }
   ],
   "source": [
    "# checking what are the suffixes (like 'k' for thousands) in the last column\n",
    "last_chars = df[\"course_students_enrolled\"].str[-1]\n",
    "unique_last_chars = last_chars.unique()\n",
    "print(unique_last_chars)"
   ]
  },
  {
   "cell_type": "markdown",
   "metadata": {},
   "source": [
    "it means that the column 'course_students_enrolled' only has data in thousands or millions but \n",
    "it's kept as a string. For the sake of analysis we need to convert the last column from string to integer."
   ]
  },
  {
   "cell_type": "code",
   "execution_count": null,
   "metadata": {},
   "outputs": [
    {
     "data": {
      "text/html": [
       "<div>\n",
       "<style scoped>\n",
       "    .dataframe tbody tr th:only-of-type {\n",
       "        vertical-align: middle;\n",
       "    }\n",
       "\n",
       "    .dataframe tbody tr th {\n",
       "        vertical-align: top;\n",
       "    }\n",
       "\n",
       "    .dataframe thead th {\n",
       "        text-align: right;\n",
       "    }\n",
       "</style>\n",
       "<table border=\"1\" class=\"dataframe\">\n",
       "  <thead>\n",
       "    <tr style=\"text-align: right;\">\n",
       "      <th></th>\n",
       "      <th>course_title</th>\n",
       "      <th>course_organization</th>\n",
       "      <th>course_Certificate_type</th>\n",
       "      <th>course_rating</th>\n",
       "      <th>course_difficulty</th>\n",
       "      <th>course_students_enrolled</th>\n",
       "    </tr>\n",
       "  </thead>\n",
       "  <tbody>\n",
       "    <tr>\n",
       "      <th>0</th>\n",
       "      <td>(ISC)² Systems Security Certified Practitioner...</td>\n",
       "      <td>(ISC)²</td>\n",
       "      <td>SPECIALIZATION</td>\n",
       "      <td>4.7</td>\n",
       "      <td>Beginner</td>\n",
       "      <td>5300</td>\n",
       "    </tr>\n",
       "    <tr>\n",
       "      <th>1</th>\n",
       "      <td>A Crash Course in Causality:  Inferring Causal...</td>\n",
       "      <td>University of Pennsylvania</td>\n",
       "      <td>COURSE</td>\n",
       "      <td>4.7</td>\n",
       "      <td>Intermediate</td>\n",
       "      <td>17000</td>\n",
       "    </tr>\n",
       "    <tr>\n",
       "      <th>2</th>\n",
       "      <td>A Crash Course in Data Science</td>\n",
       "      <td>Johns Hopkins University</td>\n",
       "      <td>COURSE</td>\n",
       "      <td>4.5</td>\n",
       "      <td>Mixed</td>\n",
       "      <td>130000</td>\n",
       "    </tr>\n",
       "    <tr>\n",
       "      <th>3</th>\n",
       "      <td>A Law Student's Toolkit</td>\n",
       "      <td>Yale University</td>\n",
       "      <td>COURSE</td>\n",
       "      <td>4.7</td>\n",
       "      <td>Mixed</td>\n",
       "      <td>91000</td>\n",
       "    </tr>\n",
       "    <tr>\n",
       "      <th>4</th>\n",
       "      <td>A Life of Happiness and Fulfillment</td>\n",
       "      <td>Indian School of Business</td>\n",
       "      <td>COURSE</td>\n",
       "      <td>4.8</td>\n",
       "      <td>Mixed</td>\n",
       "      <td>320000</td>\n",
       "    </tr>\n",
       "  </tbody>\n",
       "</table>\n",
       "</div>"
      ],
      "text/plain": [
       "                                        course_title  \\\n",
       "0  (ISC)² Systems Security Certified Practitioner...   \n",
       "1  A Crash Course in Causality:  Inferring Causal...   \n",
       "2                     A Crash Course in Data Science   \n",
       "3                            A Law Student's Toolkit   \n",
       "4                A Life of Happiness and Fulfillment   \n",
       "\n",
       "          course_organization course_Certificate_type  course_rating  \\\n",
       "0                      (ISC)²          SPECIALIZATION            4.7   \n",
       "1  University of Pennsylvania                  COURSE            4.7   \n",
       "2    Johns Hopkins University                  COURSE            4.5   \n",
       "3             Yale University                  COURSE            4.7   \n",
       "4   Indian School of Business                  COURSE            4.8   \n",
       "\n",
       "  course_difficulty  course_students_enrolled  \n",
       "0          Beginner                      5300  \n",
       "1      Intermediate                     17000  \n",
       "2             Mixed                    130000  \n",
       "3             Mixed                     91000  \n",
       "4             Mixed                    320000  "
      ]
     },
     "execution_count": 11,
     "metadata": {},
     "output_type": "execute_result"
    }
   ],
   "source": [
    "# converting the column with number of students to integer for further analysis\n",
    "df[\"course_students_enrolled\"] = (\n",
    "    df[\"course_students_enrolled\"]\n",
    "    .replace({\"k\": \"*1e3\", \"m\": \"*1e6\"}, regex=True)\n",
    "    .map(pd.eval)\n",
    "    .astype(int)\n",
    ")\n",
    "df.head()"
   ]
  },
  {
   "cell_type": "code",
   "execution_count": null,
   "metadata": {},
   "outputs": [
    {
     "data": {
      "application/vnd.plotly.v1+json": {
       "config": {
        "plotlyServerURL": "https://plot.ly"
       },
       "data": [
        {
         "alignmentgroup": "True",
         "hovertemplate": "Organization=%{x}<br>Number of Courses=%{marker.color}<extra></extra>",
         "legendgroup": "",
         "marker": {
          "color": [
           59,
           41,
           34,
           28,
           28,
           27,
           22,
           22,
           21,
           19
          ],
          "coloraxis": "coloraxis",
          "pattern": {
           "shape": ""
          }
         },
         "name": "",
         "offsetgroup": "",
         "orientation": "v",
         "showlegend": false,
         "text": [
          59,
          41,
          34,
          28,
          28,
          27,
          22,
          22,
          21,
          19
         ],
         "textposition": "auto",
         "type": "bar",
         "x": [
          "University of Pennsylvania",
          "University of Michigan",
          "Google Cloud",
          "Johns Hopkins University",
          "Duke University",
          "University of California, Irvine",
          "IBM",
          "University of Illinois at Urbana-Champaign",
          "University of California, Davis",
          "University of Colorado Boulder"
         ],
         "xaxis": "x",
         "y": [
          59,
          41,
          34,
          28,
          28,
          27,
          22,
          22,
          21,
          19
         ],
         "yaxis": "y"
        }
       ],
       "layout": {
        "barmode": "relative",
        "coloraxis": {
         "colorbar": {
          "title": {
           "text": "Number of Courses"
          }
         },
         "colorscale": [
          [
           0,
           "rgb(247,252,245)"
          ],
          [
           0.125,
           "rgb(229,245,224)"
          ],
          [
           0.25,
           "rgb(199,233,192)"
          ],
          [
           0.375,
           "rgb(161,217,155)"
          ],
          [
           0.5,
           "rgb(116,196,118)"
          ],
          [
           0.625,
           "rgb(65,171,93)"
          ],
          [
           0.75,
           "rgb(35,139,69)"
          ],
          [
           0.875,
           "rgb(0,109,44)"
          ],
          [
           1,
           "rgb(0,68,27)"
          ]
         ]
        },
        "legend": {
         "tracegroupgap": 0
        },
        "template": {
         "data": {
          "bar": [
           {
            "error_x": {
             "color": "#2a3f5f"
            },
            "error_y": {
             "color": "#2a3f5f"
            },
            "marker": {
             "line": {
              "color": "#E5ECF6",
              "width": 0.5
             },
             "pattern": {
              "fillmode": "overlay",
              "size": 10,
              "solidity": 0.2
             }
            },
            "type": "bar"
           }
          ],
          "barpolar": [
           {
            "marker": {
             "line": {
              "color": "#E5ECF6",
              "width": 0.5
             },
             "pattern": {
              "fillmode": "overlay",
              "size": 10,
              "solidity": 0.2
             }
            },
            "type": "barpolar"
           }
          ],
          "carpet": [
           {
            "aaxis": {
             "endlinecolor": "#2a3f5f",
             "gridcolor": "white",
             "linecolor": "white",
             "minorgridcolor": "white",
             "startlinecolor": "#2a3f5f"
            },
            "baxis": {
             "endlinecolor": "#2a3f5f",
             "gridcolor": "white",
             "linecolor": "white",
             "minorgridcolor": "white",
             "startlinecolor": "#2a3f5f"
            },
            "type": "carpet"
           }
          ],
          "choropleth": [
           {
            "colorbar": {
             "outlinewidth": 0,
             "ticks": ""
            },
            "type": "choropleth"
           }
          ],
          "contour": [
           {
            "colorbar": {
             "outlinewidth": 0,
             "ticks": ""
            },
            "colorscale": [
             [
              0,
              "#0d0887"
             ],
             [
              0.1111111111111111,
              "#46039f"
             ],
             [
              0.2222222222222222,
              "#7201a8"
             ],
             [
              0.3333333333333333,
              "#9c179e"
             ],
             [
              0.4444444444444444,
              "#bd3786"
             ],
             [
              0.5555555555555556,
              "#d8576b"
             ],
             [
              0.6666666666666666,
              "#ed7953"
             ],
             [
              0.7777777777777778,
              "#fb9f3a"
             ],
             [
              0.8888888888888888,
              "#fdca26"
             ],
             [
              1,
              "#f0f921"
             ]
            ],
            "type": "contour"
           }
          ],
          "contourcarpet": [
           {
            "colorbar": {
             "outlinewidth": 0,
             "ticks": ""
            },
            "type": "contourcarpet"
           }
          ],
          "heatmap": [
           {
            "colorbar": {
             "outlinewidth": 0,
             "ticks": ""
            },
            "colorscale": [
             [
              0,
              "#0d0887"
             ],
             [
              0.1111111111111111,
              "#46039f"
             ],
             [
              0.2222222222222222,
              "#7201a8"
             ],
             [
              0.3333333333333333,
              "#9c179e"
             ],
             [
              0.4444444444444444,
              "#bd3786"
             ],
             [
              0.5555555555555556,
              "#d8576b"
             ],
             [
              0.6666666666666666,
              "#ed7953"
             ],
             [
              0.7777777777777778,
              "#fb9f3a"
             ],
             [
              0.8888888888888888,
              "#fdca26"
             ],
             [
              1,
              "#f0f921"
             ]
            ],
            "type": "heatmap"
           }
          ],
          "heatmapgl": [
           {
            "colorbar": {
             "outlinewidth": 0,
             "ticks": ""
            },
            "colorscale": [
             [
              0,
              "#0d0887"
             ],
             [
              0.1111111111111111,
              "#46039f"
             ],
             [
              0.2222222222222222,
              "#7201a8"
             ],
             [
              0.3333333333333333,
              "#9c179e"
             ],
             [
              0.4444444444444444,
              "#bd3786"
             ],
             [
              0.5555555555555556,
              "#d8576b"
             ],
             [
              0.6666666666666666,
              "#ed7953"
             ],
             [
              0.7777777777777778,
              "#fb9f3a"
             ],
             [
              0.8888888888888888,
              "#fdca26"
             ],
             [
              1,
              "#f0f921"
             ]
            ],
            "type": "heatmapgl"
           }
          ],
          "histogram": [
           {
            "marker": {
             "pattern": {
              "fillmode": "overlay",
              "size": 10,
              "solidity": 0.2
             }
            },
            "type": "histogram"
           }
          ],
          "histogram2d": [
           {
            "colorbar": {
             "outlinewidth": 0,
             "ticks": ""
            },
            "colorscale": [
             [
              0,
              "#0d0887"
             ],
             [
              0.1111111111111111,
              "#46039f"
             ],
             [
              0.2222222222222222,
              "#7201a8"
             ],
             [
              0.3333333333333333,
              "#9c179e"
             ],
             [
              0.4444444444444444,
              "#bd3786"
             ],
             [
              0.5555555555555556,
              "#d8576b"
             ],
             [
              0.6666666666666666,
              "#ed7953"
             ],
             [
              0.7777777777777778,
              "#fb9f3a"
             ],
             [
              0.8888888888888888,
              "#fdca26"
             ],
             [
              1,
              "#f0f921"
             ]
            ],
            "type": "histogram2d"
           }
          ],
          "histogram2dcontour": [
           {
            "colorbar": {
             "outlinewidth": 0,
             "ticks": ""
            },
            "colorscale": [
             [
              0,
              "#0d0887"
             ],
             [
              0.1111111111111111,
              "#46039f"
             ],
             [
              0.2222222222222222,
              "#7201a8"
             ],
             [
              0.3333333333333333,
              "#9c179e"
             ],
             [
              0.4444444444444444,
              "#bd3786"
             ],
             [
              0.5555555555555556,
              "#d8576b"
             ],
             [
              0.6666666666666666,
              "#ed7953"
             ],
             [
              0.7777777777777778,
              "#fb9f3a"
             ],
             [
              0.8888888888888888,
              "#fdca26"
             ],
             [
              1,
              "#f0f921"
             ]
            ],
            "type": "histogram2dcontour"
           }
          ],
          "mesh3d": [
           {
            "colorbar": {
             "outlinewidth": 0,
             "ticks": ""
            },
            "type": "mesh3d"
           }
          ],
          "parcoords": [
           {
            "line": {
             "colorbar": {
              "outlinewidth": 0,
              "ticks": ""
             }
            },
            "type": "parcoords"
           }
          ],
          "pie": [
           {
            "automargin": true,
            "type": "pie"
           }
          ],
          "scatter": [
           {
            "fillpattern": {
             "fillmode": "overlay",
             "size": 10,
             "solidity": 0.2
            },
            "type": "scatter"
           }
          ],
          "scatter3d": [
           {
            "line": {
             "colorbar": {
              "outlinewidth": 0,
              "ticks": ""
             }
            },
            "marker": {
             "colorbar": {
              "outlinewidth": 0,
              "ticks": ""
             }
            },
            "type": "scatter3d"
           }
          ],
          "scattercarpet": [
           {
            "marker": {
             "colorbar": {
              "outlinewidth": 0,
              "ticks": ""
             }
            },
            "type": "scattercarpet"
           }
          ],
          "scattergeo": [
           {
            "marker": {
             "colorbar": {
              "outlinewidth": 0,
              "ticks": ""
             }
            },
            "type": "scattergeo"
           }
          ],
          "scattergl": [
           {
            "marker": {
             "colorbar": {
              "outlinewidth": 0,
              "ticks": ""
             }
            },
            "type": "scattergl"
           }
          ],
          "scattermapbox": [
           {
            "marker": {
             "colorbar": {
              "outlinewidth": 0,
              "ticks": ""
             }
            },
            "type": "scattermapbox"
           }
          ],
          "scatterpolar": [
           {
            "marker": {
             "colorbar": {
              "outlinewidth": 0,
              "ticks": ""
             }
            },
            "type": "scatterpolar"
           }
          ],
          "scatterpolargl": [
           {
            "marker": {
             "colorbar": {
              "outlinewidth": 0,
              "ticks": ""
             }
            },
            "type": "scatterpolargl"
           }
          ],
          "scatterternary": [
           {
            "marker": {
             "colorbar": {
              "outlinewidth": 0,
              "ticks": ""
             }
            },
            "type": "scatterternary"
           }
          ],
          "surface": [
           {
            "colorbar": {
             "outlinewidth": 0,
             "ticks": ""
            },
            "colorscale": [
             [
              0,
              "#0d0887"
             ],
             [
              0.1111111111111111,
              "#46039f"
             ],
             [
              0.2222222222222222,
              "#7201a8"
             ],
             [
              0.3333333333333333,
              "#9c179e"
             ],
             [
              0.4444444444444444,
              "#bd3786"
             ],
             [
              0.5555555555555556,
              "#d8576b"
             ],
             [
              0.6666666666666666,
              "#ed7953"
             ],
             [
              0.7777777777777778,
              "#fb9f3a"
             ],
             [
              0.8888888888888888,
              "#fdca26"
             ],
             [
              1,
              "#f0f921"
             ]
            ],
            "type": "surface"
           }
          ],
          "table": [
           {
            "cells": {
             "fill": {
              "color": "#EBF0F8"
             },
             "line": {
              "color": "white"
             }
            },
            "header": {
             "fill": {
              "color": "#C8D4E3"
             },
             "line": {
              "color": "white"
             }
            },
            "type": "table"
           }
          ]
         },
         "layout": {
          "annotationdefaults": {
           "arrowcolor": "#2a3f5f",
           "arrowhead": 0,
           "arrowwidth": 1
          },
          "autotypenumbers": "strict",
          "coloraxis": {
           "colorbar": {
            "outlinewidth": 0,
            "ticks": ""
           }
          },
          "colorscale": {
           "diverging": [
            [
             0,
             "#8e0152"
            ],
            [
             0.1,
             "#c51b7d"
            ],
            [
             0.2,
             "#de77ae"
            ],
            [
             0.3,
             "#f1b6da"
            ],
            [
             0.4,
             "#fde0ef"
            ],
            [
             0.5,
             "#f7f7f7"
            ],
            [
             0.6,
             "#e6f5d0"
            ],
            [
             0.7,
             "#b8e186"
            ],
            [
             0.8,
             "#7fbc41"
            ],
            [
             0.9,
             "#4d9221"
            ],
            [
             1,
             "#276419"
            ]
           ],
           "sequential": [
            [
             0,
             "#0d0887"
            ],
            [
             0.1111111111111111,
             "#46039f"
            ],
            [
             0.2222222222222222,
             "#7201a8"
            ],
            [
             0.3333333333333333,
             "#9c179e"
            ],
            [
             0.4444444444444444,
             "#bd3786"
            ],
            [
             0.5555555555555556,
             "#d8576b"
            ],
            [
             0.6666666666666666,
             "#ed7953"
            ],
            [
             0.7777777777777778,
             "#fb9f3a"
            ],
            [
             0.8888888888888888,
             "#fdca26"
            ],
            [
             1,
             "#f0f921"
            ]
           ],
           "sequentialminus": [
            [
             0,
             "#0d0887"
            ],
            [
             0.1111111111111111,
             "#46039f"
            ],
            [
             0.2222222222222222,
             "#7201a8"
            ],
            [
             0.3333333333333333,
             "#9c179e"
            ],
            [
             0.4444444444444444,
             "#bd3786"
            ],
            [
             0.5555555555555556,
             "#d8576b"
            ],
            [
             0.6666666666666666,
             "#ed7953"
            ],
            [
             0.7777777777777778,
             "#fb9f3a"
            ],
            [
             0.8888888888888888,
             "#fdca26"
            ],
            [
             1,
             "#f0f921"
            ]
           ]
          },
          "colorway": [
           "#636efa",
           "#EF553B",
           "#00cc96",
           "#ab63fa",
           "#FFA15A",
           "#19d3f3",
           "#FF6692",
           "#B6E880",
           "#FF97FF",
           "#FECB52"
          ],
          "font": {
           "color": "#2a3f5f"
          },
          "geo": {
           "bgcolor": "white",
           "lakecolor": "white",
           "landcolor": "#E5ECF6",
           "showlakes": true,
           "showland": true,
           "subunitcolor": "white"
          },
          "hoverlabel": {
           "align": "left"
          },
          "hovermode": "closest",
          "mapbox": {
           "style": "light"
          },
          "paper_bgcolor": "white",
          "plot_bgcolor": "#E5ECF6",
          "polar": {
           "angularaxis": {
            "gridcolor": "white",
            "linecolor": "white",
            "ticks": ""
           },
           "bgcolor": "#E5ECF6",
           "radialaxis": {
            "gridcolor": "white",
            "linecolor": "white",
            "ticks": ""
           }
          },
          "scene": {
           "xaxis": {
            "backgroundcolor": "#E5ECF6",
            "gridcolor": "white",
            "gridwidth": 2,
            "linecolor": "white",
            "showbackground": true,
            "ticks": "",
            "zerolinecolor": "white"
           },
           "yaxis": {
            "backgroundcolor": "#E5ECF6",
            "gridcolor": "white",
            "gridwidth": 2,
            "linecolor": "white",
            "showbackground": true,
            "ticks": "",
            "zerolinecolor": "white"
           },
           "zaxis": {
            "backgroundcolor": "#E5ECF6",
            "gridcolor": "white",
            "gridwidth": 2,
            "linecolor": "white",
            "showbackground": true,
            "ticks": "",
            "zerolinecolor": "white"
           }
          },
          "shapedefaults": {
           "line": {
            "color": "#2a3f5f"
           }
          },
          "ternary": {
           "aaxis": {
            "gridcolor": "white",
            "linecolor": "white",
            "ticks": ""
           },
           "baxis": {
            "gridcolor": "white",
            "linecolor": "white",
            "ticks": ""
           },
           "bgcolor": "#E5ECF6",
           "caxis": {
            "gridcolor": "white",
            "linecolor": "white",
            "ticks": ""
           }
          },
          "title": {
           "x": 0.05
          },
          "xaxis": {
           "automargin": true,
           "gridcolor": "white",
           "linecolor": "white",
           "ticks": "",
           "title": {
            "standoff": 15
           },
           "zerolinecolor": "white",
           "zerolinewidth": 2
          },
          "yaxis": {
           "automargin": true,
           "gridcolor": "white",
           "linecolor": "white",
           "ticks": "",
           "title": {
            "standoff": 15
           },
           "zerolinecolor": "white",
           "zerolinewidth": 2
          }
         }
        },
        "title": {
         "text": "Top 10 Organizations by Number of Courses"
        },
        "xaxis": {
         "anchor": "y",
         "domain": [
          0,
          1
         ],
         "tickangle": -45,
         "title": {
          "text": "Organization"
         }
        },
        "yaxis": {
         "anchor": "x",
         "domain": [
          0,
          1
         ],
         "title": {
          "text": "Number of Courses"
         }
        }
       }
      }
     },
     "metadata": {},
     "output_type": "display_data"
    }
   ],
   "source": [
    "# checking the top 10 organizations by the amount of courses offered\n",
    "top_orgs = (\n",
    "    df[\"course_organization\"]\n",
    "    .value_counts()\n",
    "    .nlargest(10)\n",
    "    .reset_index()  # Reset the index for a clean dataframe\n",
    ")\n",
    "\n",
    "# rename columns for better readability\n",
    "top_orgs.columns = [\"Organization\", \"Number of Courses\"]\n",
    "\n",
    "fig1 = px.bar(\n",
    "    top_orgs,\n",
    "    x=\"Organization\",\n",
    "    y=\"Number of Courses\",\n",
    "    title=\"Top 10 Organizations by Number of Courses\",\n",
    "    text=\"Number of Courses\",\n",
    "    color=\"Number of Courses\",\n",
    "    color_continuous_scale=\"greens\",\n",
    ")\n",
    "\n",
    "# rotate labels for better readability\n",
    "fig1.update_layout(xaxis_tickangle=-45)\n",
    "fig1.show()"
   ]
  },
  {
   "cell_type": "code",
   "execution_count": null,
   "metadata": {},
   "outputs": [
    {
     "data": {
      "application/vnd.plotly.v1+json": {
       "config": {
        "plotlyServerURL": "https://plot.ly"
       },
       "data": [
        {
         "alignmentgroup": "True",
         "hovertemplate": "course_students_enrolled=%{text}<br>course_title=%{y}<extra></extra>",
         "legendgroup": "",
         "marker": {
          "color": "#636efa",
          "pattern": {
           "shape": ""
          }
         },
         "name": "",
         "offsetgroup": "",
         "orientation": "h",
         "showlegend": false,
         "text": [
          3200000,
          2500000,
          1500000,
          1300000,
          830000,
          790000,
          760000,
          750000,
          740000,
          690000,
          630000,
          610000,
          540000,
          510000,
          490000
         ],
         "textposition": "auto",
         "type": "bar",
         "x": [
          3200000,
          2500000,
          1500000,
          1300000,
          830000,
          790000,
          760000,
          750000,
          740000,
          690000,
          630000,
          610000,
          540000,
          510000,
          490000
         ],
         "xaxis": "x",
         "y": [
          "Machine Learning",
          "The Science of Well-Being",
          "Python for Everybody",
          "Programming for Everybody (Get...",
          "Data Science",
          "Career Success",
          "English for Career Development",
          "Successful Negotiation: Essent...",
          "Data Science: Foundations usin...",
          "Deep Learning",
          "Neural Networks and Deep Learn...",
          "Improve Your English Communica...",
          "Academic English: Writing",
          "Business Foundations",
          "Excel to MySQL: Analytic Techn..."
         ],
         "yaxis": "y"
        }
       ],
       "layout": {
        "barmode": "relative",
        "height": 600,
        "legend": {
         "tracegroupgap": 0
        },
        "showlegend": false,
        "template": {
         "data": {
          "bar": [
           {
            "error_x": {
             "color": "#2a3f5f"
            },
            "error_y": {
             "color": "#2a3f5f"
            },
            "marker": {
             "line": {
              "color": "white",
              "width": 0.5
             },
             "pattern": {
              "fillmode": "overlay",
              "size": 10,
              "solidity": 0.2
             }
            },
            "type": "bar"
           }
          ],
          "barpolar": [
           {
            "marker": {
             "line": {
              "color": "white",
              "width": 0.5
             },
             "pattern": {
              "fillmode": "overlay",
              "size": 10,
              "solidity": 0.2
             }
            },
            "type": "barpolar"
           }
          ],
          "carpet": [
           {
            "aaxis": {
             "endlinecolor": "#2a3f5f",
             "gridcolor": "#C8D4E3",
             "linecolor": "#C8D4E3",
             "minorgridcolor": "#C8D4E3",
             "startlinecolor": "#2a3f5f"
            },
            "baxis": {
             "endlinecolor": "#2a3f5f",
             "gridcolor": "#C8D4E3",
             "linecolor": "#C8D4E3",
             "minorgridcolor": "#C8D4E3",
             "startlinecolor": "#2a3f5f"
            },
            "type": "carpet"
           }
          ],
          "choropleth": [
           {
            "colorbar": {
             "outlinewidth": 0,
             "ticks": ""
            },
            "type": "choropleth"
           }
          ],
          "contour": [
           {
            "colorbar": {
             "outlinewidth": 0,
             "ticks": ""
            },
            "colorscale": [
             [
              0,
              "#0d0887"
             ],
             [
              0.1111111111111111,
              "#46039f"
             ],
             [
              0.2222222222222222,
              "#7201a8"
             ],
             [
              0.3333333333333333,
              "#9c179e"
             ],
             [
              0.4444444444444444,
              "#bd3786"
             ],
             [
              0.5555555555555556,
              "#d8576b"
             ],
             [
              0.6666666666666666,
              "#ed7953"
             ],
             [
              0.7777777777777778,
              "#fb9f3a"
             ],
             [
              0.8888888888888888,
              "#fdca26"
             ],
             [
              1,
              "#f0f921"
             ]
            ],
            "type": "contour"
           }
          ],
          "contourcarpet": [
           {
            "colorbar": {
             "outlinewidth": 0,
             "ticks": ""
            },
            "type": "contourcarpet"
           }
          ],
          "heatmap": [
           {
            "colorbar": {
             "outlinewidth": 0,
             "ticks": ""
            },
            "colorscale": [
             [
              0,
              "#0d0887"
             ],
             [
              0.1111111111111111,
              "#46039f"
             ],
             [
              0.2222222222222222,
              "#7201a8"
             ],
             [
              0.3333333333333333,
              "#9c179e"
             ],
             [
              0.4444444444444444,
              "#bd3786"
             ],
             [
              0.5555555555555556,
              "#d8576b"
             ],
             [
              0.6666666666666666,
              "#ed7953"
             ],
             [
              0.7777777777777778,
              "#fb9f3a"
             ],
             [
              0.8888888888888888,
              "#fdca26"
             ],
             [
              1,
              "#f0f921"
             ]
            ],
            "type": "heatmap"
           }
          ],
          "heatmapgl": [
           {
            "colorbar": {
             "outlinewidth": 0,
             "ticks": ""
            },
            "colorscale": [
             [
              0,
              "#0d0887"
             ],
             [
              0.1111111111111111,
              "#46039f"
             ],
             [
              0.2222222222222222,
              "#7201a8"
             ],
             [
              0.3333333333333333,
              "#9c179e"
             ],
             [
              0.4444444444444444,
              "#bd3786"
             ],
             [
              0.5555555555555556,
              "#d8576b"
             ],
             [
              0.6666666666666666,
              "#ed7953"
             ],
             [
              0.7777777777777778,
              "#fb9f3a"
             ],
             [
              0.8888888888888888,
              "#fdca26"
             ],
             [
              1,
              "#f0f921"
             ]
            ],
            "type": "heatmapgl"
           }
          ],
          "histogram": [
           {
            "marker": {
             "pattern": {
              "fillmode": "overlay",
              "size": 10,
              "solidity": 0.2
             }
            },
            "type": "histogram"
           }
          ],
          "histogram2d": [
           {
            "colorbar": {
             "outlinewidth": 0,
             "ticks": ""
            },
            "colorscale": [
             [
              0,
              "#0d0887"
             ],
             [
              0.1111111111111111,
              "#46039f"
             ],
             [
              0.2222222222222222,
              "#7201a8"
             ],
             [
              0.3333333333333333,
              "#9c179e"
             ],
             [
              0.4444444444444444,
              "#bd3786"
             ],
             [
              0.5555555555555556,
              "#d8576b"
             ],
             [
              0.6666666666666666,
              "#ed7953"
             ],
             [
              0.7777777777777778,
              "#fb9f3a"
             ],
             [
              0.8888888888888888,
              "#fdca26"
             ],
             [
              1,
              "#f0f921"
             ]
            ],
            "type": "histogram2d"
           }
          ],
          "histogram2dcontour": [
           {
            "colorbar": {
             "outlinewidth": 0,
             "ticks": ""
            },
            "colorscale": [
             [
              0,
              "#0d0887"
             ],
             [
              0.1111111111111111,
              "#46039f"
             ],
             [
              0.2222222222222222,
              "#7201a8"
             ],
             [
              0.3333333333333333,
              "#9c179e"
             ],
             [
              0.4444444444444444,
              "#bd3786"
             ],
             [
              0.5555555555555556,
              "#d8576b"
             ],
             [
              0.6666666666666666,
              "#ed7953"
             ],
             [
              0.7777777777777778,
              "#fb9f3a"
             ],
             [
              0.8888888888888888,
              "#fdca26"
             ],
             [
              1,
              "#f0f921"
             ]
            ],
            "type": "histogram2dcontour"
           }
          ],
          "mesh3d": [
           {
            "colorbar": {
             "outlinewidth": 0,
             "ticks": ""
            },
            "type": "mesh3d"
           }
          ],
          "parcoords": [
           {
            "line": {
             "colorbar": {
              "outlinewidth": 0,
              "ticks": ""
             }
            },
            "type": "parcoords"
           }
          ],
          "pie": [
           {
            "automargin": true,
            "type": "pie"
           }
          ],
          "scatter": [
           {
            "fillpattern": {
             "fillmode": "overlay",
             "size": 10,
             "solidity": 0.2
            },
            "type": "scatter"
           }
          ],
          "scatter3d": [
           {
            "line": {
             "colorbar": {
              "outlinewidth": 0,
              "ticks": ""
             }
            },
            "marker": {
             "colorbar": {
              "outlinewidth": 0,
              "ticks": ""
             }
            },
            "type": "scatter3d"
           }
          ],
          "scattercarpet": [
           {
            "marker": {
             "colorbar": {
              "outlinewidth": 0,
              "ticks": ""
             }
            },
            "type": "scattercarpet"
           }
          ],
          "scattergeo": [
           {
            "marker": {
             "colorbar": {
              "outlinewidth": 0,
              "ticks": ""
             }
            },
            "type": "scattergeo"
           }
          ],
          "scattergl": [
           {
            "marker": {
             "colorbar": {
              "outlinewidth": 0,
              "ticks": ""
             }
            },
            "type": "scattergl"
           }
          ],
          "scattermapbox": [
           {
            "marker": {
             "colorbar": {
              "outlinewidth": 0,
              "ticks": ""
             }
            },
            "type": "scattermapbox"
           }
          ],
          "scatterpolar": [
           {
            "marker": {
             "colorbar": {
              "outlinewidth": 0,
              "ticks": ""
             }
            },
            "type": "scatterpolar"
           }
          ],
          "scatterpolargl": [
           {
            "marker": {
             "colorbar": {
              "outlinewidth": 0,
              "ticks": ""
             }
            },
            "type": "scatterpolargl"
           }
          ],
          "scatterternary": [
           {
            "marker": {
             "colorbar": {
              "outlinewidth": 0,
              "ticks": ""
             }
            },
            "type": "scatterternary"
           }
          ],
          "surface": [
           {
            "colorbar": {
             "outlinewidth": 0,
             "ticks": ""
            },
            "colorscale": [
             [
              0,
              "#0d0887"
             ],
             [
              0.1111111111111111,
              "#46039f"
             ],
             [
              0.2222222222222222,
              "#7201a8"
             ],
             [
              0.3333333333333333,
              "#9c179e"
             ],
             [
              0.4444444444444444,
              "#bd3786"
             ],
             [
              0.5555555555555556,
              "#d8576b"
             ],
             [
              0.6666666666666666,
              "#ed7953"
             ],
             [
              0.7777777777777778,
              "#fb9f3a"
             ],
             [
              0.8888888888888888,
              "#fdca26"
             ],
             [
              1,
              "#f0f921"
             ]
            ],
            "type": "surface"
           }
          ],
          "table": [
           {
            "cells": {
             "fill": {
              "color": "#EBF0F8"
             },
             "line": {
              "color": "white"
             }
            },
            "header": {
             "fill": {
              "color": "#C8D4E3"
             },
             "line": {
              "color": "white"
             }
            },
            "type": "table"
           }
          ]
         },
         "layout": {
          "annotationdefaults": {
           "arrowcolor": "#2a3f5f",
           "arrowhead": 0,
           "arrowwidth": 1
          },
          "autotypenumbers": "strict",
          "coloraxis": {
           "colorbar": {
            "outlinewidth": 0,
            "ticks": ""
           }
          },
          "colorscale": {
           "diverging": [
            [
             0,
             "#8e0152"
            ],
            [
             0.1,
             "#c51b7d"
            ],
            [
             0.2,
             "#de77ae"
            ],
            [
             0.3,
             "#f1b6da"
            ],
            [
             0.4,
             "#fde0ef"
            ],
            [
             0.5,
             "#f7f7f7"
            ],
            [
             0.6,
             "#e6f5d0"
            ],
            [
             0.7,
             "#b8e186"
            ],
            [
             0.8,
             "#7fbc41"
            ],
            [
             0.9,
             "#4d9221"
            ],
            [
             1,
             "#276419"
            ]
           ],
           "sequential": [
            [
             0,
             "#0d0887"
            ],
            [
             0.1111111111111111,
             "#46039f"
            ],
            [
             0.2222222222222222,
             "#7201a8"
            ],
            [
             0.3333333333333333,
             "#9c179e"
            ],
            [
             0.4444444444444444,
             "#bd3786"
            ],
            [
             0.5555555555555556,
             "#d8576b"
            ],
            [
             0.6666666666666666,
             "#ed7953"
            ],
            [
             0.7777777777777778,
             "#fb9f3a"
            ],
            [
             0.8888888888888888,
             "#fdca26"
            ],
            [
             1,
             "#f0f921"
            ]
           ],
           "sequentialminus": [
            [
             0,
             "#0d0887"
            ],
            [
             0.1111111111111111,
             "#46039f"
            ],
            [
             0.2222222222222222,
             "#7201a8"
            ],
            [
             0.3333333333333333,
             "#9c179e"
            ],
            [
             0.4444444444444444,
             "#bd3786"
            ],
            [
             0.5555555555555556,
             "#d8576b"
            ],
            [
             0.6666666666666666,
             "#ed7953"
            ],
            [
             0.7777777777777778,
             "#fb9f3a"
            ],
            [
             0.8888888888888888,
             "#fdca26"
            ],
            [
             1,
             "#f0f921"
            ]
           ]
          },
          "colorway": [
           "#636efa",
           "#EF553B",
           "#00cc96",
           "#ab63fa",
           "#FFA15A",
           "#19d3f3",
           "#FF6692",
           "#B6E880",
           "#FF97FF",
           "#FECB52"
          ],
          "font": {
           "color": "#2a3f5f"
          },
          "geo": {
           "bgcolor": "white",
           "lakecolor": "white",
           "landcolor": "white",
           "showlakes": true,
           "showland": true,
           "subunitcolor": "#C8D4E3"
          },
          "hoverlabel": {
           "align": "left"
          },
          "hovermode": "closest",
          "mapbox": {
           "style": "light"
          },
          "paper_bgcolor": "white",
          "plot_bgcolor": "white",
          "polar": {
           "angularaxis": {
            "gridcolor": "#EBF0F8",
            "linecolor": "#EBF0F8",
            "ticks": ""
           },
           "bgcolor": "white",
           "radialaxis": {
            "gridcolor": "#EBF0F8",
            "linecolor": "#EBF0F8",
            "ticks": ""
           }
          },
          "scene": {
           "xaxis": {
            "backgroundcolor": "white",
            "gridcolor": "#DFE8F3",
            "gridwidth": 2,
            "linecolor": "#EBF0F8",
            "showbackground": true,
            "ticks": "",
            "zerolinecolor": "#EBF0F8"
           },
           "yaxis": {
            "backgroundcolor": "white",
            "gridcolor": "#DFE8F3",
            "gridwidth": 2,
            "linecolor": "#EBF0F8",
            "showbackground": true,
            "ticks": "",
            "zerolinecolor": "#EBF0F8"
           },
           "zaxis": {
            "backgroundcolor": "white",
            "gridcolor": "#DFE8F3",
            "gridwidth": 2,
            "linecolor": "#EBF0F8",
            "showbackground": true,
            "ticks": "",
            "zerolinecolor": "#EBF0F8"
           }
          },
          "shapedefaults": {
           "line": {
            "color": "#2a3f5f"
           }
          },
          "ternary": {
           "aaxis": {
            "gridcolor": "#DFE8F3",
            "linecolor": "#A2B1C6",
            "ticks": ""
           },
           "baxis": {
            "gridcolor": "#DFE8F3",
            "linecolor": "#A2B1C6",
            "ticks": ""
           },
           "bgcolor": "white",
           "caxis": {
            "gridcolor": "#DFE8F3",
            "linecolor": "#A2B1C6",
            "ticks": ""
           }
          },
          "title": {
           "x": 0.05
          },
          "xaxis": {
           "automargin": true,
           "gridcolor": "#EBF0F8",
           "linecolor": "#EBF0F8",
           "ticks": "",
           "title": {
            "standoff": 15
           },
           "zerolinecolor": "#EBF0F8",
           "zerolinewidth": 2
          },
          "yaxis": {
           "automargin": true,
           "gridcolor": "#EBF0F8",
           "linecolor": "#EBF0F8",
           "ticks": "",
           "title": {
            "standoff": 15
           },
           "zerolinecolor": "#EBF0F8",
           "zerolinewidth": 2
          }
         }
        },
        "title": {
         "text": "Top 15 Courses by Students Enrolled"
        },
        "xaxis": {
         "anchor": "y",
         "domain": [
          0,
          1
         ],
         "title": {
          "text": "Number of Students Enrolled"
         }
        },
        "yaxis": {
         "anchor": "x",
         "autorange": "reversed",
         "domain": [
          0,
          1
         ],
         "title": {}
        }
       }
      }
     },
     "metadata": {},
     "output_type": "display_data"
    }
   ],
   "source": [
    "# checking the top 15 courses by the number of students enrolled\n",
    "top_courses = (\n",
    "    df[[\"course_title\", \"course_students_enrolled\"]]\n",
    "    .sort_values(by=\"course_students_enrolled\", ascending=False)\n",
    "    .head(15)\n",
    ")\n",
    "\n",
    "# Limit course title to 30 characters and add '...' at the end\n",
    "top_courses[\"course_title\"] = top_courses[\"course_title\"].apply(\n",
    "    lambda x: x[:30] + \"...\" if len(x) > 30 else x\n",
    ")\n",
    "\n",
    "# сreate a horizontal bar chart using Plotly Express\n",
    "fig = px.bar(\n",
    "    top_courses,\n",
    "    y=\"course_title\",\n",
    "    x=\"course_students_enrolled\",\n",
    "    title=\"Top 15 Courses by Students Enrolled\",\n",
    "    text=\"course_students_enrolled\",\n",
    "    template=\"plotly_white\",\n",
    ")\n",
    "\n",
    "# customize the layout for better readability\n",
    "fig.update_layout(\n",
    "    xaxis_title=\"Number of Students Enrolled\",\n",
    "    yaxis_title=None,  # no title for the y axis (course names are self-explanatory)\n",
    "    showlegend=False,\n",
    "    yaxis=dict(autorange=\"reversed\"),\n",
    "    height=600,\n",
    ")\n",
    "\n",
    "fig.show()"
   ]
  },
  {
   "cell_type": "markdown",
   "metadata": {},
   "source": [
    "we see that courses on programming, English and business skills are on demand. But also we see that the 2nd place is taken by 'Well-being' course which may mean that people wanna know more about the ways of filling better or may be that this course was somehow actively promoted."
   ]
  },
  {
   "cell_type": "code",
   "execution_count": null,
   "metadata": {},
   "outputs": [
    {
     "data": {
      "application/vnd.plotly.v1+json": {
       "config": {
        "plotlyServerURL": "https://plot.ly"
       },
       "data": [
        {
         "alignmentgroup": "True",
         "bingroup": "x",
         "hovertemplate": "Course Rating=%{x}<br>count=%{y}<extra></extra>",
         "legendgroup": "",
         "marker": {
          "color": "seagreen",
          "pattern": {
           "shape": ""
          }
         },
         "name": "",
         "nbinsx": 20,
         "offsetgroup": "",
         "orientation": "v",
         "showlegend": false,
         "type": "histogram",
         "x": [
          4.7,
          4.7,
          4.5,
          4.7,
          4.8,
          4.7,
          4.8,
          4.8,
          4.7,
          4.7,
          4.6,
          4.7,
          4.6,
          4.3,
          4.7,
          4.7,
          4.5,
          4.7,
          4.7,
          4.7,
          4.6,
          4.5,
          4.8,
          4.7,
          4.8,
          4.8,
          4.5,
          4.4,
          4.5,
          4.5,
          4.7,
          4.8,
          4.7,
          4.7,
          4.7,
          4.7,
          4.9,
          4.7,
          4.8,
          4.8,
          4.9,
          4.8,
          4.7,
          4.6,
          4.6,
          4.8,
          4.8,
          4.8,
          4.8,
          4.5,
          4.8,
          4.5,
          4.8,
          4.6,
          4.6,
          4.7,
          4.5,
          4.6,
          4.6,
          4.2,
          4.8,
          4.9,
          4.5,
          4.7,
          4.5,
          4.9,
          4.8,
          4.8,
          4.6,
          4.8,
          4.9,
          4.7,
          4.8,
          4.6,
          4.8,
          4.8,
          4.7,
          4.7,
          4.6,
          4.6,
          4.8,
          4.8,
          4.9,
          4.7,
          4.7,
          4.7,
          4.8,
          4.4,
          4.6,
          4.5,
          4.6,
          4.4,
          4.8,
          4.8,
          4.6,
          4.7,
          4.6,
          4.7,
          4.9,
          4.9,
          4.6,
          4.7,
          4.9,
          4.9,
          4.5,
          4.5,
          4.6,
          4.3,
          4.5,
          4.6,
          4.7,
          4.7,
          4.7,
          4.7,
          4.7,
          4.7,
          4.7,
          4.7,
          4.5,
          4.7,
          4.8,
          4.5,
          4.5,
          4.7,
          4.9,
          4.8,
          4.7,
          4.7,
          4.6,
          4.4,
          4.8,
          4.7,
          4.7,
          4.7,
          4.8,
          4.7,
          4.8,
          4.8,
          4.6,
          4.8,
          4.4,
          4.5,
          4.7,
          4.7,
          4.7,
          4.7,
          4.8,
          4.9,
          4.7,
          4.7,
          4.6,
          4.8,
          4.6,
          4.3,
          4.7,
          4.7,
          4.8,
          4.8,
          4.7,
          4.5,
          4.6,
          4.8,
          4.9,
          4.7,
          4.8,
          4.8,
          4.8,
          4.6,
          4.6,
          4.8,
          4.8,
          4.8,
          4.3,
          4.6,
          4.7,
          4.7,
          4.8,
          4.8,
          4.6,
          4.6,
          4.7,
          4.5,
          4.2,
          4.6,
          4.8,
          4.8,
          4.4,
          4.6,
          4.7,
          4.8,
          4.7,
          4.4,
          4.6,
          4.6,
          4.7,
          4.4,
          4.5,
          4.5,
          4.6,
          4.6,
          4.4,
          4.7,
          4.8,
          4.6,
          4.5,
          4.5,
          4.7,
          4.6,
          4.7,
          4.8,
          4.6,
          4.8,
          4.8,
          4.7,
          4.4,
          4.6,
          4.6,
          4.7,
          4.7,
          4.6,
          4.6,
          4.7,
          4.8,
          4.6,
          4.8,
          4.8,
          4.7,
          4.4,
          4.5,
          4.6,
          4.6,
          4.4,
          4.7,
          4.7,
          4.5,
          4.9,
          4.6,
          4.9,
          4.8,
          4.6,
          4.8,
          4.7,
          4.6,
          4.7,
          4.8,
          4.8,
          4.7,
          4.9,
          4.7,
          4.9,
          4.9,
          5,
          4.7,
          4.8,
          4.8,
          4.6,
          4.7,
          4.8,
          4.7,
          4.6,
          4.8,
          4.8,
          4.8,
          4.6,
          4.8,
          4.4,
          4.5,
          4.8,
          4.8,
          4.8,
          4.7,
          4.8,
          4.6,
          4.8,
          4.7,
          4.7,
          4.7,
          4.6,
          4.8,
          4.8,
          4.5,
          4.7,
          4.7,
          4.7,
          4.8,
          4.6,
          4.8,
          4.7,
          4.8,
          4.8,
          4.9,
          4.9,
          4.7,
          4.9,
          4.9,
          4.8,
          4.6,
          4.8,
          4.8,
          4.5,
          4.8,
          4.8,
          4.8,
          4.8,
          4.6,
          4.7,
          4.5,
          4.8,
          4.4,
          4.8,
          4.5,
          4.6,
          4.7,
          4.8,
          4.5,
          4.8,
          4.7,
          4.8,
          4.6,
          4.8,
          4.7,
          4.6,
          4.9,
          4.8,
          4.7,
          4.9,
          4.8,
          4.8,
          4.8,
          4.7,
          4.8,
          4.2,
          4.8,
          4.8,
          4.6,
          4.8,
          4.7,
          4.8,
          4.7,
          4.7,
          4.8,
          4.7,
          4.6,
          4.6,
          4.8,
          4.7,
          4.8,
          4.8,
          4.7,
          4.7,
          4.6,
          4.7,
          4.6,
          4.8,
          4.5,
          4.6,
          4.6,
          4.7,
          4.8,
          4.6,
          4.6,
          4.8,
          4.7,
          4.8,
          4.7,
          4.6,
          4.8,
          4.7,
          4.4,
          4.8,
          4.3,
          4.8,
          4.7,
          4.7,
          4.5,
          4.5,
          4.6,
          4.5,
          4.6,
          4.9,
          4.6,
          4.7,
          4.5,
          4.6,
          4.6,
          4.6,
          4.8,
          4.8,
          4.6,
          4.6,
          4.7,
          4.7,
          4.8,
          4.7,
          4.7,
          4.8,
          4.6,
          4.8,
          4.7,
          4.8,
          4.7,
          4.8,
          4.2,
          4.6,
          4.5,
          4.5,
          4.7,
          4.4,
          4.6,
          4.8,
          4.7,
          4.6,
          4.8,
          3.3,
          4.1,
          4.7,
          4.6,
          4.4,
          4.6,
          4.8,
          4.6,
          4.5,
          4.8,
          4.9,
          4.7,
          4.6,
          4.7,
          4.9,
          4.4,
          4.9,
          4.8,
          4.5,
          5,
          4.4,
          4.8,
          4.6,
          4.6,
          4.7,
          4.7,
          4.6,
          4.8,
          4.8,
          4.5,
          4.7,
          4.8,
          4.2,
          4.6,
          4.8,
          4.8,
          4.5,
          4.6,
          4.5,
          4.4,
          4.8,
          4.8,
          4.8,
          4.8,
          4.6,
          4.8,
          4.5,
          4.9,
          4.6,
          4.7,
          4.8,
          4.6,
          4.7,
          4.4,
          4.8,
          4.8,
          4.7,
          4.6,
          4.7,
          4.9,
          4.7,
          4.8,
          4.8,
          4.8,
          4.9,
          4.6,
          4.3,
          4.3,
          4.6,
          4.7,
          4.7,
          4.5,
          4.7,
          4.6,
          4.5,
          4.8,
          4.4,
          4.7,
          4.5,
          4.7,
          4.8,
          4.7,
          4.9,
          4.8,
          4.8,
          4.6,
          4.7,
          4.5,
          4.8,
          4.8,
          4.8,
          4.8,
          4.5,
          4.4,
          4.6,
          4.8,
          4.7,
          4.7,
          4.8,
          4.9,
          4.7,
          4.8,
          4.2,
          4.7,
          4.8,
          4.8,
          4.7,
          4.7,
          4.8,
          4,
          4.8,
          4.5,
          4.8,
          4.7,
          4.8,
          4.7,
          4.9,
          4.9,
          4.7,
          4.6,
          4.5,
          4.6,
          4.6,
          4.6,
          4.5,
          4.7,
          4.7,
          4.6,
          4.7,
          4.7,
          4.8,
          4.7,
          4.7,
          4.8,
          4.8,
          4.3,
          4.5,
          4.8,
          4.7,
          4.8,
          4.6,
          4.6,
          4.8,
          4.9,
          4.7,
          4.5,
          4.7,
          4.8,
          4.6,
          4.7,
          4.6,
          4.9,
          4.6,
          3.7,
          4.6,
          4.6,
          3.9,
          4.7,
          4.5,
          4.6,
          4.7,
          4.7,
          4.9,
          4.7,
          4.7,
          4.7,
          4.5,
          4.6,
          4.5,
          4.8,
          4.7,
          4.7,
          4.6,
          4.4,
          4.8,
          4.4,
          4.7,
          4.2,
          4.6,
          4.3,
          4.7,
          4.5,
          4.6,
          4.7,
          4.7,
          4,
          4.8,
          4.9,
          4.3,
          4.6,
          4.9,
          4.7,
          4.8,
          4.7,
          4.8,
          4.6,
          4.7,
          4.8,
          4.7,
          4.7,
          4.8,
          4.9,
          4.9,
          4.8,
          4.8,
          4.9,
          4.8,
          4.8,
          4.6,
          4.8,
          4.7,
          4.8,
          4.7,
          4.9,
          4.7,
          4.7,
          4.8,
          4.8,
          4.8,
          4.7,
          4.6,
          4.7,
          4.7,
          4.8,
          4.4,
          4.6,
          4.7,
          4.2,
          4.7,
          4.7,
          4.8,
          4.6,
          4.5,
          4.5,
          4.8,
          4.6,
          4.5,
          4.7,
          4.9,
          4.7,
          4.7,
          4.7,
          4.8,
          4.7,
          4.8,
          4.8,
          4.6,
          4.8,
          4.7,
          4.6,
          4.7,
          4.8,
          4.6,
          4.8,
          4.8,
          4.8,
          4.7,
          4.6,
          4.8,
          4.6,
          4.7,
          4.8,
          4.6,
          4.2,
          4.7,
          4.6,
          4.7,
          4.8,
          4.6,
          4.8,
          4.7,
          4.9,
          4.8,
          4.4,
          4.6,
          4.8,
          4.7,
          4.9,
          4.6,
          4.8,
          4.3,
          4.7,
          4.7,
          4.7,
          4.7,
          4.6,
          4.6,
          4.8,
          4.5,
          4.9,
          4.9,
          4.4,
          4.9,
          4.7,
          4.7,
          4.5,
          4.8,
          4.6,
          4.6,
          4.4,
          4.7,
          4.8,
          4.5,
          4.8,
          4.8,
          4.7,
          4.4,
          4.7,
          4.7,
          4.7,
          4.8,
          4.8,
          4.7,
          4.5,
          4.7,
          4.7,
          4.8,
          4.6,
          4.6,
          4.6,
          4.6,
          4.8,
          4.7,
          4.8,
          4.6,
          4.6,
          4.7,
          4.6,
          4.8,
          4.8,
          4.9,
          4.8,
          4.6,
          4.6,
          4.7,
          4.8,
          4.7,
          4.7,
          4.7,
          4.6,
          4.7,
          4.9,
          4.3,
          4.7,
          4.7,
          4.7,
          4.7,
          4.5,
          4.8,
          4.6,
          4.8,
          4.8,
          4.8,
          4.8,
          4.7,
          4.6,
          4.7,
          4.7,
          4.8,
          4.6,
          4.8,
          4.3,
          4.6,
          4.5,
          4.7,
          4.4,
          4.9,
          4.9,
          4.9,
          4.9,
          4.4,
          4.8,
          4.8,
          4.8,
          4.7,
          4.5,
          4.8,
          4.6,
          4.8,
          4.7,
          4.5,
          4.7,
          4.6,
          4.8,
          4.7,
          4.8,
          4.8,
          4.6,
          4.8,
          4.8,
          4.9,
          4.6,
          4.8,
          4.8,
          4.9,
          4.6,
          4.7,
          4.6,
          4.6,
          4.7,
          4.8,
          4.9,
          4.9,
          4.8,
          4.6,
          4.5,
          4.8,
          4.7,
          4.8,
          4.7,
          4.7,
          4.6,
          4.6,
          4.3,
          4.8,
          4.7,
          4.9,
          4.8,
          4.6,
          4.7,
          4.8,
          4.8,
          4.8,
          4.9,
          4.8,
          4.4,
          4.8,
          4.5,
          4.7,
          4.9,
          4.5,
          4.2,
          4.8,
          4.9,
          4.8,
          4.6,
          4.8,
          4.8,
          4.7,
          4.7,
          4.8,
          4.7,
          4.7,
          4.3,
          4.8,
          4.8,
          4.7,
          4.7,
          4.7,
          4.7,
          4.8,
          4.7,
          4.6,
          4.7,
          4.8,
          4.9,
          4.7,
          4.4,
          4.9,
          4.5,
          3.9,
          4.7,
          4.8,
          4.5,
          4.6,
          4.9,
          4.5,
          4.8,
          4.7,
          4.5,
          4.6,
          4.9,
          4.7,
          4.5,
          4.8,
          4.5,
          4.6,
          4.7
         ],
         "xaxis": "x",
         "yaxis": "y"
        }
       ],
       "layout": {
        "bargap": 0.1,
        "barmode": "relative",
        "legend": {
         "tracegroupgap": 0
        },
        "template": {
         "data": {
          "bar": [
           {
            "error_x": {
             "color": "#2a3f5f"
            },
            "error_y": {
             "color": "#2a3f5f"
            },
            "marker": {
             "line": {
              "color": "#E5ECF6",
              "width": 0.5
             },
             "pattern": {
              "fillmode": "overlay",
              "size": 10,
              "solidity": 0.2
             }
            },
            "type": "bar"
           }
          ],
          "barpolar": [
           {
            "marker": {
             "line": {
              "color": "#E5ECF6",
              "width": 0.5
             },
             "pattern": {
              "fillmode": "overlay",
              "size": 10,
              "solidity": 0.2
             }
            },
            "type": "barpolar"
           }
          ],
          "carpet": [
           {
            "aaxis": {
             "endlinecolor": "#2a3f5f",
             "gridcolor": "white",
             "linecolor": "white",
             "minorgridcolor": "white",
             "startlinecolor": "#2a3f5f"
            },
            "baxis": {
             "endlinecolor": "#2a3f5f",
             "gridcolor": "white",
             "linecolor": "white",
             "minorgridcolor": "white",
             "startlinecolor": "#2a3f5f"
            },
            "type": "carpet"
           }
          ],
          "choropleth": [
           {
            "colorbar": {
             "outlinewidth": 0,
             "ticks": ""
            },
            "type": "choropleth"
           }
          ],
          "contour": [
           {
            "colorbar": {
             "outlinewidth": 0,
             "ticks": ""
            },
            "colorscale": [
             [
              0,
              "#0d0887"
             ],
             [
              0.1111111111111111,
              "#46039f"
             ],
             [
              0.2222222222222222,
              "#7201a8"
             ],
             [
              0.3333333333333333,
              "#9c179e"
             ],
             [
              0.4444444444444444,
              "#bd3786"
             ],
             [
              0.5555555555555556,
              "#d8576b"
             ],
             [
              0.6666666666666666,
              "#ed7953"
             ],
             [
              0.7777777777777778,
              "#fb9f3a"
             ],
             [
              0.8888888888888888,
              "#fdca26"
             ],
             [
              1,
              "#f0f921"
             ]
            ],
            "type": "contour"
           }
          ],
          "contourcarpet": [
           {
            "colorbar": {
             "outlinewidth": 0,
             "ticks": ""
            },
            "type": "contourcarpet"
           }
          ],
          "heatmap": [
           {
            "colorbar": {
             "outlinewidth": 0,
             "ticks": ""
            },
            "colorscale": [
             [
              0,
              "#0d0887"
             ],
             [
              0.1111111111111111,
              "#46039f"
             ],
             [
              0.2222222222222222,
              "#7201a8"
             ],
             [
              0.3333333333333333,
              "#9c179e"
             ],
             [
              0.4444444444444444,
              "#bd3786"
             ],
             [
              0.5555555555555556,
              "#d8576b"
             ],
             [
              0.6666666666666666,
              "#ed7953"
             ],
             [
              0.7777777777777778,
              "#fb9f3a"
             ],
             [
              0.8888888888888888,
              "#fdca26"
             ],
             [
              1,
              "#f0f921"
             ]
            ],
            "type": "heatmap"
           }
          ],
          "heatmapgl": [
           {
            "colorbar": {
             "outlinewidth": 0,
             "ticks": ""
            },
            "colorscale": [
             [
              0,
              "#0d0887"
             ],
             [
              0.1111111111111111,
              "#46039f"
             ],
             [
              0.2222222222222222,
              "#7201a8"
             ],
             [
              0.3333333333333333,
              "#9c179e"
             ],
             [
              0.4444444444444444,
              "#bd3786"
             ],
             [
              0.5555555555555556,
              "#d8576b"
             ],
             [
              0.6666666666666666,
              "#ed7953"
             ],
             [
              0.7777777777777778,
              "#fb9f3a"
             ],
             [
              0.8888888888888888,
              "#fdca26"
             ],
             [
              1,
              "#f0f921"
             ]
            ],
            "type": "heatmapgl"
           }
          ],
          "histogram": [
           {
            "marker": {
             "pattern": {
              "fillmode": "overlay",
              "size": 10,
              "solidity": 0.2
             }
            },
            "type": "histogram"
           }
          ],
          "histogram2d": [
           {
            "colorbar": {
             "outlinewidth": 0,
             "ticks": ""
            },
            "colorscale": [
             [
              0,
              "#0d0887"
             ],
             [
              0.1111111111111111,
              "#46039f"
             ],
             [
              0.2222222222222222,
              "#7201a8"
             ],
             [
              0.3333333333333333,
              "#9c179e"
             ],
             [
              0.4444444444444444,
              "#bd3786"
             ],
             [
              0.5555555555555556,
              "#d8576b"
             ],
             [
              0.6666666666666666,
              "#ed7953"
             ],
             [
              0.7777777777777778,
              "#fb9f3a"
             ],
             [
              0.8888888888888888,
              "#fdca26"
             ],
             [
              1,
              "#f0f921"
             ]
            ],
            "type": "histogram2d"
           }
          ],
          "histogram2dcontour": [
           {
            "colorbar": {
             "outlinewidth": 0,
             "ticks": ""
            },
            "colorscale": [
             [
              0,
              "#0d0887"
             ],
             [
              0.1111111111111111,
              "#46039f"
             ],
             [
              0.2222222222222222,
              "#7201a8"
             ],
             [
              0.3333333333333333,
              "#9c179e"
             ],
             [
              0.4444444444444444,
              "#bd3786"
             ],
             [
              0.5555555555555556,
              "#d8576b"
             ],
             [
              0.6666666666666666,
              "#ed7953"
             ],
             [
              0.7777777777777778,
              "#fb9f3a"
             ],
             [
              0.8888888888888888,
              "#fdca26"
             ],
             [
              1,
              "#f0f921"
             ]
            ],
            "type": "histogram2dcontour"
           }
          ],
          "mesh3d": [
           {
            "colorbar": {
             "outlinewidth": 0,
             "ticks": ""
            },
            "type": "mesh3d"
           }
          ],
          "parcoords": [
           {
            "line": {
             "colorbar": {
              "outlinewidth": 0,
              "ticks": ""
             }
            },
            "type": "parcoords"
           }
          ],
          "pie": [
           {
            "automargin": true,
            "type": "pie"
           }
          ],
          "scatter": [
           {
            "fillpattern": {
             "fillmode": "overlay",
             "size": 10,
             "solidity": 0.2
            },
            "type": "scatter"
           }
          ],
          "scatter3d": [
           {
            "line": {
             "colorbar": {
              "outlinewidth": 0,
              "ticks": ""
             }
            },
            "marker": {
             "colorbar": {
              "outlinewidth": 0,
              "ticks": ""
             }
            },
            "type": "scatter3d"
           }
          ],
          "scattercarpet": [
           {
            "marker": {
             "colorbar": {
              "outlinewidth": 0,
              "ticks": ""
             }
            },
            "type": "scattercarpet"
           }
          ],
          "scattergeo": [
           {
            "marker": {
             "colorbar": {
              "outlinewidth": 0,
              "ticks": ""
             }
            },
            "type": "scattergeo"
           }
          ],
          "scattergl": [
           {
            "marker": {
             "colorbar": {
              "outlinewidth": 0,
              "ticks": ""
             }
            },
            "type": "scattergl"
           }
          ],
          "scattermapbox": [
           {
            "marker": {
             "colorbar": {
              "outlinewidth": 0,
              "ticks": ""
             }
            },
            "type": "scattermapbox"
           }
          ],
          "scatterpolar": [
           {
            "marker": {
             "colorbar": {
              "outlinewidth": 0,
              "ticks": ""
             }
            },
            "type": "scatterpolar"
           }
          ],
          "scatterpolargl": [
           {
            "marker": {
             "colorbar": {
              "outlinewidth": 0,
              "ticks": ""
             }
            },
            "type": "scatterpolargl"
           }
          ],
          "scatterternary": [
           {
            "marker": {
             "colorbar": {
              "outlinewidth": 0,
              "ticks": ""
             }
            },
            "type": "scatterternary"
           }
          ],
          "surface": [
           {
            "colorbar": {
             "outlinewidth": 0,
             "ticks": ""
            },
            "colorscale": [
             [
              0,
              "#0d0887"
             ],
             [
              0.1111111111111111,
              "#46039f"
             ],
             [
              0.2222222222222222,
              "#7201a8"
             ],
             [
              0.3333333333333333,
              "#9c179e"
             ],
             [
              0.4444444444444444,
              "#bd3786"
             ],
             [
              0.5555555555555556,
              "#d8576b"
             ],
             [
              0.6666666666666666,
              "#ed7953"
             ],
             [
              0.7777777777777778,
              "#fb9f3a"
             ],
             [
              0.8888888888888888,
              "#fdca26"
             ],
             [
              1,
              "#f0f921"
             ]
            ],
            "type": "surface"
           }
          ],
          "table": [
           {
            "cells": {
             "fill": {
              "color": "#EBF0F8"
             },
             "line": {
              "color": "white"
             }
            },
            "header": {
             "fill": {
              "color": "#C8D4E3"
             },
             "line": {
              "color": "white"
             }
            },
            "type": "table"
           }
          ]
         },
         "layout": {
          "annotationdefaults": {
           "arrowcolor": "#2a3f5f",
           "arrowhead": 0,
           "arrowwidth": 1
          },
          "autotypenumbers": "strict",
          "coloraxis": {
           "colorbar": {
            "outlinewidth": 0,
            "ticks": ""
           }
          },
          "colorscale": {
           "diverging": [
            [
             0,
             "#8e0152"
            ],
            [
             0.1,
             "#c51b7d"
            ],
            [
             0.2,
             "#de77ae"
            ],
            [
             0.3,
             "#f1b6da"
            ],
            [
             0.4,
             "#fde0ef"
            ],
            [
             0.5,
             "#f7f7f7"
            ],
            [
             0.6,
             "#e6f5d0"
            ],
            [
             0.7,
             "#b8e186"
            ],
            [
             0.8,
             "#7fbc41"
            ],
            [
             0.9,
             "#4d9221"
            ],
            [
             1,
             "#276419"
            ]
           ],
           "sequential": [
            [
             0,
             "#0d0887"
            ],
            [
             0.1111111111111111,
             "#46039f"
            ],
            [
             0.2222222222222222,
             "#7201a8"
            ],
            [
             0.3333333333333333,
             "#9c179e"
            ],
            [
             0.4444444444444444,
             "#bd3786"
            ],
            [
             0.5555555555555556,
             "#d8576b"
            ],
            [
             0.6666666666666666,
             "#ed7953"
            ],
            [
             0.7777777777777778,
             "#fb9f3a"
            ],
            [
             0.8888888888888888,
             "#fdca26"
            ],
            [
             1,
             "#f0f921"
            ]
           ],
           "sequentialminus": [
            [
             0,
             "#0d0887"
            ],
            [
             0.1111111111111111,
             "#46039f"
            ],
            [
             0.2222222222222222,
             "#7201a8"
            ],
            [
             0.3333333333333333,
             "#9c179e"
            ],
            [
             0.4444444444444444,
             "#bd3786"
            ],
            [
             0.5555555555555556,
             "#d8576b"
            ],
            [
             0.6666666666666666,
             "#ed7953"
            ],
            [
             0.7777777777777778,
             "#fb9f3a"
            ],
            [
             0.8888888888888888,
             "#fdca26"
            ],
            [
             1,
             "#f0f921"
            ]
           ]
          },
          "colorway": [
           "#636efa",
           "#EF553B",
           "#00cc96",
           "#ab63fa",
           "#FFA15A",
           "#19d3f3",
           "#FF6692",
           "#B6E880",
           "#FF97FF",
           "#FECB52"
          ],
          "font": {
           "color": "#2a3f5f"
          },
          "geo": {
           "bgcolor": "white",
           "lakecolor": "white",
           "landcolor": "#E5ECF6",
           "showlakes": true,
           "showland": true,
           "subunitcolor": "white"
          },
          "hoverlabel": {
           "align": "left"
          },
          "hovermode": "closest",
          "mapbox": {
           "style": "light"
          },
          "paper_bgcolor": "white",
          "plot_bgcolor": "#E5ECF6",
          "polar": {
           "angularaxis": {
            "gridcolor": "white",
            "linecolor": "white",
            "ticks": ""
           },
           "bgcolor": "#E5ECF6",
           "radialaxis": {
            "gridcolor": "white",
            "linecolor": "white",
            "ticks": ""
           }
          },
          "scene": {
           "xaxis": {
            "backgroundcolor": "#E5ECF6",
            "gridcolor": "white",
            "gridwidth": 2,
            "linecolor": "white",
            "showbackground": true,
            "ticks": "",
            "zerolinecolor": "white"
           },
           "yaxis": {
            "backgroundcolor": "#E5ECF6",
            "gridcolor": "white",
            "gridwidth": 2,
            "linecolor": "white",
            "showbackground": true,
            "ticks": "",
            "zerolinecolor": "white"
           },
           "zaxis": {
            "backgroundcolor": "#E5ECF6",
            "gridcolor": "white",
            "gridwidth": 2,
            "linecolor": "white",
            "showbackground": true,
            "ticks": "",
            "zerolinecolor": "white"
           }
          },
          "shapedefaults": {
           "line": {
            "color": "#2a3f5f"
           }
          },
          "ternary": {
           "aaxis": {
            "gridcolor": "white",
            "linecolor": "white",
            "ticks": ""
           },
           "baxis": {
            "gridcolor": "white",
            "linecolor": "white",
            "ticks": ""
           },
           "bgcolor": "#E5ECF6",
           "caxis": {
            "gridcolor": "white",
            "linecolor": "white",
            "ticks": ""
           }
          },
          "title": {
           "x": 0.05
          },
          "xaxis": {
           "automargin": true,
           "gridcolor": "white",
           "linecolor": "white",
           "ticks": "",
           "title": {
            "standoff": 15
           },
           "zerolinecolor": "white",
           "zerolinewidth": 2
          },
          "yaxis": {
           "automargin": true,
           "gridcolor": "white",
           "linecolor": "white",
           "ticks": "",
           "title": {
            "standoff": 15
           },
           "zerolinecolor": "white",
           "zerolinewidth": 2
          }
         }
        },
        "title": {
         "text": "Distribution of Course Ratings"
        },
        "xaxis": {
         "anchor": "y",
         "domain": [
          0,
          1
         ],
         "title": {
          "text": "Course Rating"
         }
        },
        "yaxis": {
         "anchor": "x",
         "domain": [
          0,
          1
         ],
         "title": {
          "text": "count"
         }
        }
       }
      }
     },
     "metadata": {},
     "output_type": "display_data"
    }
   ],
   "source": [
    "# let's check the distribution of ratings\n",
    "fig = px.histogram(\n",
    "    df,\n",
    "    x=\"course_rating\",\n",
    "    nbins=20,\n",
    "    title=\"Distribution of Course Ratings\",\n",
    "    labels={\"course_rating\": \"Course Rating\"},\n",
    "    color_discrete_sequence=[\"seagreen\"],\n",
    ")\n",
    "fig.update_layout(bargap=0.1)\n",
    "fig.show()\n",
    "\n",
    "# the distribution is left-skewed; users tend to leave positive ratings (only 6 ratings are <= 4)"
   ]
  },
  {
   "cell_type": "markdown",
   "metadata": {},
   "source": [
    "Hypothesis 1: Higher-rated courses have more students enrolled\n",
    "\n",
    "Rationale: It's likely that students trust and enroll in courses that have received better reviews from past participants.\n",
    "\n",
    "Approach:\n",
    "- Use a scatter plot to compare 'course_rating' vs 'course_students_enrolled'.\n",
    "- Calculate and visualize correlation using 'df.corr()'.\n",
    "\n",
    "Expected Outcome: A positive correlation between rating and student count."
   ]
  },
  {
   "cell_type": "code",
   "execution_count": 12,
   "metadata": {},
   "outputs": [
    {
     "name": "stdout",
     "output_type": "stream",
     "text": [
      "                          course_rating  course_students_enrolled\n",
      "course_rating                   1.00000                   0.07109\n",
      "course_students_enrolled        0.07109                   1.00000\n"
     ]
    }
   ],
   "source": [
    "numeric_df = df.select_dtypes(include=[\"number\"])\n",
    "correlation_matrix = numeric_df.corr()\n",
    "print(correlation_matrix)"
   ]
  },
  {
   "cell_type": "markdown",
   "metadata": {},
   "source": [
    "the correlation is quite weak so we can assume that there are some other factors impacting the choice of the course like: topic, organization, instructor, duration etc. Also newer courses may have lower amount of students. \n",
    "Let's see the scatter plot to confirm the correlation. "
   ]
  },
  {
   "cell_type": "code",
   "execution_count": null,
   "metadata": {},
   "outputs": [
    {
     "data": {
      "application/vnd.plotly.v1+json": {
       "config": {
        "plotlyServerURL": "https://plot.ly"
       },
       "data": [
        {
         "hovertemplate": "Course Rating=%{x}<br>Students Enrolled=%{y}<extra></extra>",
         "legendgroup": "",
         "marker": {
          "color": "#636efa",
          "opacity": 0.7,
          "symbol": "circle"
         },
         "mode": "markers",
         "name": "",
         "orientation": "v",
         "showlegend": false,
         "type": "scatter",
         "x": [
          4.7,
          4.7,
          4.5,
          4.7,
          4.8,
          4.7,
          4.8,
          4.8,
          4.7,
          4.7,
          4.6,
          4.7,
          4.6,
          4.3,
          4.7,
          4.7,
          4.5,
          4.7,
          4.7,
          4.7,
          4.6,
          4.5,
          4.8,
          4.7,
          4.8,
          4.8,
          4.5,
          4.4,
          4.5,
          4.5,
          4.7,
          4.8,
          4.7,
          4.7,
          4.7,
          4.7,
          4.9,
          4.7,
          4.8,
          4.8,
          4.9,
          4.8,
          4.7,
          4.6,
          4.6,
          4.8,
          4.8,
          4.8,
          4.8,
          4.5,
          4.8,
          4.5,
          4.8,
          4.6,
          4.6,
          4.7,
          4.5,
          4.6,
          4.6,
          4.2,
          4.8,
          4.9,
          4.5,
          4.7,
          4.5,
          4.9,
          4.8,
          4.8,
          4.6,
          4.8,
          4.9,
          4.7,
          4.8,
          4.6,
          4.8,
          4.8,
          4.7,
          4.7,
          4.6,
          4.6,
          4.8,
          4.8,
          4.9,
          4.7,
          4.7,
          4.7,
          4.8,
          4.4,
          4.6,
          4.5,
          4.6,
          4.4,
          4.8,
          4.8,
          4.6,
          4.7,
          4.6,
          4.7,
          4.9,
          4.9,
          4.6,
          4.7,
          4.9,
          4.9,
          4.5,
          4.5,
          4.6,
          4.3,
          4.5,
          4.6,
          4.7,
          4.7,
          4.7,
          4.7,
          4.7,
          4.7,
          4.7,
          4.7,
          4.5,
          4.7,
          4.8,
          4.5,
          4.5,
          4.7,
          4.9,
          4.8,
          4.7,
          4.7,
          4.6,
          4.4,
          4.8,
          4.7,
          4.7,
          4.7,
          4.8,
          4.7,
          4.8,
          4.8,
          4.6,
          4.8,
          4.4,
          4.5,
          4.7,
          4.7,
          4.7,
          4.7,
          4.8,
          4.9,
          4.7,
          4.7,
          4.6,
          4.8,
          4.6,
          4.3,
          4.7,
          4.7,
          4.8,
          4.8,
          4.7,
          4.5,
          4.6,
          4.8,
          4.9,
          4.7,
          4.8,
          4.8,
          4.8,
          4.6,
          4.6,
          4.8,
          4.8,
          4.8,
          4.3,
          4.6,
          4.7,
          4.7,
          4.8,
          4.8,
          4.6,
          4.6,
          4.7,
          4.5,
          4.2,
          4.6,
          4.8,
          4.8,
          4.4,
          4.6,
          4.7,
          4.8,
          4.7,
          4.4,
          4.6,
          4.6,
          4.7,
          4.4,
          4.5,
          4.5,
          4.6,
          4.6,
          4.4,
          4.7,
          4.8,
          4.6,
          4.5,
          4.5,
          4.7,
          4.6,
          4.7,
          4.8,
          4.6,
          4.8,
          4.8,
          4.7,
          4.4,
          4.6,
          4.6,
          4.7,
          4.7,
          4.6,
          4.6,
          4.7,
          4.8,
          4.6,
          4.8,
          4.8,
          4.7,
          4.4,
          4.5,
          4.6,
          4.6,
          4.4,
          4.7,
          4.7,
          4.5,
          4.9,
          4.6,
          4.9,
          4.8,
          4.6,
          4.8,
          4.7,
          4.6,
          4.7,
          4.8,
          4.8,
          4.7,
          4.9,
          4.7,
          4.9,
          4.9,
          5,
          4.7,
          4.8,
          4.8,
          4.6,
          4.7,
          4.8,
          4.7,
          4.6,
          4.8,
          4.8,
          4.8,
          4.6,
          4.8,
          4.4,
          4.5,
          4.8,
          4.8,
          4.8,
          4.7,
          4.8,
          4.6,
          4.8,
          4.7,
          4.7,
          4.7,
          4.6,
          4.8,
          4.8,
          4.5,
          4.7,
          4.7,
          4.7,
          4.8,
          4.6,
          4.8,
          4.7,
          4.8,
          4.8,
          4.9,
          4.9,
          4.7,
          4.9,
          4.9,
          4.8,
          4.6,
          4.8,
          4.8,
          4.5,
          4.8,
          4.8,
          4.8,
          4.8,
          4.6,
          4.7,
          4.5,
          4.8,
          4.4,
          4.8,
          4.5,
          4.6,
          4.7,
          4.8,
          4.5,
          4.8,
          4.7,
          4.8,
          4.6,
          4.8,
          4.7,
          4.6,
          4.9,
          4.8,
          4.7,
          4.9,
          4.8,
          4.8,
          4.8,
          4.7,
          4.8,
          4.2,
          4.8,
          4.8,
          4.6,
          4.8,
          4.7,
          4.8,
          4.7,
          4.7,
          4.8,
          4.7,
          4.6,
          4.6,
          4.8,
          4.7,
          4.8,
          4.8,
          4.7,
          4.7,
          4.6,
          4.7,
          4.6,
          4.8,
          4.5,
          4.6,
          4.6,
          4.7,
          4.8,
          4.6,
          4.6,
          4.8,
          4.7,
          4.8,
          4.7,
          4.6,
          4.8,
          4.7,
          4.4,
          4.8,
          4.3,
          4.8,
          4.7,
          4.7,
          4.5,
          4.5,
          4.6,
          4.5,
          4.6,
          4.9,
          4.6,
          4.7,
          4.5,
          4.6,
          4.6,
          4.6,
          4.8,
          4.8,
          4.6,
          4.6,
          4.7,
          4.7,
          4.8,
          4.7,
          4.7,
          4.8,
          4.6,
          4.8,
          4.7,
          4.8,
          4.7,
          4.8,
          4.2,
          4.6,
          4.5,
          4.5,
          4.7,
          4.4,
          4.6,
          4.8,
          4.7,
          4.6,
          4.8,
          3.3,
          4.1,
          4.7,
          4.6,
          4.4,
          4.6,
          4.8,
          4.6,
          4.5,
          4.8,
          4.9,
          4.7,
          4.6,
          4.7,
          4.9,
          4.4,
          4.9,
          4.8,
          4.5,
          5,
          4.4,
          4.8,
          4.6,
          4.6,
          4.7,
          4.7,
          4.6,
          4.8,
          4.8,
          4.5,
          4.7,
          4.8,
          4.2,
          4.6,
          4.8,
          4.8,
          4.5,
          4.6,
          4.5,
          4.4,
          4.8,
          4.8,
          4.8,
          4.8,
          4.6,
          4.8,
          4.5,
          4.9,
          4.6,
          4.7,
          4.8,
          4.6,
          4.7,
          4.4,
          4.8,
          4.8,
          4.7,
          4.6,
          4.7,
          4.9,
          4.7,
          4.8,
          4.8,
          4.8,
          4.9,
          4.6,
          4.3,
          4.3,
          4.6,
          4.7,
          4.7,
          4.5,
          4.7,
          4.6,
          4.5,
          4.8,
          4.4,
          4.7,
          4.5,
          4.7,
          4.8,
          4.7,
          4.9,
          4.8,
          4.8,
          4.6,
          4.7,
          4.5,
          4.8,
          4.8,
          4.8,
          4.8,
          4.5,
          4.4,
          4.6,
          4.8,
          4.7,
          4.7,
          4.8,
          4.9,
          4.7,
          4.8,
          4.2,
          4.7,
          4.8,
          4.8,
          4.7,
          4.7,
          4.8,
          4,
          4.8,
          4.5,
          4.8,
          4.7,
          4.8,
          4.7,
          4.9,
          4.9,
          4.7,
          4.6,
          4.5,
          4.6,
          4.6,
          4.6,
          4.5,
          4.7,
          4.7,
          4.6,
          4.7,
          4.7,
          4.8,
          4.7,
          4.7,
          4.8,
          4.8,
          4.3,
          4.5,
          4.8,
          4.7,
          4.8,
          4.6,
          4.6,
          4.8,
          4.9,
          4.7,
          4.5,
          4.7,
          4.8,
          4.6,
          4.7,
          4.6,
          4.9,
          4.6,
          3.7,
          4.6,
          4.6,
          3.9,
          4.7,
          4.5,
          4.6,
          4.7,
          4.7,
          4.9,
          4.7,
          4.7,
          4.7,
          4.5,
          4.6,
          4.5,
          4.8,
          4.7,
          4.7,
          4.6,
          4.4,
          4.8,
          4.4,
          4.7,
          4.2,
          4.6,
          4.3,
          4.7,
          4.5,
          4.6,
          4.7,
          4.7,
          4,
          4.8,
          4.9,
          4.3,
          4.6,
          4.9,
          4.7,
          4.8,
          4.7,
          4.8,
          4.6,
          4.7,
          4.8,
          4.7,
          4.7,
          4.8,
          4.9,
          4.9,
          4.8,
          4.8,
          4.9,
          4.8,
          4.8,
          4.6,
          4.8,
          4.7,
          4.8,
          4.7,
          4.9,
          4.7,
          4.7,
          4.8,
          4.8,
          4.8,
          4.7,
          4.6,
          4.7,
          4.7,
          4.8,
          4.4,
          4.6,
          4.7,
          4.2,
          4.7,
          4.7,
          4.8,
          4.6,
          4.5,
          4.5,
          4.8,
          4.6,
          4.5,
          4.7,
          4.9,
          4.7,
          4.7,
          4.7,
          4.8,
          4.7,
          4.8,
          4.8,
          4.6,
          4.8,
          4.7,
          4.6,
          4.7,
          4.8,
          4.6,
          4.8,
          4.8,
          4.8,
          4.7,
          4.6,
          4.8,
          4.6,
          4.7,
          4.8,
          4.6,
          4.2,
          4.7,
          4.6,
          4.7,
          4.8,
          4.6,
          4.8,
          4.7,
          4.9,
          4.8,
          4.4,
          4.6,
          4.8,
          4.7,
          4.9,
          4.6,
          4.8,
          4.3,
          4.7,
          4.7,
          4.7,
          4.7,
          4.6,
          4.6,
          4.8,
          4.5,
          4.9,
          4.9,
          4.4,
          4.9,
          4.7,
          4.7,
          4.5,
          4.8,
          4.6,
          4.6,
          4.4,
          4.7,
          4.8,
          4.5,
          4.8,
          4.8,
          4.7,
          4.4,
          4.7,
          4.7,
          4.7,
          4.8,
          4.8,
          4.7,
          4.5,
          4.7,
          4.7,
          4.8,
          4.6,
          4.6,
          4.6,
          4.6,
          4.8,
          4.7,
          4.8,
          4.6,
          4.6,
          4.7,
          4.6,
          4.8,
          4.8,
          4.9,
          4.8,
          4.6,
          4.6,
          4.7,
          4.8,
          4.7,
          4.7,
          4.7,
          4.6,
          4.7,
          4.9,
          4.3,
          4.7,
          4.7,
          4.7,
          4.7,
          4.5,
          4.8,
          4.6,
          4.8,
          4.8,
          4.8,
          4.8,
          4.7,
          4.6,
          4.7,
          4.7,
          4.8,
          4.6,
          4.8,
          4.3,
          4.6,
          4.5,
          4.7,
          4.4,
          4.9,
          4.9,
          4.9,
          4.9,
          4.4,
          4.8,
          4.8,
          4.8,
          4.7,
          4.5,
          4.8,
          4.6,
          4.8,
          4.7,
          4.5,
          4.7,
          4.6,
          4.8,
          4.7,
          4.8,
          4.8,
          4.6,
          4.8,
          4.8,
          4.9,
          4.6,
          4.8,
          4.8,
          4.9,
          4.6,
          4.7,
          4.6,
          4.6,
          4.7,
          4.8,
          4.9,
          4.9,
          4.8,
          4.6,
          4.5,
          4.8,
          4.7,
          4.8,
          4.7,
          4.7,
          4.6,
          4.6,
          4.3,
          4.8,
          4.7,
          4.9,
          4.8,
          4.6,
          4.7,
          4.8,
          4.8,
          4.8,
          4.9,
          4.8,
          4.4,
          4.8,
          4.5,
          4.7,
          4.9,
          4.5,
          4.2,
          4.8,
          4.9,
          4.8,
          4.6,
          4.8,
          4.8,
          4.7,
          4.7,
          4.8,
          4.7,
          4.7,
          4.3,
          4.8,
          4.8,
          4.7,
          4.7,
          4.7,
          4.7,
          4.8,
          4.7,
          4.6,
          4.7,
          4.8,
          4.9,
          4.7,
          4.4,
          4.9,
          4.5,
          3.9,
          4.7,
          4.8,
          4.5,
          4.6,
          4.9,
          4.5,
          4.8,
          4.7,
          4.5,
          4.6,
          4.9,
          4.7,
          4.5,
          4.8,
          4.5,
          4.6,
          4.7
         ],
         "xaxis": "x",
         "y": [
          5300,
          17000,
          130000,
          91000,
          320000,
          39000,
          350000,
          2400,
          61000,
          12000,
          4000,
          13000,
          130000,
          11000,
          27000,
          110000,
          13000,
          6600,
          540000,
          22000,
          2900,
          80000,
          9900,
          110000,
          23000,
          9200,
          78000,
          320000,
          190000,
          35000,
          29000,
          14000,
          21000,
          94000,
          69000,
          40000,
          12000,
          220000,
          150000,
          14000,
          18000,
          23000,
          69000,
          270000,
          7900,
          30000,
          36000,
          20000,
          8100,
          120000,
          71000,
          11000,
          11000,
          63000,
          220000,
          42000,
          480000,
          150000,
          97000,
          6600,
          200000,
          180000,
          4200,
          310000,
          3900,
          150000,
          79000,
          31000,
          15000,
          15000,
          10000,
          66000,
          33000,
          56000,
          7300,
          9200,
          22000,
          9700,
          13000,
          180000,
          91000,
          29000,
          210000,
          28000,
          4200,
          6500,
          61000,
          55000,
          2300,
          8800,
          35000,
          88000,
          14000,
          1900,
          68000,
          21000,
          1600,
          31000,
          9500,
          57000,
          26000,
          84000,
          15000,
          95000,
          7300,
          22000,
          5800,
          24000,
          67000,
          280000,
          38000,
          120000,
          77000,
          510000,
          13000,
          110000,
          24000,
          89000,
          67000,
          10000,
          48000,
          160000,
          31000,
          36000,
          220000,
          32000,
          130000,
          340000,
          82000,
          790000,
          31000,
          23000,
          19000,
          30000,
          22000,
          57000,
          51000,
          51000,
          4800,
          32000,
          110000,
          37000,
          310000,
          37000,
          120000,
          15000,
          43000,
          6400,
          43000,
          350000,
          5800,
          33000,
          27000,
          66000,
          19000,
          61000,
          43000,
          15000,
          220000,
          27000,
          26000,
          49000,
          240000,
          46000,
          10000,
          56000,
          7800,
          10000,
          75000,
          15000,
          43000,
          81000,
          140000,
          140000,
          120000,
          150000,
          26000,
          22000,
          17000,
          5500,
          18000,
          99000,
          140000,
          23000,
          55000,
          23000,
          100000,
          220000,
          110000,
          24000,
          19000,
          3000,
          120000,
          120000,
          42000,
          140000,
          830000,
          140000,
          89000,
          740000,
          210000,
          130000,
          60000,
          66000,
          96000,
          140000,
          18000,
          120000,
          110000,
          150000,
          31000,
          690000,
          44000,
          4500,
          8200,
          240000,
          17000,
          67000,
          97000,
          19000,
          16000,
          300000,
          4000,
          8000,
          41000,
          54000,
          54000,
          9000,
          21000,
          37000,
          380000,
          57000,
          140000,
          58000,
          35000,
          40000,
          4000,
          21000,
          130000,
          150000,
          5600,
          17000,
          39000,
          110000,
          7100,
          18000,
          110000,
          83000,
          16000,
          3400,
          46000,
          1500,
          57000,
          12000,
          110000,
          17000,
          37000,
          14000,
          23000,
          200000,
          230000,
          760000,
          130000,
          42000,
          110000,
          2400,
          7900,
          110000,
          86000,
          38000,
          31000,
          20000,
          69000,
          45000,
          23000,
          6400,
          31000,
          130000,
          35000,
          7200,
          1800,
          14000,
          68000,
          83000,
          4100,
          54000,
          31000,
          27000,
          13000,
          11000,
          86000,
          240000,
          39000,
          200000,
          76000,
          39000,
          490000,
          56000,
          54000,
          170000,
          28000,
          180000,
          18000,
          9700,
          13000,
          12000,
          260000,
          69000,
          12000,
          65000,
          10000,
          100000,
          76000,
          470000,
          60000,
          12000,
          6500,
          24000,
          30000,
          310000,
          36000,
          20000,
          400000,
          57000,
          42000,
          4400,
          14000,
          63000,
          62000,
          31000,
          64000,
          27000,
          89000,
          3200,
          26000,
          52000,
          45000,
          89000,
          150000,
          140000,
          170000,
          220000,
          30000,
          39000,
          200000,
          49000,
          86000,
          290000,
          20000,
          18000,
          180000,
          120000,
          110000,
          22000,
          81000,
          25000,
          56000,
          150000,
          110000,
          47000,
          4900,
          9400,
          10000,
          140000,
          100000,
          260000,
          110000,
          14000,
          80000,
          97000,
          19000,
          34000,
          47000,
          14000,
          59000,
          73000,
          59000,
          75000,
          18000,
          22000,
          79000,
          29000,
          10000,
          22000,
          37000,
          3600,
          7600,
          44000,
          3800,
          120000,
          36000,
          93000,
          350000,
          430000,
          10000,
          260000,
          56000,
          210000,
          62000,
          240000,
          43000,
          62000,
          7400,
          39000,
          8100,
          5400,
          1700,
          36000,
          5500,
          46000,
          5500,
          28000,
          170000,
          140000,
          34000,
          98000,
          140000,
          3500,
          220000,
          3300,
          480000,
          35000,
          62000,
          1700,
          23000,
          2200,
          610000,
          270000,
          18000,
          79000,
          51000,
          34000,
          1600,
          12000,
          22000,
          32000,
          10000,
          16000,
          180000,
          40000,
          10000,
          25000,
          72000,
          97000,
          85000,
          12000,
          9700,
          14000,
          8700,
          150000,
          6500,
          22000,
          25000,
          22000,
          36000,
          19000,
          41000,
          26000,
          20000,
          2200,
          35000,
          11000,
          36000,
          38000,
          66000,
          140000,
          100000,
          46000,
          60000,
          44000,
          160000,
          16000,
          27000,
          14000,
          84000,
          53000,
          46000,
          150000,
          2600,
          20000,
          32000,
          130000,
          27000,
          32000,
          30000,
          99000,
          310000,
          390000,
          25000,
          75000,
          110000,
          41000,
          150000,
          34000,
          200000,
          47000,
          79000,
          74000,
          42000,
          220000,
          54000,
          6000,
          82000,
          220000,
          270000,
          87000,
          140000,
          370000,
          11000,
          160000,
          82000,
          270000,
          270000,
          49000,
          39000,
          76000,
          12000,
          69000,
          67000,
          33000,
          150000,
          4100,
          13000,
          72000,
          87000,
          16000,
          76000,
          110000,
          270000,
          4500,
          120000,
          99000,
          14000,
          49000,
          4400,
          380000,
          160000,
          22000,
          37000,
          8000,
          6300,
          17000,
          34000,
          16000,
          220000,
          5900,
          16000,
          43000,
          22000,
          78000,
          52000,
          120000,
          39000,
          160000,
          80000,
          180000,
          120000,
          68000,
          7200,
          10000,
          23000,
          29000,
          14000,
          290000,
          3200000,
          240000,
          29000,
          19000,
          58000,
          15000,
          120000,
          72000,
          78000,
          43000,
          120000,
          11000,
          55000,
          23000,
          71000,
          27000,
          47000,
          22000,
          81000,
          39000,
          49000,
          93000,
          57000,
          58000,
          60000,
          310000,
          280000,
          8400,
          52000,
          48000,
          12000,
          150000,
          140000,
          51000,
          33000,
          4800,
          170000,
          13000,
          260000,
          73000,
          34000,
          230000,
          120000,
          130000,
          36000,
          310000,
          14000,
          21000,
          9100,
          100000,
          40000,
          44000,
          59000,
          42000,
          34000,
          70000,
          21000,
          40000,
          95000,
          22000,
          17000,
          290000,
          630000,
          41000,
          12000,
          5300,
          100000,
          35000,
          250000,
          330000,
          21000,
          33000,
          57000,
          13000,
          76000,
          80000,
          6200,
          92000,
          22000,
          3200,
          9100,
          30000,
          42000,
          8800,
          12000,
          84000,
          79000,
          8900,
          160000,
          83000,
          34000,
          72000,
          180000,
          23000,
          50000,
          40000,
          67000,
          10000,
          39000,
          22000,
          68000,
          47000,
          20000,
          280000,
          79000,
          68000,
          36000,
          39000,
          250000,
          19000,
          1300000,
          18000,
          70000,
          190000,
          440000,
          230000,
          190000,
          52000,
          110000,
          21000,
          420000,
          26000,
          41000,
          170000,
          1500000,
          69000,
          3000,
          480000,
          7700,
          29000,
          35000,
          23000,
          24000,
          5200,
          7200,
          16000,
          15000,
          170000,
          36000,
          17000,
          120000,
          30000,
          3200,
          7000,
          33000,
          370000,
          2600,
          160000,
          5600,
          16000,
          6800,
          12000,
          9100,
          140000,
          47000,
          6400,
          14000,
          300000,
          39000,
          14000,
          110000,
          61000,
          16000,
          18000,
          15000,
          20000,
          22000,
          13000,
          130000,
          78000,
          4200,
          220000,
          42000,
          60000,
          34000,
          60000,
          110000,
          17000,
          68000,
          8800,
          12000,
          71000,
          430000,
          12000,
          16000,
          370000,
          17000,
          16000,
          34000,
          220000,
          28000,
          60000,
          9500,
          100000,
          58000,
          68000,
          9200,
          30000,
          11000,
          220000,
          38000,
          750000,
          11000,
          7900,
          4900,
          66000,
          82000,
          24000,
          29000,
          50000,
          45000,
          9400,
          3900,
          62000,
          48000,
          33000,
          100000,
          62000,
          81000,
          8500,
          53000,
          49000,
          280000,
          170000,
          12000,
          90000,
          130000,
          47000,
          23000,
          73000,
          130000,
          22000,
          84000,
          23000,
          11000,
          120000,
          420000,
          7200,
          84000,
          29000,
          47000,
          130000,
          47000,
          9400,
          180000,
          120000,
          1700,
          50000,
          12000,
          59000,
          13000,
          2500000,
          320000,
          19000,
          100000,
          26000,
          5200,
          28000,
          33000,
          14000,
          200000,
          120000,
          68000,
          45000,
          110000,
          5400,
          12000,
          44000,
          68000,
          25000,
          29000,
          78000,
          89000,
          24000,
          11000,
          49000,
          120000,
          30000,
          130000,
          6100,
          12000,
          9500,
          3900,
          23000,
          43000,
          220000,
          310000,
          19000,
          63000,
          40000,
          150000,
          37000,
          23000,
          190000,
          120000,
          280000,
          34000,
          120000,
          35000,
          6200,
          260000,
          94000,
          32000,
          17000,
          12000,
          270000,
          18000,
          140000,
          17000,
          76000,
          25000,
          190000,
          69000,
          14000,
          68000,
          16000,
          67000,
          77000,
          19000,
          83000,
          41000,
          45000,
          52000,
          21000,
          30000,
          9800,
          38000
         ],
         "yaxis": "y"
        }
       ],
       "layout": {
        "legend": {
         "tracegroupgap": 0
        },
        "template": {
         "data": {
          "bar": [
           {
            "error_x": {
             "color": "#2a3f5f"
            },
            "error_y": {
             "color": "#2a3f5f"
            },
            "marker": {
             "line": {
              "color": "white",
              "width": 0.5
             },
             "pattern": {
              "fillmode": "overlay",
              "size": 10,
              "solidity": 0.2
             }
            },
            "type": "bar"
           }
          ],
          "barpolar": [
           {
            "marker": {
             "line": {
              "color": "white",
              "width": 0.5
             },
             "pattern": {
              "fillmode": "overlay",
              "size": 10,
              "solidity": 0.2
             }
            },
            "type": "barpolar"
           }
          ],
          "carpet": [
           {
            "aaxis": {
             "endlinecolor": "#2a3f5f",
             "gridcolor": "#C8D4E3",
             "linecolor": "#C8D4E3",
             "minorgridcolor": "#C8D4E3",
             "startlinecolor": "#2a3f5f"
            },
            "baxis": {
             "endlinecolor": "#2a3f5f",
             "gridcolor": "#C8D4E3",
             "linecolor": "#C8D4E3",
             "minorgridcolor": "#C8D4E3",
             "startlinecolor": "#2a3f5f"
            },
            "type": "carpet"
           }
          ],
          "choropleth": [
           {
            "colorbar": {
             "outlinewidth": 0,
             "ticks": ""
            },
            "type": "choropleth"
           }
          ],
          "contour": [
           {
            "colorbar": {
             "outlinewidth": 0,
             "ticks": ""
            },
            "colorscale": [
             [
              0,
              "#0d0887"
             ],
             [
              0.1111111111111111,
              "#46039f"
             ],
             [
              0.2222222222222222,
              "#7201a8"
             ],
             [
              0.3333333333333333,
              "#9c179e"
             ],
             [
              0.4444444444444444,
              "#bd3786"
             ],
             [
              0.5555555555555556,
              "#d8576b"
             ],
             [
              0.6666666666666666,
              "#ed7953"
             ],
             [
              0.7777777777777778,
              "#fb9f3a"
             ],
             [
              0.8888888888888888,
              "#fdca26"
             ],
             [
              1,
              "#f0f921"
             ]
            ],
            "type": "contour"
           }
          ],
          "contourcarpet": [
           {
            "colorbar": {
             "outlinewidth": 0,
             "ticks": ""
            },
            "type": "contourcarpet"
           }
          ],
          "heatmap": [
           {
            "colorbar": {
             "outlinewidth": 0,
             "ticks": ""
            },
            "colorscale": [
             [
              0,
              "#0d0887"
             ],
             [
              0.1111111111111111,
              "#46039f"
             ],
             [
              0.2222222222222222,
              "#7201a8"
             ],
             [
              0.3333333333333333,
              "#9c179e"
             ],
             [
              0.4444444444444444,
              "#bd3786"
             ],
             [
              0.5555555555555556,
              "#d8576b"
             ],
             [
              0.6666666666666666,
              "#ed7953"
             ],
             [
              0.7777777777777778,
              "#fb9f3a"
             ],
             [
              0.8888888888888888,
              "#fdca26"
             ],
             [
              1,
              "#f0f921"
             ]
            ],
            "type": "heatmap"
           }
          ],
          "heatmapgl": [
           {
            "colorbar": {
             "outlinewidth": 0,
             "ticks": ""
            },
            "colorscale": [
             [
              0,
              "#0d0887"
             ],
             [
              0.1111111111111111,
              "#46039f"
             ],
             [
              0.2222222222222222,
              "#7201a8"
             ],
             [
              0.3333333333333333,
              "#9c179e"
             ],
             [
              0.4444444444444444,
              "#bd3786"
             ],
             [
              0.5555555555555556,
              "#d8576b"
             ],
             [
              0.6666666666666666,
              "#ed7953"
             ],
             [
              0.7777777777777778,
              "#fb9f3a"
             ],
             [
              0.8888888888888888,
              "#fdca26"
             ],
             [
              1,
              "#f0f921"
             ]
            ],
            "type": "heatmapgl"
           }
          ],
          "histogram": [
           {
            "marker": {
             "pattern": {
              "fillmode": "overlay",
              "size": 10,
              "solidity": 0.2
             }
            },
            "type": "histogram"
           }
          ],
          "histogram2d": [
           {
            "colorbar": {
             "outlinewidth": 0,
             "ticks": ""
            },
            "colorscale": [
             [
              0,
              "#0d0887"
             ],
             [
              0.1111111111111111,
              "#46039f"
             ],
             [
              0.2222222222222222,
              "#7201a8"
             ],
             [
              0.3333333333333333,
              "#9c179e"
             ],
             [
              0.4444444444444444,
              "#bd3786"
             ],
             [
              0.5555555555555556,
              "#d8576b"
             ],
             [
              0.6666666666666666,
              "#ed7953"
             ],
             [
              0.7777777777777778,
              "#fb9f3a"
             ],
             [
              0.8888888888888888,
              "#fdca26"
             ],
             [
              1,
              "#f0f921"
             ]
            ],
            "type": "histogram2d"
           }
          ],
          "histogram2dcontour": [
           {
            "colorbar": {
             "outlinewidth": 0,
             "ticks": ""
            },
            "colorscale": [
             [
              0,
              "#0d0887"
             ],
             [
              0.1111111111111111,
              "#46039f"
             ],
             [
              0.2222222222222222,
              "#7201a8"
             ],
             [
              0.3333333333333333,
              "#9c179e"
             ],
             [
              0.4444444444444444,
              "#bd3786"
             ],
             [
              0.5555555555555556,
              "#d8576b"
             ],
             [
              0.6666666666666666,
              "#ed7953"
             ],
             [
              0.7777777777777778,
              "#fb9f3a"
             ],
             [
              0.8888888888888888,
              "#fdca26"
             ],
             [
              1,
              "#f0f921"
             ]
            ],
            "type": "histogram2dcontour"
           }
          ],
          "mesh3d": [
           {
            "colorbar": {
             "outlinewidth": 0,
             "ticks": ""
            },
            "type": "mesh3d"
           }
          ],
          "parcoords": [
           {
            "line": {
             "colorbar": {
              "outlinewidth": 0,
              "ticks": ""
             }
            },
            "type": "parcoords"
           }
          ],
          "pie": [
           {
            "automargin": true,
            "type": "pie"
           }
          ],
          "scatter": [
           {
            "fillpattern": {
             "fillmode": "overlay",
             "size": 10,
             "solidity": 0.2
            },
            "type": "scatter"
           }
          ],
          "scatter3d": [
           {
            "line": {
             "colorbar": {
              "outlinewidth": 0,
              "ticks": ""
             }
            },
            "marker": {
             "colorbar": {
              "outlinewidth": 0,
              "ticks": ""
             }
            },
            "type": "scatter3d"
           }
          ],
          "scattercarpet": [
           {
            "marker": {
             "colorbar": {
              "outlinewidth": 0,
              "ticks": ""
             }
            },
            "type": "scattercarpet"
           }
          ],
          "scattergeo": [
           {
            "marker": {
             "colorbar": {
              "outlinewidth": 0,
              "ticks": ""
             }
            },
            "type": "scattergeo"
           }
          ],
          "scattergl": [
           {
            "marker": {
             "colorbar": {
              "outlinewidth": 0,
              "ticks": ""
             }
            },
            "type": "scattergl"
           }
          ],
          "scattermapbox": [
           {
            "marker": {
             "colorbar": {
              "outlinewidth": 0,
              "ticks": ""
             }
            },
            "type": "scattermapbox"
           }
          ],
          "scatterpolar": [
           {
            "marker": {
             "colorbar": {
              "outlinewidth": 0,
              "ticks": ""
             }
            },
            "type": "scatterpolar"
           }
          ],
          "scatterpolargl": [
           {
            "marker": {
             "colorbar": {
              "outlinewidth": 0,
              "ticks": ""
             }
            },
            "type": "scatterpolargl"
           }
          ],
          "scatterternary": [
           {
            "marker": {
             "colorbar": {
              "outlinewidth": 0,
              "ticks": ""
             }
            },
            "type": "scatterternary"
           }
          ],
          "surface": [
           {
            "colorbar": {
             "outlinewidth": 0,
             "ticks": ""
            },
            "colorscale": [
             [
              0,
              "#0d0887"
             ],
             [
              0.1111111111111111,
              "#46039f"
             ],
             [
              0.2222222222222222,
              "#7201a8"
             ],
             [
              0.3333333333333333,
              "#9c179e"
             ],
             [
              0.4444444444444444,
              "#bd3786"
             ],
             [
              0.5555555555555556,
              "#d8576b"
             ],
             [
              0.6666666666666666,
              "#ed7953"
             ],
             [
              0.7777777777777778,
              "#fb9f3a"
             ],
             [
              0.8888888888888888,
              "#fdca26"
             ],
             [
              1,
              "#f0f921"
             ]
            ],
            "type": "surface"
           }
          ],
          "table": [
           {
            "cells": {
             "fill": {
              "color": "#EBF0F8"
             },
             "line": {
              "color": "white"
             }
            },
            "header": {
             "fill": {
              "color": "#C8D4E3"
             },
             "line": {
              "color": "white"
             }
            },
            "type": "table"
           }
          ]
         },
         "layout": {
          "annotationdefaults": {
           "arrowcolor": "#2a3f5f",
           "arrowhead": 0,
           "arrowwidth": 1
          },
          "autotypenumbers": "strict",
          "coloraxis": {
           "colorbar": {
            "outlinewidth": 0,
            "ticks": ""
           }
          },
          "colorscale": {
           "diverging": [
            [
             0,
             "#8e0152"
            ],
            [
             0.1,
             "#c51b7d"
            ],
            [
             0.2,
             "#de77ae"
            ],
            [
             0.3,
             "#f1b6da"
            ],
            [
             0.4,
             "#fde0ef"
            ],
            [
             0.5,
             "#f7f7f7"
            ],
            [
             0.6,
             "#e6f5d0"
            ],
            [
             0.7,
             "#b8e186"
            ],
            [
             0.8,
             "#7fbc41"
            ],
            [
             0.9,
             "#4d9221"
            ],
            [
             1,
             "#276419"
            ]
           ],
           "sequential": [
            [
             0,
             "#0d0887"
            ],
            [
             0.1111111111111111,
             "#46039f"
            ],
            [
             0.2222222222222222,
             "#7201a8"
            ],
            [
             0.3333333333333333,
             "#9c179e"
            ],
            [
             0.4444444444444444,
             "#bd3786"
            ],
            [
             0.5555555555555556,
             "#d8576b"
            ],
            [
             0.6666666666666666,
             "#ed7953"
            ],
            [
             0.7777777777777778,
             "#fb9f3a"
            ],
            [
             0.8888888888888888,
             "#fdca26"
            ],
            [
             1,
             "#f0f921"
            ]
           ],
           "sequentialminus": [
            [
             0,
             "#0d0887"
            ],
            [
             0.1111111111111111,
             "#46039f"
            ],
            [
             0.2222222222222222,
             "#7201a8"
            ],
            [
             0.3333333333333333,
             "#9c179e"
            ],
            [
             0.4444444444444444,
             "#bd3786"
            ],
            [
             0.5555555555555556,
             "#d8576b"
            ],
            [
             0.6666666666666666,
             "#ed7953"
            ],
            [
             0.7777777777777778,
             "#fb9f3a"
            ],
            [
             0.8888888888888888,
             "#fdca26"
            ],
            [
             1,
             "#f0f921"
            ]
           ]
          },
          "colorway": [
           "#636efa",
           "#EF553B",
           "#00cc96",
           "#ab63fa",
           "#FFA15A",
           "#19d3f3",
           "#FF6692",
           "#B6E880",
           "#FF97FF",
           "#FECB52"
          ],
          "font": {
           "color": "#2a3f5f"
          },
          "geo": {
           "bgcolor": "white",
           "lakecolor": "white",
           "landcolor": "white",
           "showlakes": true,
           "showland": true,
           "subunitcolor": "#C8D4E3"
          },
          "hoverlabel": {
           "align": "left"
          },
          "hovermode": "closest",
          "mapbox": {
           "style": "light"
          },
          "paper_bgcolor": "white",
          "plot_bgcolor": "white",
          "polar": {
           "angularaxis": {
            "gridcolor": "#EBF0F8",
            "linecolor": "#EBF0F8",
            "ticks": ""
           },
           "bgcolor": "white",
           "radialaxis": {
            "gridcolor": "#EBF0F8",
            "linecolor": "#EBF0F8",
            "ticks": ""
           }
          },
          "scene": {
           "xaxis": {
            "backgroundcolor": "white",
            "gridcolor": "#DFE8F3",
            "gridwidth": 2,
            "linecolor": "#EBF0F8",
            "showbackground": true,
            "ticks": "",
            "zerolinecolor": "#EBF0F8"
           },
           "yaxis": {
            "backgroundcolor": "white",
            "gridcolor": "#DFE8F3",
            "gridwidth": 2,
            "linecolor": "#EBF0F8",
            "showbackground": true,
            "ticks": "",
            "zerolinecolor": "#EBF0F8"
           },
           "zaxis": {
            "backgroundcolor": "white",
            "gridcolor": "#DFE8F3",
            "gridwidth": 2,
            "linecolor": "#EBF0F8",
            "showbackground": true,
            "ticks": "",
            "zerolinecolor": "#EBF0F8"
           }
          },
          "shapedefaults": {
           "line": {
            "color": "#2a3f5f"
           }
          },
          "ternary": {
           "aaxis": {
            "gridcolor": "#DFE8F3",
            "linecolor": "#A2B1C6",
            "ticks": ""
           },
           "baxis": {
            "gridcolor": "#DFE8F3",
            "linecolor": "#A2B1C6",
            "ticks": ""
           },
           "bgcolor": "white",
           "caxis": {
            "gridcolor": "#DFE8F3",
            "linecolor": "#A2B1C6",
            "ticks": ""
           }
          },
          "title": {
           "x": 0.05
          },
          "xaxis": {
           "automargin": true,
           "gridcolor": "#EBF0F8",
           "linecolor": "#EBF0F8",
           "ticks": "",
           "title": {
            "standoff": 15
           },
           "zerolinecolor": "#EBF0F8",
           "zerolinewidth": 2
          },
          "yaxis": {
           "automargin": true,
           "gridcolor": "#EBF0F8",
           "linecolor": "#EBF0F8",
           "ticks": "",
           "title": {
            "standoff": 15
           },
           "zerolinecolor": "#EBF0F8",
           "zerolinewidth": 2
          }
         }
        },
        "title": {
         "text": "Course Rating vs. Students Enrolled"
        },
        "xaxis": {
         "anchor": "y",
         "domain": [
          0,
          1
         ],
         "title": {
          "text": "Course Rating"
         }
        },
        "yaxis": {
         "anchor": "x",
         "domain": [
          0,
          1
         ],
         "title": {
          "text": "Students Enrolled"
         }
        }
       }
      }
     },
     "metadata": {},
     "output_type": "display_data"
    }
   ],
   "source": [
    "fig = px.scatter(\n",
    "    df,\n",
    "\n",
    "    x=\"course_rating\",\n",
    "\n",
    "    y=\"course_students_enrolled\",\n",
    "\n",
    "    title=\"Course Rating vs. Students Enrolled\",\n",
    "\n",
    "    labels={\n",
    "\n",
    "        \"course_rating\": \"Course Rating\",\n",
    "\n",
    "        \"course_students_enrolled\": \"Students Enrolled\",\n",
    "\n",
    "    },\n",
    "\n",
    "    opacity=0.7,\n",
    "\n",
    "    template=\"plotly_white\",\n",
    ")\n",
    "\n",
    "\n",
    "fig.show()"
   ]
  },
  {
   "cell_type": "markdown",
   "metadata": {},
   "source": [
    "in the chart above we definitely see some outliers which make the chart not very clear. Let;s remove the outliers and build the scatterplot without them. "
   ]
  },
  {
   "cell_type": "code",
   "execution_count": null,
   "metadata": {},
   "outputs": [
    {
     "data": {
      "application/vnd.plotly.v1+json": {
       "config": {
        "plotlyServerURL": "https://plot.ly"
       },
       "data": [
        {
         "hovertemplate": "Rating=%{x}<br>Enrolled Students=%{y}<extra></extra>",
         "legendgroup": "",
         "marker": {
          "color": "#636efa",
          "opacity": 0.7,
          "symbol": "circle"
         },
         "mode": "markers",
         "name": "",
         "orientation": "v",
         "showlegend": false,
         "type": "scatter",
         "x": [
          4.7,
          4.7,
          4.5,
          4.7,
          4.7,
          4.8,
          4.7,
          4.7,
          4.6,
          4.7,
          4.6,
          4.3,
          4.7,
          4.7,
          4.5,
          4.7,
          4.7,
          4.6,
          4.5,
          4.8,
          4.7,
          4.8,
          4.8,
          4.5,
          4.5,
          4.5,
          4.7,
          4.8,
          4.7,
          4.7,
          4.7,
          4.7,
          4.9,
          4.7,
          4.8,
          4.8,
          4.9,
          4.8,
          4.7,
          4.6,
          4.8,
          4.8,
          4.8,
          4.8,
          4.5,
          4.8,
          4.5,
          4.8,
          4.6,
          4.6,
          4.7,
          4.6,
          4.6,
          4.2,
          4.8,
          4.9,
          4.5,
          4.5,
          4.9,
          4.8,
          4.8,
          4.6,
          4.8,
          4.9,
          4.7,
          4.8,
          4.6,
          4.8,
          4.8,
          4.7,
          4.7,
          4.6,
          4.6,
          4.8,
          4.8,
          4.9,
          4.7,
          4.7,
          4.7,
          4.8,
          4.4,
          4.6,
          4.5,
          4.6,
          4.4,
          4.8,
          4.8,
          4.6,
          4.7,
          4.6,
          4.7,
          4.9,
          4.9,
          4.6,
          4.7,
          4.9,
          4.9,
          4.5,
          4.5,
          4.6,
          4.3,
          4.5,
          4.7,
          4.7,
          4.7,
          4.7,
          4.7,
          4.7,
          4.7,
          4.5,
          4.7,
          4.8,
          4.5,
          4.5,
          4.7,
          4.9,
          4.8,
          4.7,
          4.6,
          4.8,
          4.7,
          4.7,
          4.7,
          4.8,
          4.7,
          4.8,
          4.8,
          4.6,
          4.8,
          4.4,
          4.5,
          4.7,
          4.7,
          4.7,
          4.8,
          4.9,
          4.7,
          4.6,
          4.8,
          4.6,
          4.3,
          4.7,
          4.7,
          4.8,
          4.8,
          4.7,
          4.5,
          4.6,
          4.8,
          4.7,
          4.8,
          4.8,
          4.8,
          4.6,
          4.6,
          4.8,
          4.8,
          4.8,
          4.3,
          4.6,
          4.7,
          4.7,
          4.8,
          4.8,
          4.6,
          4.6,
          4.7,
          4.5,
          4.2,
          4.6,
          4.8,
          4.8,
          4.4,
          4.6,
          4.7,
          4.8,
          4.7,
          4.4,
          4.6,
          4.6,
          4.7,
          4.4,
          4.5,
          4.6,
          4.4,
          4.7,
          4.8,
          4.6,
          4.5,
          4.5,
          4.7,
          4.6,
          4.7,
          4.8,
          4.6,
          4.8,
          4.7,
          4.4,
          4.6,
          4.7,
          4.7,
          4.6,
          4.6,
          4.8,
          4.6,
          4.8,
          4.8,
          4.7,
          4.4,
          4.5,
          4.6,
          4.4,
          4.7,
          4.7,
          4.5,
          4.9,
          4.6,
          4.9,
          4.8,
          4.6,
          4.8,
          4.7,
          4.6,
          4.7,
          4.8,
          4.8,
          4.7,
          4.9,
          4.7,
          4.9,
          4.9,
          5,
          4.7,
          4.8,
          4.8,
          4.6,
          4.7,
          4.8,
          4.7,
          4.6,
          4.8,
          4.6,
          4.8,
          4.4,
          4.5,
          4.8,
          4.8,
          4.8,
          4.7,
          4.8,
          4.6,
          4.8,
          4.7,
          4.7,
          4.7,
          4.6,
          4.8,
          4.8,
          4.5,
          4.7,
          4.7,
          4.7,
          4.8,
          4.6,
          4.8,
          4.7,
          4.8,
          4.8,
          4.9,
          4.7,
          4.9,
          4.9,
          4.8,
          4.8,
          4.8,
          4.5,
          4.8,
          4.8,
          4.8,
          4.8,
          4.6,
          4.7,
          4.8,
          4.4,
          4.8,
          4.5,
          4.6,
          4.7,
          4.5,
          4.8,
          4.7,
          4.8,
          4.6,
          4.7,
          4.6,
          4.8,
          4.7,
          4.9,
          4.8,
          4.8,
          4.8,
          4.7,
          4.8,
          4.2,
          4.8,
          4.8,
          4.6,
          4.8,
          4.7,
          4.8,
          4.7,
          4.7,
          4.8,
          4.7,
          4.6,
          4.6,
          4.8,
          4.7,
          4.8,
          4.7,
          4.7,
          4.6,
          4.7,
          4.6,
          4.8,
          4.5,
          4.6,
          4.6,
          4.7,
          4.8,
          4.6,
          4.6,
          4.8,
          4.7,
          4.8,
          4.7,
          4.8,
          4.7,
          4.4,
          4.8,
          4.3,
          4.8,
          4.7,
          4.7,
          4.5,
          4.5,
          4.6,
          4.5,
          4.6,
          4.9,
          4.6,
          4.7,
          4.5,
          4.6,
          4.6,
          4.6,
          4.8,
          4.8,
          4.6,
          4.6,
          4.7,
          4.7,
          4.7,
          4.6,
          4.8,
          4.7,
          4.7,
          4.8,
          4.2,
          4.6,
          4.5,
          4.5,
          4.7,
          4.4,
          4.6,
          4.8,
          4.7,
          4.6,
          4.8,
          3.3,
          4.1,
          4.7,
          4.6,
          4.4,
          4.6,
          4.8,
          4.5,
          4.8,
          4.9,
          4.7,
          4.6,
          4.4,
          4.9,
          4.8,
          4.5,
          5,
          4.4,
          4.8,
          4.6,
          4.6,
          4.7,
          4.7,
          4.6,
          4.8,
          4.8,
          4.5,
          4.7,
          4.8,
          4.2,
          4.6,
          4.8,
          4.8,
          4.5,
          4.6,
          4.5,
          4.4,
          4.8,
          4.8,
          4.8,
          4.8,
          4.6,
          4.8,
          4.5,
          4.9,
          4.6,
          4.7,
          4.8,
          4.6,
          4.7,
          4.4,
          4.8,
          4.8,
          4.7,
          4.6,
          4.7,
          4.9,
          4.7,
          4.8,
          4.8,
          4.8,
          4.9,
          4.6,
          4.3,
          4.3,
          4.6,
          4.7,
          4.7,
          4.5,
          4.7,
          4.8,
          4.4,
          4.7,
          4.5,
          4.7,
          4.8,
          4.7,
          4.9,
          4.8,
          4.8,
          4.6,
          4.7,
          4.5,
          4.8,
          4.8,
          4.8,
          4.5,
          4.4,
          4.8,
          4.7,
          4.7,
          4.7,
          4.8,
          4.2,
          4.7,
          4.8,
          4.8,
          4.7,
          4.7,
          4.8,
          4,
          4.8,
          4.5,
          4.8,
          4.7,
          4.8,
          4.9,
          4.9,
          4.7,
          4.6,
          4.5,
          4.6,
          4.6,
          4.5,
          4.7,
          4.7,
          4.6,
          4.7,
          4.7,
          4.8,
          4.7,
          4.7,
          4.8,
          4.8,
          4.3,
          4.5,
          4.8,
          4.7,
          4.8,
          4.6,
          4.6,
          4.8,
          4.9,
          4.7,
          4.5,
          4.7,
          4.8,
          4.6,
          4.7,
          3.7,
          4.6,
          4.6,
          3.9,
          4.7,
          4.5,
          4.6,
          4.7,
          4.7,
          4.9,
          4.7,
          4.7,
          4.7,
          4.5,
          4.6,
          4.5,
          4.8,
          4.7,
          4.7,
          4.6,
          4.4,
          4.8,
          4.4,
          4.6,
          4.3,
          4.7,
          4.5,
          4.6,
          4.7,
          4.7,
          4,
          4.8,
          4.9,
          4.3,
          4.9,
          4.7,
          4.7,
          4.8,
          4.6,
          4.8,
          4.7,
          4.7,
          4.8,
          4.9,
          4.9,
          4.8,
          4.8,
          4.9,
          4.8,
          4.8,
          4.6,
          4.8,
          4.7,
          4.8,
          4.7,
          4.7,
          4.8,
          4.8,
          4.8,
          4.7,
          4.7,
          4.8,
          4.4,
          4.6,
          4.7,
          4.2,
          4.7,
          4.7,
          4.8,
          4.6,
          4.5,
          4.5,
          4.8,
          4.6,
          4.5,
          4.7,
          4.9,
          4.7,
          4.7,
          4.7,
          4.8,
          4.7,
          4.8,
          4.8,
          4.6,
          4.8,
          4.7,
          4.6,
          4.7,
          4.8,
          4.6,
          4.8,
          4.8,
          4.7,
          4.6,
          4.8,
          4.7,
          4.6,
          4.2,
          4.7,
          4.8,
          4.6,
          4.8,
          4.7,
          4.8,
          4.4,
          4.6,
          4.7,
          4.9,
          4.8,
          4.3,
          4.7,
          4.7,
          4.7,
          4.7,
          4.6,
          4.6,
          4.8,
          4.5,
          4.9,
          4.9,
          4.4,
          4.9,
          4.7,
          4.7,
          4.5,
          4.6,
          4.6,
          4.4,
          4.7,
          4.8,
          4.5,
          4.8,
          4.8,
          4.7,
          4.4,
          4.7,
          4.7,
          4.8,
          4.8,
          4.7,
          4.5,
          4.7,
          4.7,
          4.8,
          4.6,
          4.6,
          4.6,
          4.6,
          4.8,
          4.7,
          4.8,
          4.6,
          4.6,
          4.7,
          4.6,
          4.8,
          4.8,
          4.9,
          4.8,
          4.6,
          4.7,
          4.8,
          4.7,
          4.7,
          4.6,
          4.7,
          4.9,
          4.3,
          4.7,
          4.7,
          4.7,
          4.7,
          4.5,
          4.8,
          4.6,
          4.8,
          4.8,
          4.8,
          4.7,
          4.6,
          4.7,
          4.7,
          4.8,
          4.6,
          4.8,
          4.3,
          4.6,
          4.5,
          4.7,
          4.4,
          4.9,
          4.9,
          4.9,
          4.9,
          4.4,
          4.8,
          4.8,
          4.7,
          4.5,
          4.8,
          4.6,
          4.8,
          4.7,
          4.5,
          4.7,
          4.6,
          4.8,
          4.7,
          4.8,
          4.8,
          4.8,
          4.8,
          4.9,
          4.6,
          4.8,
          4.8,
          4.9,
          4.6,
          4.7,
          4.6,
          4.6,
          4.7,
          4.8,
          4.9,
          4.6,
          4.5,
          4.8,
          4.7,
          4.8,
          4.7,
          4.7,
          4.6,
          4.6,
          4.3,
          4.8,
          4.7,
          4.9,
          4.8,
          4.6,
          4.7,
          4.8,
          4.8,
          4.8,
          4.9,
          4.8,
          4.4,
          4.8,
          4.5,
          4.7,
          4.9,
          4.5,
          4.2,
          4.8,
          4.9,
          4.8,
          4.6,
          4.8,
          4.7,
          4.7,
          4.8,
          4.7,
          4.7,
          4.3,
          4.8,
          4.8,
          4.7,
          4.7,
          4.7,
          4.8,
          4.6,
          4.7,
          4.8,
          4.9,
          4.4,
          4.9,
          4.5,
          3.9,
          4.7,
          4.8,
          4.5,
          4.6,
          4.9,
          4.5,
          4.8,
          4.7,
          4.5,
          4.6,
          4.9,
          4.7,
          4.5,
          4.8,
          4.5,
          4.6,
          4.7
         ],
         "xaxis": "x",
         "y": [
          5300,
          17000,
          130000,
          91000,
          39000,
          2400,
          61000,
          12000,
          4000,
          13000,
          130000,
          11000,
          27000,
          110000,
          13000,
          6600,
          22000,
          2900,
          80000,
          9900,
          110000,
          23000,
          9200,
          78000,
          190000,
          35000,
          29000,
          14000,
          21000,
          94000,
          69000,
          40000,
          12000,
          220000,
          150000,
          14000,
          18000,
          23000,
          69000,
          7900,
          30000,
          36000,
          20000,
          8100,
          120000,
          71000,
          11000,
          11000,
          63000,
          220000,
          42000,
          150000,
          97000,
          6600,
          200000,
          180000,
          4200,
          3900,
          150000,
          79000,
          31000,
          15000,
          15000,
          10000,
          66000,
          33000,
          56000,
          7300,
          9200,
          22000,
          9700,
          13000,
          180000,
          91000,
          29000,
          210000,
          28000,
          4200,
          6500,
          61000,
          55000,
          2300,
          8800,
          35000,
          88000,
          14000,
          1900,
          68000,
          21000,
          1600,
          31000,
          9500,
          57000,
          26000,
          84000,
          15000,
          95000,
          7300,
          22000,
          5800,
          24000,
          67000,
          38000,
          120000,
          77000,
          13000,
          110000,
          24000,
          89000,
          67000,
          10000,
          48000,
          160000,
          31000,
          36000,
          220000,
          32000,
          130000,
          82000,
          31000,
          23000,
          19000,
          30000,
          22000,
          57000,
          51000,
          51000,
          4800,
          32000,
          110000,
          37000,
          37000,
          120000,
          15000,
          43000,
          6400,
          43000,
          5800,
          33000,
          27000,
          66000,
          19000,
          61000,
          43000,
          15000,
          220000,
          27000,
          26000,
          49000,
          46000,
          10000,
          56000,
          7800,
          10000,
          75000,
          15000,
          43000,
          81000,
          140000,
          140000,
          120000,
          150000,
          26000,
          22000,
          17000,
          5500,
          18000,
          99000,
          140000,
          23000,
          55000,
          23000,
          100000,
          220000,
          110000,
          24000,
          19000,
          3000,
          120000,
          120000,
          42000,
          140000,
          140000,
          89000,
          210000,
          130000,
          60000,
          66000,
          96000,
          140000,
          18000,
          120000,
          110000,
          150000,
          31000,
          44000,
          4500,
          8200,
          17000,
          67000,
          97000,
          19000,
          16000,
          4000,
          8000,
          41000,
          54000,
          54000,
          9000,
          21000,
          37000,
          57000,
          140000,
          58000,
          35000,
          40000,
          4000,
          21000,
          130000,
          150000,
          5600,
          17000,
          39000,
          110000,
          7100,
          18000,
          110000,
          83000,
          16000,
          3400,
          46000,
          1500,
          57000,
          12000,
          110000,
          17000,
          37000,
          14000,
          23000,
          200000,
          130000,
          42000,
          110000,
          2400,
          7900,
          110000,
          86000,
          38000,
          31000,
          20000,
          69000,
          45000,
          23000,
          6400,
          31000,
          130000,
          35000,
          7200,
          1800,
          14000,
          68000,
          83000,
          4100,
          54000,
          31000,
          27000,
          13000,
          11000,
          86000,
          39000,
          200000,
          76000,
          39000,
          56000,
          54000,
          170000,
          28000,
          180000,
          18000,
          9700,
          13000,
          12000,
          69000,
          12000,
          65000,
          10000,
          100000,
          76000,
          60000,
          12000,
          6500,
          24000,
          30000,
          36000,
          20000,
          57000,
          42000,
          4400,
          14000,
          63000,
          62000,
          31000,
          64000,
          27000,
          89000,
          3200,
          26000,
          52000,
          45000,
          89000,
          150000,
          140000,
          170000,
          220000,
          30000,
          39000,
          200000,
          49000,
          86000,
          20000,
          18000,
          180000,
          120000,
          110000,
          22000,
          81000,
          25000,
          56000,
          150000,
          110000,
          47000,
          4900,
          9400,
          10000,
          140000,
          100000,
          110000,
          14000,
          80000,
          97000,
          19000,
          34000,
          47000,
          14000,
          59000,
          73000,
          59000,
          75000,
          18000,
          22000,
          79000,
          29000,
          10000,
          22000,
          37000,
          3600,
          7600,
          44000,
          3800,
          120000,
          36000,
          93000,
          10000,
          56000,
          210000,
          62000,
          43000,
          62000,
          7400,
          39000,
          8100,
          5400,
          1700,
          36000,
          5500,
          46000,
          5500,
          28000,
          170000,
          140000,
          34000,
          98000,
          140000,
          3500,
          220000,
          3300,
          35000,
          62000,
          1700,
          23000,
          2200,
          18000,
          79000,
          51000,
          34000,
          1600,
          12000,
          22000,
          32000,
          10000,
          16000,
          180000,
          40000,
          10000,
          25000,
          72000,
          97000,
          85000,
          12000,
          9700,
          14000,
          8700,
          150000,
          6500,
          22000,
          25000,
          22000,
          36000,
          19000,
          41000,
          26000,
          20000,
          2200,
          35000,
          11000,
          36000,
          38000,
          66000,
          140000,
          100000,
          46000,
          60000,
          44000,
          160000,
          16000,
          27000,
          14000,
          84000,
          53000,
          46000,
          150000,
          2600,
          20000,
          32000,
          130000,
          27000,
          32000,
          30000,
          99000,
          25000,
          75000,
          110000,
          41000,
          150000,
          34000,
          200000,
          47000,
          79000,
          74000,
          42000,
          220000,
          54000,
          6000,
          82000,
          220000,
          87000,
          140000,
          11000,
          160000,
          82000,
          49000,
          39000,
          76000,
          12000,
          69000,
          67000,
          33000,
          150000,
          4100,
          13000,
          72000,
          87000,
          16000,
          76000,
          110000,
          4500,
          120000,
          99000,
          14000,
          49000,
          4400,
          160000,
          22000,
          37000,
          8000,
          6300,
          17000,
          34000,
          16000,
          220000,
          5900,
          16000,
          43000,
          22000,
          78000,
          52000,
          120000,
          39000,
          160000,
          80000,
          180000,
          120000,
          68000,
          7200,
          10000,
          23000,
          29000,
          14000,
          29000,
          19000,
          58000,
          15000,
          120000,
          72000,
          78000,
          43000,
          120000,
          11000,
          55000,
          23000,
          71000,
          27000,
          47000,
          22000,
          81000,
          39000,
          49000,
          93000,
          57000,
          58000,
          60000,
          8400,
          52000,
          48000,
          12000,
          150000,
          140000,
          51000,
          33000,
          4800,
          170000,
          13000,
          73000,
          34000,
          120000,
          130000,
          36000,
          14000,
          21000,
          9100,
          100000,
          40000,
          44000,
          59000,
          42000,
          34000,
          70000,
          21000,
          40000,
          95000,
          22000,
          17000,
          41000,
          12000,
          5300,
          100000,
          35000,
          21000,
          33000,
          57000,
          13000,
          76000,
          80000,
          6200,
          92000,
          22000,
          3200,
          9100,
          30000,
          42000,
          8800,
          12000,
          84000,
          79000,
          8900,
          160000,
          83000,
          34000,
          72000,
          180000,
          23000,
          50000,
          40000,
          67000,
          10000,
          39000,
          22000,
          68000,
          47000,
          20000,
          79000,
          68000,
          36000,
          39000,
          19000,
          18000,
          70000,
          190000,
          190000,
          52000,
          110000,
          21000,
          26000,
          41000,
          170000,
          69000,
          3000,
          7700,
          29000,
          35000,
          23000,
          24000,
          5200,
          7200,
          16000,
          15000,
          170000,
          36000,
          17000,
          120000,
          30000,
          3200,
          7000,
          33000,
          2600,
          160000,
          5600,
          16000,
          6800,
          12000,
          9100,
          140000,
          47000,
          6400,
          14000,
          39000,
          14000,
          110000,
          61000,
          16000,
          18000,
          15000,
          20000,
          22000,
          13000,
          130000,
          78000,
          4200,
          220000,
          42000,
          60000,
          34000,
          60000,
          110000,
          17000,
          68000,
          8800,
          12000,
          71000,
          12000,
          16000,
          17000,
          16000,
          34000,
          220000,
          28000,
          60000,
          9500,
          100000,
          58000,
          68000,
          9200,
          30000,
          11000,
          220000,
          38000,
          11000,
          7900,
          4900,
          66000,
          82000,
          24000,
          29000,
          50000,
          45000,
          9400,
          3900,
          62000,
          48000,
          33000,
          100000,
          62000,
          81000,
          8500,
          53000,
          49000,
          170000,
          12000,
          90000,
          130000,
          47000,
          23000,
          73000,
          130000,
          22000,
          84000,
          23000,
          11000,
          120000,
          7200,
          84000,
          29000,
          47000,
          130000,
          47000,
          9400,
          180000,
          120000,
          1700,
          50000,
          12000,
          59000,
          13000,
          19000,
          100000,
          26000,
          5200,
          28000,
          33000,
          14000,
          200000,
          120000,
          68000,
          45000,
          110000,
          5400,
          12000,
          44000,
          68000,
          25000,
          29000,
          78000,
          89000,
          24000,
          11000,
          49000,
          120000,
          30000,
          130000,
          6100,
          12000,
          9500,
          3900,
          23000,
          43000,
          220000,
          19000,
          63000,
          40000,
          150000,
          37000,
          23000,
          190000,
          120000,
          34000,
          120000,
          35000,
          6200,
          94000,
          32000,
          17000,
          12000,
          18000,
          140000,
          17000,
          76000,
          25000,
          190000,
          69000,
          14000,
          68000,
          16000,
          67000,
          77000,
          19000,
          83000,
          41000,
          45000,
          52000,
          21000,
          30000,
          9800,
          38000
         ],
         "yaxis": "y"
        },
        {
         "hovertemplate": "<b>OLS trendline</b><br>course_students_enrolled = 4893.35 * course_rating + 32267.2<br>R<sup>2</sup>=0.000243<br><br>Rating=%{x}<br>Enrolled Students=%{y} <b>(trend)</b><extra></extra>",
         "legendgroup": "",
         "marker": {
          "color": "#636efa",
          "symbol": "circle"
         },
         "mode": "lines",
         "name": "",
         "showlegend": false,
         "type": "scatter",
         "x": [
          3.3,
          3.7,
          3.9,
          3.9,
          4,
          4,
          4.1,
          4.2,
          4.2,
          4.2,
          4.2,
          4.2,
          4.2,
          4.2,
          4.2,
          4.2,
          4.3,
          4.3,
          4.3,
          4.3,
          4.3,
          4.3,
          4.3,
          4.3,
          4.3,
          4.3,
          4.3,
          4.3,
          4.3,
          4.3,
          4.3,
          4.4,
          4.4,
          4.4,
          4.4,
          4.4,
          4.4,
          4.4,
          4.4,
          4.4,
          4.4,
          4.4,
          4.4,
          4.4,
          4.4,
          4.4,
          4.4,
          4.4,
          4.4,
          4.4,
          4.4,
          4.4,
          4.4,
          4.4,
          4.4,
          4.4,
          4.4,
          4.4,
          4.4,
          4.4,
          4.4,
          4.4,
          4.4,
          4.5,
          4.5,
          4.5,
          4.5,
          4.5,
          4.5,
          4.5,
          4.5,
          4.5,
          4.5,
          4.5,
          4.5,
          4.5,
          4.5,
          4.5,
          4.5,
          4.5,
          4.5,
          4.5,
          4.5,
          4.5,
          4.5,
          4.5,
          4.5,
          4.5,
          4.5,
          4.5,
          4.5,
          4.5,
          4.5,
          4.5,
          4.5,
          4.5,
          4.5,
          4.5,
          4.5,
          4.5,
          4.5,
          4.5,
          4.5,
          4.5,
          4.5,
          4.5,
          4.5,
          4.5,
          4.5,
          4.5,
          4.5,
          4.5,
          4.5,
          4.5,
          4.5,
          4.5,
          4.5,
          4.5,
          4.5,
          4.5,
          4.5,
          4.5,
          4.5,
          4.5,
          4.5,
          4.5,
          4.5,
          4.5,
          4.5,
          4.5,
          4.5,
          4.5,
          4.5,
          4.5,
          4.5,
          4.5,
          4.5,
          4.5,
          4.5,
          4.6,
          4.6,
          4.6,
          4.6,
          4.6,
          4.6,
          4.6,
          4.6,
          4.6,
          4.6,
          4.6,
          4.6,
          4.6,
          4.6,
          4.6,
          4.6,
          4.6,
          4.6,
          4.6,
          4.6,
          4.6,
          4.6,
          4.6,
          4.6,
          4.6,
          4.6,
          4.6,
          4.6,
          4.6,
          4.6,
          4.6,
          4.6,
          4.6,
          4.6,
          4.6,
          4.6,
          4.6,
          4.6,
          4.6,
          4.6,
          4.6,
          4.6,
          4.6,
          4.6,
          4.6,
          4.6,
          4.6,
          4.6,
          4.6,
          4.6,
          4.6,
          4.6,
          4.6,
          4.6,
          4.6,
          4.6,
          4.6,
          4.6,
          4.6,
          4.6,
          4.6,
          4.6,
          4.6,
          4.6,
          4.6,
          4.6,
          4.6,
          4.6,
          4.6,
          4.6,
          4.6,
          4.6,
          4.6,
          4.6,
          4.6,
          4.6,
          4.6,
          4.6,
          4.6,
          4.6,
          4.6,
          4.6,
          4.6,
          4.6,
          4.6,
          4.6,
          4.6,
          4.6,
          4.6,
          4.6,
          4.6,
          4.6,
          4.6,
          4.6,
          4.6,
          4.6,
          4.6,
          4.6,
          4.6,
          4.6,
          4.6,
          4.6,
          4.6,
          4.6,
          4.6,
          4.6,
          4.6,
          4.6,
          4.6,
          4.6,
          4.6,
          4.6,
          4.6,
          4.6,
          4.6,
          4.6,
          4.6,
          4.6,
          4.6,
          4.6,
          4.6,
          4.6,
          4.6,
          4.6,
          4.6,
          4.6,
          4.6,
          4.6,
          4.6,
          4.6,
          4.6,
          4.6,
          4.6,
          4.6,
          4.6,
          4.6,
          4.6,
          4.6,
          4.6,
          4.6,
          4.6,
          4.6,
          4.6,
          4.6,
          4.6,
          4.6,
          4.6,
          4.6,
          4.7,
          4.7,
          4.7,
          4.7,
          4.7,
          4.7,
          4.7,
          4.7,
          4.7,
          4.7,
          4.7,
          4.7,
          4.7,
          4.7,
          4.7,
          4.7,
          4.7,
          4.7,
          4.7,
          4.7,
          4.7,
          4.7,
          4.7,
          4.7,
          4.7,
          4.7,
          4.7,
          4.7,
          4.7,
          4.7,
          4.7,
          4.7,
          4.7,
          4.7,
          4.7,
          4.7,
          4.7,
          4.7,
          4.7,
          4.7,
          4.7,
          4.7,
          4.7,
          4.7,
          4.7,
          4.7,
          4.7,
          4.7,
          4.7,
          4.7,
          4.7,
          4.7,
          4.7,
          4.7,
          4.7,
          4.7,
          4.7,
          4.7,
          4.7,
          4.7,
          4.7,
          4.7,
          4.7,
          4.7,
          4.7,
          4.7,
          4.7,
          4.7,
          4.7,
          4.7,
          4.7,
          4.7,
          4.7,
          4.7,
          4.7,
          4.7,
          4.7,
          4.7,
          4.7,
          4.7,
          4.7,
          4.7,
          4.7,
          4.7,
          4.7,
          4.7,
          4.7,
          4.7,
          4.7,
          4.7,
          4.7,
          4.7,
          4.7,
          4.7,
          4.7,
          4.7,
          4.7,
          4.7,
          4.7,
          4.7,
          4.7,
          4.7,
          4.7,
          4.7,
          4.7,
          4.7,
          4.7,
          4.7,
          4.7,
          4.7,
          4.7,
          4.7,
          4.7,
          4.7,
          4.7,
          4.7,
          4.7,
          4.7,
          4.7,
          4.7,
          4.7,
          4.7,
          4.7,
          4.7,
          4.7,
          4.7,
          4.7,
          4.7,
          4.7,
          4.7,
          4.7,
          4.7,
          4.7,
          4.7,
          4.7,
          4.7,
          4.7,
          4.7,
          4.7,
          4.7,
          4.7,
          4.7,
          4.7,
          4.7,
          4.7,
          4.7,
          4.7,
          4.7,
          4.7,
          4.7,
          4.7,
          4.7,
          4.7,
          4.7,
          4.7,
          4.7,
          4.7,
          4.7,
          4.7,
          4.7,
          4.7,
          4.7,
          4.7,
          4.7,
          4.7,
          4.7,
          4.7,
          4.7,
          4.7,
          4.7,
          4.7,
          4.7,
          4.7,
          4.7,
          4.7,
          4.7,
          4.7,
          4.7,
          4.7,
          4.7,
          4.7,
          4.7,
          4.7,
          4.7,
          4.7,
          4.7,
          4.7,
          4.7,
          4.7,
          4.7,
          4.7,
          4.7,
          4.7,
          4.7,
          4.7,
          4.7,
          4.7,
          4.7,
          4.7,
          4.7,
          4.7,
          4.7,
          4.7,
          4.7,
          4.7,
          4.7,
          4.7,
          4.7,
          4.7,
          4.7,
          4.7,
          4.7,
          4.7,
          4.7,
          4.7,
          4.7,
          4.7,
          4.7,
          4.7,
          4.7,
          4.7,
          4.7,
          4.7,
          4.7,
          4.7,
          4.7,
          4.7,
          4.7,
          4.7,
          4.7,
          4.7,
          4.8,
          4.8,
          4.8,
          4.8,
          4.8,
          4.8,
          4.8,
          4.8,
          4.8,
          4.8,
          4.8,
          4.8,
          4.8,
          4.8,
          4.8,
          4.8,
          4.8,
          4.8,
          4.8,
          4.8,
          4.8,
          4.8,
          4.8,
          4.8,
          4.8,
          4.8,
          4.8,
          4.8,
          4.8,
          4.8,
          4.8,
          4.8,
          4.8,
          4.8,
          4.8,
          4.8,
          4.8,
          4.8,
          4.8,
          4.8,
          4.8,
          4.8,
          4.8,
          4.8,
          4.8,
          4.8,
          4.8,
          4.8,
          4.8,
          4.8,
          4.8,
          4.8,
          4.8,
          4.8,
          4.8,
          4.8,
          4.8,
          4.8,
          4.8,
          4.8,
          4.8,
          4.8,
          4.8,
          4.8,
          4.8,
          4.8,
          4.8,
          4.8,
          4.8,
          4.8,
          4.8,
          4.8,
          4.8,
          4.8,
          4.8,
          4.8,
          4.8,
          4.8,
          4.8,
          4.8,
          4.8,
          4.8,
          4.8,
          4.8,
          4.8,
          4.8,
          4.8,
          4.8,
          4.8,
          4.8,
          4.8,
          4.8,
          4.8,
          4.8,
          4.8,
          4.8,
          4.8,
          4.8,
          4.8,
          4.8,
          4.8,
          4.8,
          4.8,
          4.8,
          4.8,
          4.8,
          4.8,
          4.8,
          4.8,
          4.8,
          4.8,
          4.8,
          4.8,
          4.8,
          4.8,
          4.8,
          4.8,
          4.8,
          4.8,
          4.8,
          4.8,
          4.8,
          4.8,
          4.8,
          4.8,
          4.8,
          4.8,
          4.8,
          4.8,
          4.8,
          4.8,
          4.8,
          4.8,
          4.8,
          4.8,
          4.8,
          4.8,
          4.8,
          4.8,
          4.8,
          4.8,
          4.8,
          4.8,
          4.8,
          4.8,
          4.8,
          4.8,
          4.8,
          4.8,
          4.8,
          4.8,
          4.8,
          4.8,
          4.8,
          4.8,
          4.8,
          4.8,
          4.8,
          4.8,
          4.8,
          4.8,
          4.8,
          4.8,
          4.8,
          4.8,
          4.8,
          4.8,
          4.8,
          4.8,
          4.8,
          4.8,
          4.8,
          4.8,
          4.8,
          4.8,
          4.8,
          4.8,
          4.8,
          4.8,
          4.8,
          4.8,
          4.8,
          4.8,
          4.8,
          4.8,
          4.8,
          4.8,
          4.8,
          4.8,
          4.8,
          4.8,
          4.8,
          4.8,
          4.8,
          4.8,
          4.8,
          4.8,
          4.8,
          4.8,
          4.8,
          4.8,
          4.8,
          4.8,
          4.8,
          4.8,
          4.8,
          4.8,
          4.8,
          4.8,
          4.8,
          4.8,
          4.8,
          4.8,
          4.8,
          4.8,
          4.8,
          4.8,
          4.8,
          4.8,
          4.8,
          4.8,
          4.8,
          4.8,
          4.8,
          4.8,
          4.8,
          4.8,
          4.8,
          4.8,
          4.8,
          4.8,
          4.8,
          4.8,
          4.8,
          4.9,
          4.9,
          4.9,
          4.9,
          4.9,
          4.9,
          4.9,
          4.9,
          4.9,
          4.9,
          4.9,
          4.9,
          4.9,
          4.9,
          4.9,
          4.9,
          4.9,
          4.9,
          4.9,
          4.9,
          4.9,
          4.9,
          4.9,
          4.9,
          4.9,
          4.9,
          4.9,
          4.9,
          4.9,
          4.9,
          4.9,
          4.9,
          4.9,
          4.9,
          4.9,
          4.9,
          4.9,
          4.9,
          4.9,
          4.9,
          4.9,
          4.9,
          4.9,
          4.9,
          4.9,
          4.9,
          4.9,
          4.9,
          4.9,
          4.9,
          4.9,
          4.9,
          4.9,
          4.9,
          4.9,
          4.9,
          4.9,
          4.9,
          4.9,
          5,
          5
         ],
         "xaxis": "x",
         "y": [
          48415.286881993,
          50372.625379153615,
          51351.294627733914,
          51351.294627733914,
          51840.62925202407,
          51840.62925202407,
          52329.963876314214,
          52819.298500604375,
          52819.298500604375,
          52819.298500604375,
          52819.298500604375,
          52819.298500604375,
          52819.298500604375,
          52819.298500604375,
          52819.298500604375,
          52819.298500604375,
          53308.63312489452,
          53308.63312489452,
          53308.63312489452,
          53308.63312489452,
          53308.63312489452,
          53308.63312489452,
          53308.63312489452,
          53308.63312489452,
          53308.63312489452,
          53308.63312489452,
          53308.63312489452,
          53308.63312489452,
          53308.63312489452,
          53308.63312489452,
          53308.63312489452,
          53797.96774918468,
          53797.96774918468,
          53797.96774918468,
          53797.96774918468,
          53797.96774918468,
          53797.96774918468,
          53797.96774918468,
          53797.96774918468,
          53797.96774918468,
          53797.96774918468,
          53797.96774918468,
          53797.96774918468,
          53797.96774918468,
          53797.96774918468,
          53797.96774918468,
          53797.96774918468,
          53797.96774918468,
          53797.96774918468,
          53797.96774918468,
          53797.96774918468,
          53797.96774918468,
          53797.96774918468,
          53797.96774918468,
          53797.96774918468,
          53797.96774918468,
          53797.96774918468,
          53797.96774918468,
          53797.96774918468,
          53797.96774918468,
          53797.96774918468,
          53797.96774918468,
          53797.96774918468,
          54287.30237347483,
          54287.30237347483,
          54287.30237347483,
          54287.30237347483,
          54287.30237347483,
          54287.30237347483,
          54287.30237347483,
          54287.30237347483,
          54287.30237347483,
          54287.30237347483,
          54287.30237347483,
          54287.30237347483,
          54287.30237347483,
          54287.30237347483,
          54287.30237347483,
          54287.30237347483,
          54287.30237347483,
          54287.30237347483,
          54287.30237347483,
          54287.30237347483,
          54287.30237347483,
          54287.30237347483,
          54287.30237347483,
          54287.30237347483,
          54287.30237347483,
          54287.30237347483,
          54287.30237347483,
          54287.30237347483,
          54287.30237347483,
          54287.30237347483,
          54287.30237347483,
          54287.30237347483,
          54287.30237347483,
          54287.30237347483,
          54287.30237347483,
          54287.30237347483,
          54287.30237347483,
          54287.30237347483,
          54287.30237347483,
          54287.30237347483,
          54287.30237347483,
          54287.30237347483,
          54287.30237347483,
          54287.30237347483,
          54287.30237347483,
          54287.30237347483,
          54287.30237347483,
          54287.30237347483,
          54287.30237347483,
          54287.30237347483,
          54287.30237347483,
          54287.30237347483,
          54287.30237347483,
          54287.30237347483,
          54287.30237347483,
          54287.30237347483,
          54287.30237347483,
          54287.30237347483,
          54287.30237347483,
          54287.30237347483,
          54287.30237347483,
          54287.30237347483,
          54287.30237347483,
          54287.30237347483,
          54287.30237347483,
          54287.30237347483,
          54287.30237347483,
          54287.30237347483,
          54287.30237347483,
          54287.30237347483,
          54287.30237347483,
          54287.30237347483,
          54287.30237347483,
          54287.30237347483,
          54287.30237347483,
          54287.30237347483,
          54776.63699776498,
          54776.63699776498,
          54776.63699776498,
          54776.63699776498,
          54776.63699776498,
          54776.63699776498,
          54776.63699776498,
          54776.63699776498,
          54776.63699776498,
          54776.63699776498,
          54776.63699776498,
          54776.63699776498,
          54776.63699776498,
          54776.63699776498,
          54776.63699776498,
          54776.63699776498,
          54776.63699776498,
          54776.63699776498,
          54776.63699776498,
          54776.63699776498,
          54776.63699776498,
          54776.63699776498,
          54776.63699776498,
          54776.63699776498,
          54776.63699776498,
          54776.63699776498,
          54776.63699776498,
          54776.63699776498,
          54776.63699776498,
          54776.63699776498,
          54776.63699776498,
          54776.63699776498,
          54776.63699776498,
          54776.63699776498,
          54776.63699776498,
          54776.63699776498,
          54776.63699776498,
          54776.63699776498,
          54776.63699776498,
          54776.63699776498,
          54776.63699776498,
          54776.63699776498,
          54776.63699776498,
          54776.63699776498,
          54776.63699776498,
          54776.63699776498,
          54776.63699776498,
          54776.63699776498,
          54776.63699776498,
          54776.63699776498,
          54776.63699776498,
          54776.63699776498,
          54776.63699776498,
          54776.63699776498,
          54776.63699776498,
          54776.63699776498,
          54776.63699776498,
          54776.63699776498,
          54776.63699776498,
          54776.63699776498,
          54776.63699776498,
          54776.63699776498,
          54776.63699776498,
          54776.63699776498,
          54776.63699776498,
          54776.63699776498,
          54776.63699776498,
          54776.63699776498,
          54776.63699776498,
          54776.63699776498,
          54776.63699776498,
          54776.63699776498,
          54776.63699776498,
          54776.63699776498,
          54776.63699776498,
          54776.63699776498,
          54776.63699776498,
          54776.63699776498,
          54776.63699776498,
          54776.63699776498,
          54776.63699776498,
          54776.63699776498,
          54776.63699776498,
          54776.63699776498,
          54776.63699776498,
          54776.63699776498,
          54776.63699776498,
          54776.63699776498,
          54776.63699776498,
          54776.63699776498,
          54776.63699776498,
          54776.63699776498,
          54776.63699776498,
          54776.63699776498,
          54776.63699776498,
          54776.63699776498,
          54776.63699776498,
          54776.63699776498,
          54776.63699776498,
          54776.63699776498,
          54776.63699776498,
          54776.63699776498,
          54776.63699776498,
          54776.63699776498,
          54776.63699776498,
          54776.63699776498,
          54776.63699776498,
          54776.63699776498,
          54776.63699776498,
          54776.63699776498,
          54776.63699776498,
          54776.63699776498,
          54776.63699776498,
          54776.63699776498,
          54776.63699776498,
          54776.63699776498,
          54776.63699776498,
          54776.63699776498,
          54776.63699776498,
          54776.63699776498,
          54776.63699776498,
          54776.63699776498,
          54776.63699776498,
          54776.63699776498,
          54776.63699776498,
          54776.63699776498,
          54776.63699776498,
          54776.63699776498,
          54776.63699776498,
          54776.63699776498,
          54776.63699776498,
          54776.63699776498,
          54776.63699776498,
          54776.63699776498,
          54776.63699776498,
          54776.63699776498,
          54776.63699776498,
          54776.63699776498,
          54776.63699776498,
          54776.63699776498,
          54776.63699776498,
          54776.63699776498,
          54776.63699776498,
          54776.63699776498,
          54776.63699776498,
          54776.63699776498,
          54776.63699776498,
          54776.63699776498,
          55265.971622055135,
          55265.971622055135,
          55265.971622055135,
          55265.971622055135,
          55265.971622055135,
          55265.971622055135,
          55265.971622055135,
          55265.971622055135,
          55265.971622055135,
          55265.971622055135,
          55265.971622055135,
          55265.971622055135,
          55265.971622055135,
          55265.971622055135,
          55265.971622055135,
          55265.971622055135,
          55265.971622055135,
          55265.971622055135,
          55265.971622055135,
          55265.971622055135,
          55265.971622055135,
          55265.971622055135,
          55265.971622055135,
          55265.971622055135,
          55265.971622055135,
          55265.971622055135,
          55265.971622055135,
          55265.971622055135,
          55265.971622055135,
          55265.971622055135,
          55265.971622055135,
          55265.971622055135,
          55265.971622055135,
          55265.971622055135,
          55265.971622055135,
          55265.971622055135,
          55265.971622055135,
          55265.971622055135,
          55265.971622055135,
          55265.971622055135,
          55265.971622055135,
          55265.971622055135,
          55265.971622055135,
          55265.971622055135,
          55265.971622055135,
          55265.971622055135,
          55265.971622055135,
          55265.971622055135,
          55265.971622055135,
          55265.971622055135,
          55265.971622055135,
          55265.971622055135,
          55265.971622055135,
          55265.971622055135,
          55265.971622055135,
          55265.971622055135,
          55265.971622055135,
          55265.971622055135,
          55265.971622055135,
          55265.971622055135,
          55265.971622055135,
          55265.971622055135,
          55265.971622055135,
          55265.971622055135,
          55265.971622055135,
          55265.971622055135,
          55265.971622055135,
          55265.971622055135,
          55265.971622055135,
          55265.971622055135,
          55265.971622055135,
          55265.971622055135,
          55265.971622055135,
          55265.971622055135,
          55265.971622055135,
          55265.971622055135,
          55265.971622055135,
          55265.971622055135,
          55265.971622055135,
          55265.971622055135,
          55265.971622055135,
          55265.971622055135,
          55265.971622055135,
          55265.971622055135,
          55265.971622055135,
          55265.971622055135,
          55265.971622055135,
          55265.971622055135,
          55265.971622055135,
          55265.971622055135,
          55265.971622055135,
          55265.971622055135,
          55265.971622055135,
          55265.971622055135,
          55265.971622055135,
          55265.971622055135,
          55265.971622055135,
          55265.971622055135,
          55265.971622055135,
          55265.971622055135,
          55265.971622055135,
          55265.971622055135,
          55265.971622055135,
          55265.971622055135,
          55265.971622055135,
          55265.971622055135,
          55265.971622055135,
          55265.971622055135,
          55265.971622055135,
          55265.971622055135,
          55265.971622055135,
          55265.971622055135,
          55265.971622055135,
          55265.971622055135,
          55265.971622055135,
          55265.971622055135,
          55265.971622055135,
          55265.971622055135,
          55265.971622055135,
          55265.971622055135,
          55265.971622055135,
          55265.971622055135,
          55265.971622055135,
          55265.971622055135,
          55265.971622055135,
          55265.971622055135,
          55265.971622055135,
          55265.971622055135,
          55265.971622055135,
          55265.971622055135,
          55265.971622055135,
          55265.971622055135,
          55265.971622055135,
          55265.971622055135,
          55265.971622055135,
          55265.971622055135,
          55265.971622055135,
          55265.971622055135,
          55265.971622055135,
          55265.971622055135,
          55265.971622055135,
          55265.971622055135,
          55265.971622055135,
          55265.971622055135,
          55265.971622055135,
          55265.971622055135,
          55265.971622055135,
          55265.971622055135,
          55265.971622055135,
          55265.971622055135,
          55265.971622055135,
          55265.971622055135,
          55265.971622055135,
          55265.971622055135,
          55265.971622055135,
          55265.971622055135,
          55265.971622055135,
          55265.971622055135,
          55265.971622055135,
          55265.971622055135,
          55265.971622055135,
          55265.971622055135,
          55265.971622055135,
          55265.971622055135,
          55265.971622055135,
          55265.971622055135,
          55265.971622055135,
          55265.971622055135,
          55265.971622055135,
          55265.971622055135,
          55265.971622055135,
          55265.971622055135,
          55265.971622055135,
          55265.971622055135,
          55265.971622055135,
          55265.971622055135,
          55265.971622055135,
          55265.971622055135,
          55265.971622055135,
          55265.971622055135,
          55265.971622055135,
          55265.971622055135,
          55265.971622055135,
          55265.971622055135,
          55265.971622055135,
          55265.971622055135,
          55265.971622055135,
          55265.971622055135,
          55265.971622055135,
          55265.971622055135,
          55265.971622055135,
          55265.971622055135,
          55265.971622055135,
          55265.971622055135,
          55265.971622055135,
          55265.971622055135,
          55265.971622055135,
          55265.971622055135,
          55265.971622055135,
          55265.971622055135,
          55265.971622055135,
          55265.971622055135,
          55265.971622055135,
          55265.971622055135,
          55265.971622055135,
          55265.971622055135,
          55265.971622055135,
          55265.971622055135,
          55265.971622055135,
          55265.971622055135,
          55265.971622055135,
          55265.971622055135,
          55265.971622055135,
          55265.971622055135,
          55265.971622055135,
          55265.971622055135,
          55265.971622055135,
          55265.971622055135,
          55265.971622055135,
          55265.971622055135,
          55265.971622055135,
          55265.971622055135,
          55265.971622055135,
          55265.971622055135,
          55265.971622055135,
          55265.971622055135,
          55265.971622055135,
          55265.971622055135,
          55265.971622055135,
          55265.971622055135,
          55265.971622055135,
          55755.30624634529,
          55755.30624634529,
          55755.30624634529,
          55755.30624634529,
          55755.30624634529,
          55755.30624634529,
          55755.30624634529,
          55755.30624634529,
          55755.30624634529,
          55755.30624634529,
          55755.30624634529,
          55755.30624634529,
          55755.30624634529,
          55755.30624634529,
          55755.30624634529,
          55755.30624634529,
          55755.30624634529,
          55755.30624634529,
          55755.30624634529,
          55755.30624634529,
          55755.30624634529,
          55755.30624634529,
          55755.30624634529,
          55755.30624634529,
          55755.30624634529,
          55755.30624634529,
          55755.30624634529,
          55755.30624634529,
          55755.30624634529,
          55755.30624634529,
          55755.30624634529,
          55755.30624634529,
          55755.30624634529,
          55755.30624634529,
          55755.30624634529,
          55755.30624634529,
          55755.30624634529,
          55755.30624634529,
          55755.30624634529,
          55755.30624634529,
          55755.30624634529,
          55755.30624634529,
          55755.30624634529,
          55755.30624634529,
          55755.30624634529,
          55755.30624634529,
          55755.30624634529,
          55755.30624634529,
          55755.30624634529,
          55755.30624634529,
          55755.30624634529,
          55755.30624634529,
          55755.30624634529,
          55755.30624634529,
          55755.30624634529,
          55755.30624634529,
          55755.30624634529,
          55755.30624634529,
          55755.30624634529,
          55755.30624634529,
          55755.30624634529,
          55755.30624634529,
          55755.30624634529,
          55755.30624634529,
          55755.30624634529,
          55755.30624634529,
          55755.30624634529,
          55755.30624634529,
          55755.30624634529,
          55755.30624634529,
          55755.30624634529,
          55755.30624634529,
          55755.30624634529,
          55755.30624634529,
          55755.30624634529,
          55755.30624634529,
          55755.30624634529,
          55755.30624634529,
          55755.30624634529,
          55755.30624634529,
          55755.30624634529,
          55755.30624634529,
          55755.30624634529,
          55755.30624634529,
          55755.30624634529,
          55755.30624634529,
          55755.30624634529,
          55755.30624634529,
          55755.30624634529,
          55755.30624634529,
          55755.30624634529,
          55755.30624634529,
          55755.30624634529,
          55755.30624634529,
          55755.30624634529,
          55755.30624634529,
          55755.30624634529,
          55755.30624634529,
          55755.30624634529,
          55755.30624634529,
          55755.30624634529,
          55755.30624634529,
          55755.30624634529,
          55755.30624634529,
          55755.30624634529,
          55755.30624634529,
          55755.30624634529,
          55755.30624634529,
          55755.30624634529,
          55755.30624634529,
          55755.30624634529,
          55755.30624634529,
          55755.30624634529,
          55755.30624634529,
          55755.30624634529,
          55755.30624634529,
          55755.30624634529,
          55755.30624634529,
          55755.30624634529,
          55755.30624634529,
          55755.30624634529,
          55755.30624634529,
          55755.30624634529,
          55755.30624634529,
          55755.30624634529,
          55755.30624634529,
          55755.30624634529,
          55755.30624634529,
          55755.30624634529,
          55755.30624634529,
          55755.30624634529,
          55755.30624634529,
          55755.30624634529,
          55755.30624634529,
          55755.30624634529,
          55755.30624634529,
          55755.30624634529,
          55755.30624634529,
          55755.30624634529,
          55755.30624634529,
          55755.30624634529,
          55755.30624634529,
          55755.30624634529,
          55755.30624634529,
          55755.30624634529,
          55755.30624634529,
          55755.30624634529,
          55755.30624634529,
          55755.30624634529,
          55755.30624634529,
          55755.30624634529,
          55755.30624634529,
          55755.30624634529,
          55755.30624634529,
          55755.30624634529,
          55755.30624634529,
          55755.30624634529,
          55755.30624634529,
          55755.30624634529,
          55755.30624634529,
          55755.30624634529,
          55755.30624634529,
          55755.30624634529,
          55755.30624634529,
          55755.30624634529,
          55755.30624634529,
          55755.30624634529,
          55755.30624634529,
          55755.30624634529,
          55755.30624634529,
          55755.30624634529,
          55755.30624634529,
          55755.30624634529,
          55755.30624634529,
          55755.30624634529,
          55755.30624634529,
          55755.30624634529,
          55755.30624634529,
          55755.30624634529,
          55755.30624634529,
          55755.30624634529,
          55755.30624634529,
          55755.30624634529,
          55755.30624634529,
          55755.30624634529,
          55755.30624634529,
          55755.30624634529,
          55755.30624634529,
          55755.30624634529,
          55755.30624634529,
          55755.30624634529,
          55755.30624634529,
          55755.30624634529,
          55755.30624634529,
          55755.30624634529,
          55755.30624634529,
          55755.30624634529,
          55755.30624634529,
          55755.30624634529,
          55755.30624634529,
          55755.30624634529,
          55755.30624634529,
          55755.30624634529,
          55755.30624634529,
          55755.30624634529,
          55755.30624634529,
          55755.30624634529,
          55755.30624634529,
          55755.30624634529,
          55755.30624634529,
          55755.30624634529,
          55755.30624634529,
          55755.30624634529,
          55755.30624634529,
          55755.30624634529,
          55755.30624634529,
          55755.30624634529,
          55755.30624634529,
          55755.30624634529,
          55755.30624634529,
          55755.30624634529,
          55755.30624634529,
          55755.30624634529,
          55755.30624634529,
          55755.30624634529,
          55755.30624634529,
          55755.30624634529,
          55755.30624634529,
          55755.30624634529,
          55755.30624634529,
          55755.30624634529,
          55755.30624634529,
          55755.30624634529,
          55755.30624634529,
          56244.64087063544,
          56244.64087063544,
          56244.64087063544,
          56244.64087063544,
          56244.64087063544,
          56244.64087063544,
          56244.64087063544,
          56244.64087063544,
          56244.64087063544,
          56244.64087063544,
          56244.64087063544,
          56244.64087063544,
          56244.64087063544,
          56244.64087063544,
          56244.64087063544,
          56244.64087063544,
          56244.64087063544,
          56244.64087063544,
          56244.64087063544,
          56244.64087063544,
          56244.64087063544,
          56244.64087063544,
          56244.64087063544,
          56244.64087063544,
          56244.64087063544,
          56244.64087063544,
          56244.64087063544,
          56244.64087063544,
          56244.64087063544,
          56244.64087063544,
          56244.64087063544,
          56244.64087063544,
          56244.64087063544,
          56244.64087063544,
          56244.64087063544,
          56244.64087063544,
          56244.64087063544,
          56244.64087063544,
          56244.64087063544,
          56244.64087063544,
          56244.64087063544,
          56244.64087063544,
          56244.64087063544,
          56244.64087063544,
          56244.64087063544,
          56244.64087063544,
          56244.64087063544,
          56244.64087063544,
          56244.64087063544,
          56244.64087063544,
          56244.64087063544,
          56244.64087063544,
          56244.64087063544,
          56244.64087063544,
          56244.64087063544,
          56244.64087063544,
          56244.64087063544,
          56244.64087063544,
          56244.64087063544,
          56733.975494925595,
          56733.975494925595
         ],
         "yaxis": "y"
        }
       ],
       "layout": {
        "legend": {
         "tracegroupgap": 0
        },
        "template": {
         "data": {
          "bar": [
           {
            "error_x": {
             "color": "#2a3f5f"
            },
            "error_y": {
             "color": "#2a3f5f"
            },
            "marker": {
             "line": {
              "color": "white",
              "width": 0.5
             },
             "pattern": {
              "fillmode": "overlay",
              "size": 10,
              "solidity": 0.2
             }
            },
            "type": "bar"
           }
          ],
          "barpolar": [
           {
            "marker": {
             "line": {
              "color": "white",
              "width": 0.5
             },
             "pattern": {
              "fillmode": "overlay",
              "size": 10,
              "solidity": 0.2
             }
            },
            "type": "barpolar"
           }
          ],
          "carpet": [
           {
            "aaxis": {
             "endlinecolor": "#2a3f5f",
             "gridcolor": "#C8D4E3",
             "linecolor": "#C8D4E3",
             "minorgridcolor": "#C8D4E3",
             "startlinecolor": "#2a3f5f"
            },
            "baxis": {
             "endlinecolor": "#2a3f5f",
             "gridcolor": "#C8D4E3",
             "linecolor": "#C8D4E3",
             "minorgridcolor": "#C8D4E3",
             "startlinecolor": "#2a3f5f"
            },
            "type": "carpet"
           }
          ],
          "choropleth": [
           {
            "colorbar": {
             "outlinewidth": 0,
             "ticks": ""
            },
            "type": "choropleth"
           }
          ],
          "contour": [
           {
            "colorbar": {
             "outlinewidth": 0,
             "ticks": ""
            },
            "colorscale": [
             [
              0,
              "#0d0887"
             ],
             [
              0.1111111111111111,
              "#46039f"
             ],
             [
              0.2222222222222222,
              "#7201a8"
             ],
             [
              0.3333333333333333,
              "#9c179e"
             ],
             [
              0.4444444444444444,
              "#bd3786"
             ],
             [
              0.5555555555555556,
              "#d8576b"
             ],
             [
              0.6666666666666666,
              "#ed7953"
             ],
             [
              0.7777777777777778,
              "#fb9f3a"
             ],
             [
              0.8888888888888888,
              "#fdca26"
             ],
             [
              1,
              "#f0f921"
             ]
            ],
            "type": "contour"
           }
          ],
          "contourcarpet": [
           {
            "colorbar": {
             "outlinewidth": 0,
             "ticks": ""
            },
            "type": "contourcarpet"
           }
          ],
          "heatmap": [
           {
            "colorbar": {
             "outlinewidth": 0,
             "ticks": ""
            },
            "colorscale": [
             [
              0,
              "#0d0887"
             ],
             [
              0.1111111111111111,
              "#46039f"
             ],
             [
              0.2222222222222222,
              "#7201a8"
             ],
             [
              0.3333333333333333,
              "#9c179e"
             ],
             [
              0.4444444444444444,
              "#bd3786"
             ],
             [
              0.5555555555555556,
              "#d8576b"
             ],
             [
              0.6666666666666666,
              "#ed7953"
             ],
             [
              0.7777777777777778,
              "#fb9f3a"
             ],
             [
              0.8888888888888888,
              "#fdca26"
             ],
             [
              1,
              "#f0f921"
             ]
            ],
            "type": "heatmap"
           }
          ],
          "heatmapgl": [
           {
            "colorbar": {
             "outlinewidth": 0,
             "ticks": ""
            },
            "colorscale": [
             [
              0,
              "#0d0887"
             ],
             [
              0.1111111111111111,
              "#46039f"
             ],
             [
              0.2222222222222222,
              "#7201a8"
             ],
             [
              0.3333333333333333,
              "#9c179e"
             ],
             [
              0.4444444444444444,
              "#bd3786"
             ],
             [
              0.5555555555555556,
              "#d8576b"
             ],
             [
              0.6666666666666666,
              "#ed7953"
             ],
             [
              0.7777777777777778,
              "#fb9f3a"
             ],
             [
              0.8888888888888888,
              "#fdca26"
             ],
             [
              1,
              "#f0f921"
             ]
            ],
            "type": "heatmapgl"
           }
          ],
          "histogram": [
           {
            "marker": {
             "pattern": {
              "fillmode": "overlay",
              "size": 10,
              "solidity": 0.2
             }
            },
            "type": "histogram"
           }
          ],
          "histogram2d": [
           {
            "colorbar": {
             "outlinewidth": 0,
             "ticks": ""
            },
            "colorscale": [
             [
              0,
              "#0d0887"
             ],
             [
              0.1111111111111111,
              "#46039f"
             ],
             [
              0.2222222222222222,
              "#7201a8"
             ],
             [
              0.3333333333333333,
              "#9c179e"
             ],
             [
              0.4444444444444444,
              "#bd3786"
             ],
             [
              0.5555555555555556,
              "#d8576b"
             ],
             [
              0.6666666666666666,
              "#ed7953"
             ],
             [
              0.7777777777777778,
              "#fb9f3a"
             ],
             [
              0.8888888888888888,
              "#fdca26"
             ],
             [
              1,
              "#f0f921"
             ]
            ],
            "type": "histogram2d"
           }
          ],
          "histogram2dcontour": [
           {
            "colorbar": {
             "outlinewidth": 0,
             "ticks": ""
            },
            "colorscale": [
             [
              0,
              "#0d0887"
             ],
             [
              0.1111111111111111,
              "#46039f"
             ],
             [
              0.2222222222222222,
              "#7201a8"
             ],
             [
              0.3333333333333333,
              "#9c179e"
             ],
             [
              0.4444444444444444,
              "#bd3786"
             ],
             [
              0.5555555555555556,
              "#d8576b"
             ],
             [
              0.6666666666666666,
              "#ed7953"
             ],
             [
              0.7777777777777778,
              "#fb9f3a"
             ],
             [
              0.8888888888888888,
              "#fdca26"
             ],
             [
              1,
              "#f0f921"
             ]
            ],
            "type": "histogram2dcontour"
           }
          ],
          "mesh3d": [
           {
            "colorbar": {
             "outlinewidth": 0,
             "ticks": ""
            },
            "type": "mesh3d"
           }
          ],
          "parcoords": [
           {
            "line": {
             "colorbar": {
              "outlinewidth": 0,
              "ticks": ""
             }
            },
            "type": "parcoords"
           }
          ],
          "pie": [
           {
            "automargin": true,
            "type": "pie"
           }
          ],
          "scatter": [
           {
            "fillpattern": {
             "fillmode": "overlay",
             "size": 10,
             "solidity": 0.2
            },
            "type": "scatter"
           }
          ],
          "scatter3d": [
           {
            "line": {
             "colorbar": {
              "outlinewidth": 0,
              "ticks": ""
             }
            },
            "marker": {
             "colorbar": {
              "outlinewidth": 0,
              "ticks": ""
             }
            },
            "type": "scatter3d"
           }
          ],
          "scattercarpet": [
           {
            "marker": {
             "colorbar": {
              "outlinewidth": 0,
              "ticks": ""
             }
            },
            "type": "scattercarpet"
           }
          ],
          "scattergeo": [
           {
            "marker": {
             "colorbar": {
              "outlinewidth": 0,
              "ticks": ""
             }
            },
            "type": "scattergeo"
           }
          ],
          "scattergl": [
           {
            "marker": {
             "colorbar": {
              "outlinewidth": 0,
              "ticks": ""
             }
            },
            "type": "scattergl"
           }
          ],
          "scattermapbox": [
           {
            "marker": {
             "colorbar": {
              "outlinewidth": 0,
              "ticks": ""
             }
            },
            "type": "scattermapbox"
           }
          ],
          "scatterpolar": [
           {
            "marker": {
             "colorbar": {
              "outlinewidth": 0,
              "ticks": ""
             }
            },
            "type": "scatterpolar"
           }
          ],
          "scatterpolargl": [
           {
            "marker": {
             "colorbar": {
              "outlinewidth": 0,
              "ticks": ""
             }
            },
            "type": "scatterpolargl"
           }
          ],
          "scatterternary": [
           {
            "marker": {
             "colorbar": {
              "outlinewidth": 0,
              "ticks": ""
             }
            },
            "type": "scatterternary"
           }
          ],
          "surface": [
           {
            "colorbar": {
             "outlinewidth": 0,
             "ticks": ""
            },
            "colorscale": [
             [
              0,
              "#0d0887"
             ],
             [
              0.1111111111111111,
              "#46039f"
             ],
             [
              0.2222222222222222,
              "#7201a8"
             ],
             [
              0.3333333333333333,
              "#9c179e"
             ],
             [
              0.4444444444444444,
              "#bd3786"
             ],
             [
              0.5555555555555556,
              "#d8576b"
             ],
             [
              0.6666666666666666,
              "#ed7953"
             ],
             [
              0.7777777777777778,
              "#fb9f3a"
             ],
             [
              0.8888888888888888,
              "#fdca26"
             ],
             [
              1,
              "#f0f921"
             ]
            ],
            "type": "surface"
           }
          ],
          "table": [
           {
            "cells": {
             "fill": {
              "color": "#EBF0F8"
             },
             "line": {
              "color": "white"
             }
            },
            "header": {
             "fill": {
              "color": "#C8D4E3"
             },
             "line": {
              "color": "white"
             }
            },
            "type": "table"
           }
          ]
         },
         "layout": {
          "annotationdefaults": {
           "arrowcolor": "#2a3f5f",
           "arrowhead": 0,
           "arrowwidth": 1
          },
          "autotypenumbers": "strict",
          "coloraxis": {
           "colorbar": {
            "outlinewidth": 0,
            "ticks": ""
           }
          },
          "colorscale": {
           "diverging": [
            [
             0,
             "#8e0152"
            ],
            [
             0.1,
             "#c51b7d"
            ],
            [
             0.2,
             "#de77ae"
            ],
            [
             0.3,
             "#f1b6da"
            ],
            [
             0.4,
             "#fde0ef"
            ],
            [
             0.5,
             "#f7f7f7"
            ],
            [
             0.6,
             "#e6f5d0"
            ],
            [
             0.7,
             "#b8e186"
            ],
            [
             0.8,
             "#7fbc41"
            ],
            [
             0.9,
             "#4d9221"
            ],
            [
             1,
             "#276419"
            ]
           ],
           "sequential": [
            [
             0,
             "#0d0887"
            ],
            [
             0.1111111111111111,
             "#46039f"
            ],
            [
             0.2222222222222222,
             "#7201a8"
            ],
            [
             0.3333333333333333,
             "#9c179e"
            ],
            [
             0.4444444444444444,
             "#bd3786"
            ],
            [
             0.5555555555555556,
             "#d8576b"
            ],
            [
             0.6666666666666666,
             "#ed7953"
            ],
            [
             0.7777777777777778,
             "#fb9f3a"
            ],
            [
             0.8888888888888888,
             "#fdca26"
            ],
            [
             1,
             "#f0f921"
            ]
           ],
           "sequentialminus": [
            [
             0,
             "#0d0887"
            ],
            [
             0.1111111111111111,
             "#46039f"
            ],
            [
             0.2222222222222222,
             "#7201a8"
            ],
            [
             0.3333333333333333,
             "#9c179e"
            ],
            [
             0.4444444444444444,
             "#bd3786"
            ],
            [
             0.5555555555555556,
             "#d8576b"
            ],
            [
             0.6666666666666666,
             "#ed7953"
            ],
            [
             0.7777777777777778,
             "#fb9f3a"
            ],
            [
             0.8888888888888888,
             "#fdca26"
            ],
            [
             1,
             "#f0f921"
            ]
           ]
          },
          "colorway": [
           "#636efa",
           "#EF553B",
           "#00cc96",
           "#ab63fa",
           "#FFA15A",
           "#19d3f3",
           "#FF6692",
           "#B6E880",
           "#FF97FF",
           "#FECB52"
          ],
          "font": {
           "color": "#2a3f5f"
          },
          "geo": {
           "bgcolor": "white",
           "lakecolor": "white",
           "landcolor": "white",
           "showlakes": true,
           "showland": true,
           "subunitcolor": "#C8D4E3"
          },
          "hoverlabel": {
           "align": "left"
          },
          "hovermode": "closest",
          "mapbox": {
           "style": "light"
          },
          "paper_bgcolor": "white",
          "plot_bgcolor": "white",
          "polar": {
           "angularaxis": {
            "gridcolor": "#EBF0F8",
            "linecolor": "#EBF0F8",
            "ticks": ""
           },
           "bgcolor": "white",
           "radialaxis": {
            "gridcolor": "#EBF0F8",
            "linecolor": "#EBF0F8",
            "ticks": ""
           }
          },
          "scene": {
           "xaxis": {
            "backgroundcolor": "white",
            "gridcolor": "#DFE8F3",
            "gridwidth": 2,
            "linecolor": "#EBF0F8",
            "showbackground": true,
            "ticks": "",
            "zerolinecolor": "#EBF0F8"
           },
           "yaxis": {
            "backgroundcolor": "white",
            "gridcolor": "#DFE8F3",
            "gridwidth": 2,
            "linecolor": "#EBF0F8",
            "showbackground": true,
            "ticks": "",
            "zerolinecolor": "#EBF0F8"
           },
           "zaxis": {
            "backgroundcolor": "white",
            "gridcolor": "#DFE8F3",
            "gridwidth": 2,
            "linecolor": "#EBF0F8",
            "showbackground": true,
            "ticks": "",
            "zerolinecolor": "#EBF0F8"
           }
          },
          "shapedefaults": {
           "line": {
            "color": "#2a3f5f"
           }
          },
          "ternary": {
           "aaxis": {
            "gridcolor": "#DFE8F3",
            "linecolor": "#A2B1C6",
            "ticks": ""
           },
           "baxis": {
            "gridcolor": "#DFE8F3",
            "linecolor": "#A2B1C6",
            "ticks": ""
           },
           "bgcolor": "white",
           "caxis": {
            "gridcolor": "#DFE8F3",
            "linecolor": "#A2B1C6",
            "ticks": ""
           }
          },
          "title": {
           "x": 0.05
          },
          "xaxis": {
           "automargin": true,
           "gridcolor": "#EBF0F8",
           "linecolor": "#EBF0F8",
           "ticks": "",
           "title": {
            "standoff": 15
           },
           "zerolinecolor": "#EBF0F8",
           "zerolinewidth": 2
          },
          "yaxis": {
           "automargin": true,
           "gridcolor": "#EBF0F8",
           "linecolor": "#EBF0F8",
           "ticks": "",
           "title": {
            "standoff": 15
           },
           "zerolinecolor": "#EBF0F8",
           "zerolinewidth": 2
          }
         }
        },
        "title": {
         "text": "Course Rating vs Enrollments (Without Outliers)"
        },
        "xaxis": {
         "anchor": "y",
         "domain": [
          0,
          1
         ],
         "title": {
          "text": "Rating"
         }
        },
        "yaxis": {
         "anchor": "x",
         "domain": [
          0,
          1
         ],
         "title": {
          "text": "Enrolled Students"
         }
        }
       }
      }
     },
     "metadata": {},
     "output_type": "display_data"
    }
   ],
   "source": [
    "# Calculate IQR for 'course_students_enrolled'\n",
    "Q1 = df[\"course_students_enrolled\"].quantile(0.25)\n",
    "Q3 = df[\"course_students_enrolled\"].quantile(0.75)\n",
    "IQR = Q3 - Q1\n",
    "\n",
    "lower_bound = Q1 - 1.5 * IQR\n",
    "upper_bound = Q3 + 1.5 * IQR\n",
    "\n",
    "# Filter out outliers\n",
    "df_filtered = df[\n",
    "    (df[\"course_students_enrolled\"] >= lower_bound)\n",
    "    & (df[\"course_students_enrolled\"] <= upper_bound)\n",
    "]\n",
    "\n",
    "# \\Create the scatter plot with trendline\n",
    "fig = px.scatter(\n",
    "    df_filtered,\n",
    "    x=\"course_rating\",\n",
    "    y=\"course_students_enrolled\",\n",
    "    trendline=\"ols\",\n",
    "    title=\"Course Rating vs Enrollments (Without Outliers)\",\n",
    "    labels={\"course_rating\": \"Rating\", \"course_students_enrolled\": \"Enrolled Students\"},\n",
    "    opacity=0.7,\n",
    "    template=\"plotly_white\",\n",
    ")\n",
    "\n",
    "fig.show()"
   ]
  },
  {
   "cell_type": "markdown",
   "metadata": {},
   "source": [
    "the scatterplot confirms that there is positive correlation between rating and amount of students but it's quite weak. "
   ]
  },
  {
   "cell_type": "markdown",
   "metadata": {},
   "source": [
    "Hypothesis 2: The biggest target audience is beginners\n",
    "\n",
    "Rationale: Online learning platforms like Coursera aim to make education accessible. As a result, many users may be just starting their learning journey. This could encourage organizations to create more beginner-level courses to attract a wider audience.\n",
    "\n",
    "Approach:\n",
    "- Count how many courses fall under each course_difficulty level.\n",
    "- Visualize the results using a bar chart.\n",
    "- compare average enrollments per difficulty level to see if beginner courses are also more popular.\n",
    "\n",
    "Expected Outcome:\n",
    "We expect to find that a large proportion of courses are labeled as Beginner, indicating they are designed for people new to the subject."
   ]
  },
  {
   "cell_type": "code",
   "execution_count": null,
   "metadata": {},
   "outputs": [
    {
     "data": {
      "image/png": "[encoded data removed]",
      "text/plain": [
       "<Figure size 640x480 with 1 Axes>"
      ]
     },
     "metadata": {},
     "output_type": "display_data"
    }
   ],
   "source": [
    "sns.countplot(\n",
    "    data=df, x=\"course_difficulty\", order=df[\"course_difficulty\"].value_counts().index\n",
    ")\n",
    "plt.title(\"Course Difficulty Distribution\")\n",
    "plt.xlabel(\"Difficulty Level\")\n",
    "plt.ylabel(\"Number of Courses\")\n",
    "plt.show()"
   ]
  },
  {
   "cell_type": "code",
   "execution_count": null,
   "metadata": {},
   "outputs": [
    {
     "name": "stderr",
     "output_type": "stream",
     "text": [
      "C:\\Users\\Dell\\AppData\\Local\\Temp\\ipykernel_16440\\3085089407.py:4: FutureWarning:\n",
      "\n",
      "\n",
      "\n",
      "Passing `palette` without assigning `hue` is deprecated and will be removed in v0.14.0. Assign the `x` variable to `hue` and set `legend=False` for the same effect.\n",
      "\n",
      "\n"
     ]
    },
    {
     "data": {
      "image/png": "[encoded data removed]",
      "text/plain": [
       "<Figure size 800x500 with 1 Axes>"
      ]
     },
     "metadata": {},
     "output_type": "display_data"
    }
   ],
   "source": [
    "avg_enroll = (\n",
    "    df.groupby(\"course_difficulty\")[\"course_students_enrolled\"].mean().reset_index()\n",
    ")\n",
    "\n",
    "plt.figure(figsize=(8, 5))\n",
    "sns.barplot(\n",
    "    data=avg_enroll,\n",
    "    x=\"course_difficulty\",\n",
    "    y=\"course_students_enrolled\",\n",
    "    palette=\"Purples\",\n",
    ")\n",
    "\n",
    "plt.title(\"Average Students Enrolled by Difficulty Level\")\n",
    "plt.xlabel(\"Difficulty Level\")\n",
    "plt.ylabel(\"Average Number of Students\")\n",
    "plt.tight_layout()\n",
    "plt.show()"
   ]
  },
  {
   "cell_type": "markdown",
   "metadata": {},
   "source": [
    "THe hypothesis is confirmed by the first visualization (the biggest amount of courses is dedicated for beginners) while the second visualization shows that the most students on average are enrolled in the mixed difficulty courses. "
   ]
  },
  {
   "cell_type": "markdown",
   "metadata": {},
   "source": [
    "Hypothesis 3:\n",
    "Courses offering certificates tend to have higher enrollments on average.\n",
    "\n",
    "Rationale:\n",
    "Certificates can be important to learners — especially for career-related courses. Learners might be more likely to enroll in and rate higher those courses that offer a certificate upon completion. Employers also value certificates, which may drive more interest in such courses.\n",
    "\n",
    "Approach:\n",
    "- Group the dataset by course_Certificate_type.\n",
    "- Calculate the average course_rating and course_students_enrolled for each certificate type.\n",
    "- Visualize the results using bar charts to compare certificate types side by side."
   ]
  },
  {
   "cell_type": "code",
   "execution_count": null,
   "metadata": {},
   "outputs": [
    {
     "data": {
      "application/vnd.plotly.v1+json": {
       "config": {
        "plotlyServerURL": "https://plot.ly"
       },
       "data": [
        {
         "alignmentgroup": "True",
         "hovertemplate": "Certificate Type=%{x}<br>Average Enrolled=%{marker.color}<extra></extra>",
         "legendgroup": "",
         "marker": {
          "color": [
           87854.46735395188,
           190700,
           91791.9191919192
          ],
          "coloraxis": "coloraxis",
          "pattern": {
           "shape": ""
          }
         },
         "name": "",
         "offsetgroup": "",
         "orientation": "v",
         "showlegend": false,
         "text": [
          87854.46735395188,
          190700,
          91791.9191919192
         ],
         "textposition": "auto",
         "type": "bar",
         "x": [
          "COURSE",
          "PROFESSIONAL CERTIFICATE",
          "SPECIALIZATION"
         ],
         "xaxis": "x",
         "y": [
          87854.46735395188,
          190700,
          91791.9191919192
         ],
         "yaxis": "y"
        }
       ],
       "layout": {
        "barmode": "relative",
        "coloraxis": {
         "colorbar": {
          "title": {
           "text": "Average Enrolled"
          }
         },
         "colorscale": [
          [
           0,
           "rgb(176, 242, 188)"
          ],
          [
           0.16666666666666666,
           "rgb(137, 232, 172)"
          ],
          [
           0.3333333333333333,
           "rgb(103, 219, 165)"
          ],
          [
           0.5,
           "rgb(76, 200, 163)"
          ],
          [
           0.6666666666666666,
           "rgb(56, 178, 163)"
          ],
          [
           0.8333333333333334,
           "rgb(44, 152, 160)"
          ],
          [
           1,
           "rgb(37, 125, 152)"
          ]
         ]
        },
        "legend": {
         "tracegroupgap": 0
        },
        "template": {
         "data": {
          "bar": [
           {
            "error_x": {
             "color": "#2a3f5f"
            },
            "error_y": {
             "color": "#2a3f5f"
            },
            "marker": {
             "line": {
              "color": "white",
              "width": 0.5
             },
             "pattern": {
              "fillmode": "overlay",
              "size": 10,
              "solidity": 0.2
             }
            },
            "type": "bar"
           }
          ],
          "barpolar": [
           {
            "marker": {
             "line": {
              "color": "white",
              "width": 0.5
             },
             "pattern": {
              "fillmode": "overlay",
              "size": 10,
              "solidity": 0.2
             }
            },
            "type": "barpolar"
           }
          ],
          "carpet": [
           {
            "aaxis": {
             "endlinecolor": "#2a3f5f",
             "gridcolor": "#C8D4E3",
             "linecolor": "#C8D4E3",
             "minorgridcolor": "#C8D4E3",
             "startlinecolor": "#2a3f5f"
            },
            "baxis": {
             "endlinecolor": "#2a3f5f",
             "gridcolor": "#C8D4E3",
             "linecolor": "#C8D4E3",
             "minorgridcolor": "#C8D4E3",
             "startlinecolor": "#2a3f5f"
            },
            "type": "carpet"
           }
          ],
          "choropleth": [
           {
            "colorbar": {
             "outlinewidth": 0,
             "ticks": ""
            },
            "type": "choropleth"
           }
          ],
          "contour": [
           {
            "colorbar": {
             "outlinewidth": 0,
             "ticks": ""
            },
            "colorscale": [
             [
              0,
              "#0d0887"
             ],
             [
              0.1111111111111111,
              "#46039f"
             ],
             [
              0.2222222222222222,
              "#7201a8"
             ],
             [
              0.3333333333333333,
              "#9c179e"
             ],
             [
              0.4444444444444444,
              "#bd3786"
             ],
             [
              0.5555555555555556,
              "#d8576b"
             ],
             [
              0.6666666666666666,
              "#ed7953"
             ],
             [
              0.7777777777777778,
              "#fb9f3a"
             ],
             [
              0.8888888888888888,
              "#fdca26"
             ],
             [
              1,
              "#f0f921"
             ]
            ],
            "type": "contour"
           }
          ],
          "contourcarpet": [
           {
            "colorbar": {
             "outlinewidth": 0,
             "ticks": ""
            },
            "type": "contourcarpet"
           }
          ],
          "heatmap": [
           {
            "colorbar": {
             "outlinewidth": 0,
             "ticks": ""
            },
            "colorscale": [
             [
              0,
              "#0d0887"
             ],
             [
              0.1111111111111111,
              "#46039f"
             ],
             [
              0.2222222222222222,
              "#7201a8"
             ],
             [
              0.3333333333333333,
              "#9c179e"
             ],
             [
              0.4444444444444444,
              "#bd3786"
             ],
             [
              0.5555555555555556,
              "#d8576b"
             ],
             [
              0.6666666666666666,
              "#ed7953"
             ],
             [
              0.7777777777777778,
              "#fb9f3a"
             ],
             [
              0.8888888888888888,
              "#fdca26"
             ],
             [
              1,
              "#f0f921"
             ]
            ],
            "type": "heatmap"
           }
          ],
          "heatmapgl": [
           {
            "colorbar": {
             "outlinewidth": 0,
             "ticks": ""
            },
            "colorscale": [
             [
              0,
              "#0d0887"
             ],
             [
              0.1111111111111111,
              "#46039f"
             ],
             [
              0.2222222222222222,
              "#7201a8"
             ],
             [
              0.3333333333333333,
              "#9c179e"
             ],
             [
              0.4444444444444444,
              "#bd3786"
             ],
             [
              0.5555555555555556,
              "#d8576b"
             ],
             [
              0.6666666666666666,
              "#ed7953"
             ],
             [
              0.7777777777777778,
              "#fb9f3a"
             ],
             [
              0.8888888888888888,
              "#fdca26"
             ],
             [
              1,
              "#f0f921"
             ]
            ],
            "type": "heatmapgl"
           }
          ],
          "histogram": [
           {
            "marker": {
             "pattern": {
              "fillmode": "overlay",
              "size": 10,
              "solidity": 0.2
             }
            },
            "type": "histogram"
           }
          ],
          "histogram2d": [
           {
            "colorbar": {
             "outlinewidth": 0,
             "ticks": ""
            },
            "colorscale": [
             [
              0,
              "#0d0887"
             ],
             [
              0.1111111111111111,
              "#46039f"
             ],
             [
              0.2222222222222222,
              "#7201a8"
             ],
             [
              0.3333333333333333,
              "#9c179e"
             ],
             [
              0.4444444444444444,
              "#bd3786"
             ],
             [
              0.5555555555555556,
              "#d8576b"
             ],
             [
              0.6666666666666666,
              "#ed7953"
             ],
             [
              0.7777777777777778,
              "#fb9f3a"
             ],
             [
              0.8888888888888888,
              "#fdca26"
             ],
             [
              1,
              "#f0f921"
             ]
            ],
            "type": "histogram2d"
           }
          ],
          "histogram2dcontour": [
           {
            "colorbar": {
             "outlinewidth": 0,
             "ticks": ""
            },
            "colorscale": [
             [
              0,
              "#0d0887"
             ],
             [
              0.1111111111111111,
              "#46039f"
             ],
             [
              0.2222222222222222,
              "#7201a8"
             ],
             [
              0.3333333333333333,
              "#9c179e"
             ],
             [
              0.4444444444444444,
              "#bd3786"
             ],
             [
              0.5555555555555556,
              "#d8576b"
             ],
             [
              0.6666666666666666,
              "#ed7953"
             ],
             [
              0.7777777777777778,
              "#fb9f3a"
             ],
             [
              0.8888888888888888,
              "#fdca26"
             ],
             [
              1,
              "#f0f921"
             ]
            ],
            "type": "histogram2dcontour"
           }
          ],
          "mesh3d": [
           {
            "colorbar": {
             "outlinewidth": 0,
             "ticks": ""
            },
            "type": "mesh3d"
           }
          ],
          "parcoords": [
           {
            "line": {
             "colorbar": {
              "outlinewidth": 0,
              "ticks": ""
             }
            },
            "type": "parcoords"
           }
          ],
          "pie": [
           {
            "automargin": true,
            "type": "pie"
           }
          ],
          "scatter": [
           {
            "fillpattern": {
             "fillmode": "overlay",
             "size": 10,
             "solidity": 0.2
            },
            "type": "scatter"
           }
          ],
          "scatter3d": [
           {
            "line": {
             "colorbar": {
              "outlinewidth": 0,
              "ticks": ""
             }
            },
            "marker": {
             "colorbar": {
              "outlinewidth": 0,
              "ticks": ""
             }
            },
            "type": "scatter3d"
           }
          ],
          "scattercarpet": [
           {
            "marker": {
             "colorbar": {
              "outlinewidth": 0,
              "ticks": ""
             }
            },
            "type": "scattercarpet"
           }
          ],
          "scattergeo": [
           {
            "marker": {
             "colorbar": {
              "outlinewidth": 0,
              "ticks": ""
             }
            },
            "type": "scattergeo"
           }
          ],
          "scattergl": [
           {
            "marker": {
             "colorbar": {
              "outlinewidth": 0,
              "ticks": ""
             }
            },
            "type": "scattergl"
           }
          ],
          "scattermapbox": [
           {
            "marker": {
             "colorbar": {
              "outlinewidth": 0,
              "ticks": ""
             }
            },
            "type": "scattermapbox"
           }
          ],
          "scatterpolar": [
           {
            "marker": {
             "colorbar": {
              "outlinewidth": 0,
              "ticks": ""
             }
            },
            "type": "scatterpolar"
           }
          ],
          "scatterpolargl": [
           {
            "marker": {
             "colorbar": {
              "outlinewidth": 0,
              "ticks": ""
             }
            },
            "type": "scatterpolargl"
           }
          ],
          "scatterternary": [
           {
            "marker": {
             "colorbar": {
              "outlinewidth": 0,
              "ticks": ""
             }
            },
            "type": "scatterternary"
           }
          ],
          "surface": [
           {
            "colorbar": {
             "outlinewidth": 0,
             "ticks": ""
            },
            "colorscale": [
             [
              0,
              "#0d0887"
             ],
             [
              0.1111111111111111,
              "#46039f"
             ],
             [
              0.2222222222222222,
              "#7201a8"
             ],
             [
              0.3333333333333333,
              "#9c179e"
             ],
             [
              0.4444444444444444,
              "#bd3786"
             ],
             [
              0.5555555555555556,
              "#d8576b"
             ],
             [
              0.6666666666666666,
              "#ed7953"
             ],
             [
              0.7777777777777778,
              "#fb9f3a"
             ],
             [
              0.8888888888888888,
              "#fdca26"
             ],
             [
              1,
              "#f0f921"
             ]
            ],
            "type": "surface"
           }
          ],
          "table": [
           {
            "cells": {
             "fill": {
              "color": "#EBF0F8"
             },
             "line": {
              "color": "white"
             }
            },
            "header": {
             "fill": {
              "color": "#C8D4E3"
             },
             "line": {
              "color": "white"
             }
            },
            "type": "table"
           }
          ]
         },
         "layout": {
          "annotationdefaults": {
           "arrowcolor": "#2a3f5f",
           "arrowhead": 0,
           "arrowwidth": 1
          },
          "autotypenumbers": "strict",
          "coloraxis": {
           "colorbar": {
            "outlinewidth": 0,
            "ticks": ""
           }
          },
          "colorscale": {
           "diverging": [
            [
             0,
             "#8e0152"
            ],
            [
             0.1,
             "#c51b7d"
            ],
            [
             0.2,
             "#de77ae"
            ],
            [
             0.3,
             "#f1b6da"
            ],
            [
             0.4,
             "#fde0ef"
            ],
            [
             0.5,
             "#f7f7f7"
            ],
            [
             0.6,
             "#e6f5d0"
            ],
            [
             0.7,
             "#b8e186"
            ],
            [
             0.8,
             "#7fbc41"
            ],
            [
             0.9,
             "#4d9221"
            ],
            [
             1,
             "#276419"
            ]
           ],
           "sequential": [
            [
             0,
             "#0d0887"
            ],
            [
             0.1111111111111111,
             "#46039f"
            ],
            [
             0.2222222222222222,
             "#7201a8"
            ],
            [
             0.3333333333333333,
             "#9c179e"
            ],
            [
             0.4444444444444444,
             "#bd3786"
            ],
            [
             0.5555555555555556,
             "#d8576b"
            ],
            [
             0.6666666666666666,
             "#ed7953"
            ],
            [
             0.7777777777777778,
             "#fb9f3a"
            ],
            [
             0.8888888888888888,
             "#fdca26"
            ],
            [
             1,
             "#f0f921"
            ]
           ],
           "sequentialminus": [
            [
             0,
             "#0d0887"
            ],
            [
             0.1111111111111111,
             "#46039f"
            ],
            [
             0.2222222222222222,
             "#7201a8"
            ],
            [
             0.3333333333333333,
             "#9c179e"
            ],
            [
             0.4444444444444444,
             "#bd3786"
            ],
            [
             0.5555555555555556,
             "#d8576b"
            ],
            [
             0.6666666666666666,
             "#ed7953"
            ],
            [
             0.7777777777777778,
             "#fb9f3a"
            ],
            [
             0.8888888888888888,
             "#fdca26"
            ],
            [
             1,
             "#f0f921"
            ]
           ]
          },
          "colorway": [
           "#636efa",
           "#EF553B",
           "#00cc96",
           "#ab63fa",
           "#FFA15A",
           "#19d3f3",
           "#FF6692",
           "#B6E880",
           "#FF97FF",
           "#FECB52"
          ],
          "font": {
           "color": "#2a3f5f"
          },
          "geo": {
           "bgcolor": "white",
           "lakecolor": "white",
           "landcolor": "white",
           "showlakes": true,
           "showland": true,
           "subunitcolor": "#C8D4E3"
          },
          "hoverlabel": {
           "align": "left"
          },
          "hovermode": "closest",
          "mapbox": {
           "style": "light"
          },
          "paper_bgcolor": "white",
          "plot_bgcolor": "white",
          "polar": {
           "angularaxis": {
            "gridcolor": "#EBF0F8",
            "linecolor": "#EBF0F8",
            "ticks": ""
           },
           "bgcolor": "white",
           "radialaxis": {
            "gridcolor": "#EBF0F8",
            "linecolor": "#EBF0F8",
            "ticks": ""
           }
          },
          "scene": {
           "xaxis": {
            "backgroundcolor": "white",
            "gridcolor": "#DFE8F3",
            "gridwidth": 2,
            "linecolor": "#EBF0F8",
            "showbackground": true,
            "ticks": "",
            "zerolinecolor": "#EBF0F8"
           },
           "yaxis": {
            "backgroundcolor": "white",
            "gridcolor": "#DFE8F3",
            "gridwidth": 2,
            "linecolor": "#EBF0F8",
            "showbackground": true,
            "ticks": "",
            "zerolinecolor": "#EBF0F8"
           },
           "zaxis": {
            "backgroundcolor": "white",
            "gridcolor": "#DFE8F3",
            "gridwidth": 2,
            "linecolor": "#EBF0F8",
            "showbackground": true,
            "ticks": "",
            "zerolinecolor": "#EBF0F8"
           }
          },
          "shapedefaults": {
           "line": {
            "color": "#2a3f5f"
           }
          },
          "ternary": {
           "aaxis": {
            "gridcolor": "#DFE8F3",
            "linecolor": "#A2B1C6",
            "ticks": ""
           },
           "baxis": {
            "gridcolor": "#DFE8F3",
            "linecolor": "#A2B1C6",
            "ticks": ""
           },
           "bgcolor": "white",
           "caxis": {
            "gridcolor": "#DFE8F3",
            "linecolor": "#A2B1C6",
            "ticks": ""
           }
          },
          "title": {
           "x": 0.05
          },
          "xaxis": {
           "automargin": true,
           "gridcolor": "#EBF0F8",
           "linecolor": "#EBF0F8",
           "ticks": "",
           "title": {
            "standoff": 15
           },
           "zerolinecolor": "#EBF0F8",
           "zerolinewidth": 2
          },
          "yaxis": {
           "automargin": true,
           "gridcolor": "#EBF0F8",
           "linecolor": "#EBF0F8",
           "ticks": "",
           "title": {
            "standoff": 15
           },
           "zerolinecolor": "#EBF0F8",
           "zerolinewidth": 2
          }
         }
        },
        "title": {
         "text": "Average Student Enrollment by Certificate Type"
        },
        "xaxis": {
         "anchor": "y",
         "domain": [
          0,
          1
         ],
         "title": {
          "text": "Certificate Type"
         }
        },
        "yaxis": {
         "anchor": "x",
         "domain": [
          0,
          1
         ],
         "title": {
          "text": "Average Number of Students Enrolled"
         }
        }
       }
      }
     },
     "metadata": {},
     "output_type": "display_data"
    }
   ],
   "source": [
    "avg_enrollment = (\n",
    "    df.groupby(\"course_Certificate_type\")[\"course_students_enrolled\"]\n",
    "    .mean()\n",
    "    .reset_index()\n",
    "    .rename(\n",
    "        columns={\n",
    "            \"course_Certificate_type\": \"Certificate Type\",\n",
    "            \"course_students_enrolled\": \"Average Enrolled\",\n",
    "        }\n",
    "    )\n",
    ")\n",
    "\n",
    "fig = px.bar(\n",
    "    avg_enrollment,\n",
    "    x=\"Certificate Type\",\n",
    "    y=\"Average Enrolled\",\n",
    "    title=\"Average Student Enrollment by Certificate Type\",\n",
    "    text=\"Average Enrolled\",\n",
    "    color=\"Average Enrolled\",\n",
    "    color_continuous_scale=\"Tealgrn\",\n",
    "    template=\"plotly_white\",\n",
    ")\n",
    "\n",
    "fig.update_layout(\n",
    "    yaxis_title=\"Average Number of Students Enrolled\", xaxis_title=\"Certificate Type\"\n",
    ")\n",
    "\n",
    "fig.show()"
   ]
  },
  {
   "cell_type": "markdown",
   "metadata": {},
   "source": [
    "We see that on average courses with professional certificate attract more enrollments. The hypothesis is confirmed. "
   ]
  },
  {
   "cell_type": "markdown",
   "metadata": {},
   "source": []
  }
 ],
 "metadata": {
  "kernelspec": {
   "display_name": "base",
   "language": "python",
   "name": "python3"
  },
  "language_info": {
   "codemirror_mode": {
    "name": "ipython",
    "version": 3
   },
   "file_extension": ".py",
   "mimetype": "text/x-python",
   "name": "python",
   "nbconvert_exporter": "python",
   "pygments_lexer": "ipython3",
   "version": "3.12.7"
  }
 },
 "nbformat": 4,
 "nbformat_minor": 2
}
